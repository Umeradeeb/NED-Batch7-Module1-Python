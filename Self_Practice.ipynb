{
 "cells": [
  {
   "cell_type": "markdown",
   "id": "88edad2e-43b1-4a98-af00-7cef29cf2126",
   "metadata": {},
   "source": [
    "# ***Write a program that takes a list of tuples as input, where each tuple contains a student's name and their score in a test. The program should find and print the name of the student with the highest score.***"
   ]
  },
  {
   "cell_type": "code",
   "execution_count": 34,
   "id": "19ebeb27-ce2c-441d-86da-7f901835bc8e",
   "metadata": {},
   "outputs": [
    {
     "name": "stdin",
     "output_type": "stream",
     "text": [
      "Enter name: umer\n",
      "Enter score: 90\n"
     ]
    },
    {
     "name": "stdout",
     "output_type": "stream",
     "text": [
      "('umer', 90.0)\n"
     ]
    },
    {
     "name": "stdin",
     "output_type": "stream",
     "text": [
      "Enter name: amna\n",
      "Enter score: 90\n"
     ]
    },
    {
     "name": "stdout",
     "output_type": "stream",
     "text": [
      "('amna', 90.0)\n",
      "Total students with score [('umer', 90.0), ('amna', 90.0)]\n",
      "('umer', 90.0) obtain higher score\n",
      "('umer', 90.0) obtain higher score\n"
     ]
    }
   ],
   "source": [
    "student1 =()\n",
    "name = input('Enter name:')\n",
    "score= float(input('Enter score:'))\n",
    "student1 = (name, score)\n",
    "print(student1)\n",
    "\n",
    "\n",
    "student2 =()\n",
    "name = input ('Enter name:')\n",
    "score = float(input('Enter score:'))\n",
    "student2 = (name, score)\n",
    "print(student2)\n",
    "\n",
    "batch=[]\n",
    "batch.append(student1)\n",
    "batch.append(student2)\n",
    "print('Total students with score',batch)\n",
    "\n",
    "for i in batch:\n",
    "    if batch[0]<batch[1]:\n",
    "        print(batch[1],'obtain higher score')\n",
    "    elif batch[0]>batch[1]:\n",
    "        print(batch[0],'obtain higher score')\n",
    "    else:\n",
    "        print('Both obtain same score')\n",
    "\n",
    "\n"
   ]
  },
  {
   "cell_type": "code",
   "execution_count": 38,
   "id": "105412b5-c792-4314-aebd-2e431dcee7f4",
   "metadata": {},
   "outputs": [
    {
     "name": "stdout",
     "output_type": "stream",
     "text": [
      "<class 'list'>\n",
      "Amna\n"
     ]
    }
   ],
   "source": [
    "list = [('Umer',90),('Amna',95)]\n",
    "print(type(list))\n",
    "# print(list[1])\n",
    "\n",
    "for i in list:\n",
    "    i = list[1][0]\n",
    "print(i)"
   ]
  },
  {
   "cell_type": "markdown",
   "id": "f538fa12-f912-4a53-9d5e-909902052499",
   "metadata": {},
   "source": [
    "# ***Given a list of tuples representing (x, y) coordinates, write a program to calculate the distance between each pair of coordinates and store the distances in a list.***"
   ]
  },
  {
   "cell_type": "code",
   "execution_count": null,
   "id": "879dbd98-f9bc-4178-866f-40db13a48e82",
   "metadata": {},
   "outputs": [],
   "source": []
  },
  {
   "cell_type": "markdown",
   "id": "67cbd366-e7e8-416e-ae67-564c127f6463",
   "metadata": {},
   "source": [
    "# ***Write a program that takes a dictionary of words and their frequencies as input. The program should find and print the word with the highest frequency.***"
   ]
  },
  {
   "cell_type": "code",
   "execution_count": null,
   "id": "602ffdb4-43c9-4159-89a3-67d3279c9857",
   "metadata": {},
   "outputs": [],
   "source": []
  },
  {
   "cell_type": "markdown",
   "id": "10165763-6fc5-420c-9842-f9013cd1d7fc",
   "metadata": {},
   "source": [
    "# ***Given a list of dictionaries where each dictionary represents a person's information (name, age, city), write a program to find and print the name of the oldest person.***"
   ]
  },
  {
   "cell_type": "code",
   "execution_count": 66,
   "id": "f4f824d3-7a21-41e1-975f-467a767e5f5b",
   "metadata": {},
   "outputs": [
    {
     "name": "stdout",
     "output_type": "stream",
     "text": [
      "Umer and Amna are same in age\n"
     ]
    }
   ],
   "source": [
    "person1 = {\"Name\":\"Umer\", \"age\":\"23\", \"city\":\"Karachi\"}\n",
    "person2 = {\"Name\":\"Amna\", \"age\":\"23\", \"city\":\"Karachi\"}\n",
    "\n",
    "list = [person1, person2]\n",
    "# print(list)\n",
    "\n",
    "if person1['age']>person2['age']:\n",
    "    print(person1['Name'],'is older')\n",
    "elif person1['age']<person2['age']:\n",
    "    print(person2['Name'],'is older')\n",
    "else:\n",
    "    print(person1['Name'], 'and', person2['Name'], 'are same in age')\n",
    "        "
   ]
  },
  {
   "cell_type": "code",
   "execution_count": 53,
   "id": "cd3477a7-dba6-407b-a78b-f1d900e21cc5",
   "metadata": {},
   "outputs": [
    {
     "data": {
      "text/plain": [
       "'Umer'"
      ]
     },
     "execution_count": 53,
     "metadata": {},
     "output_type": "execute_result"
    }
   ],
   "source": [
    "person1 = {\"Name\":\"Umer\", \"age\":\"29\", \"city\":\"Karachi\"}\n",
    "person1['Name']"
   ]
  },
  {
   "cell_type": "code",
   "execution_count": 18,
   "id": "51dc6ef5-8e04-4581-9ec0-f4d7ff36a0c8",
   "metadata": {},
   "outputs": [
    {
     "name": "stdout",
     "output_type": "stream",
     "text": [
      "[19, 19, 20, 22, 24, 24, 24, 25, 25, 26]\n",
      "24.0\n"
     ]
    }
   ],
   "source": [
    "#Find the median age (one middle item or two middle items divided by two)\n",
    "ages = [19, 22, 19, 24, 20, 25, 26, 24, 25, 24]\n",
    "ages.sort()\n",
    "print(ages)\n",
    "n = len(ages)\n",
    "if n % 2 ==1:\n",
    "    median_age = ages[n//2]\n",
    "else:\n",
    "    median_age = (ages[n//2+1] + ages[n//2]) / 2\n",
    "print(median_age)"
   ]
  },
  {
   "cell_type": "code",
   "execution_count": 30,
   "id": "384aace8-76da-4791-9d74-23f56ca0d030",
   "metadata": {},
   "outputs": [
    {
     "name": "stdout",
     "output_type": "stream",
     "text": [
      "Total Numbers 10\n",
      "Sum of numbers 228\n",
      "The average age is 22.8\n"
     ]
    }
   ],
   "source": [
    "# Find the average age (sum of all items divided by their number )\n",
    "ages = [19, 22, 19, 24, 20, 25, 26, 24, 25, 24] \n",
    "total = len(ages)\n",
    "print('Total Numbers',total)\n",
    "sum=0\n",
    "for i in ages:\n",
    "    sum+=i\n",
    "print('Sum of numbers',sum)\n",
    "\n",
    "average = sum / total\n",
    "print('The average age is', average)"
   ]
  },
  {
   "cell_type": "code",
   "execution_count": 37,
   "id": "ccc1eddb-d836-4fb1-9ef2-983569eb83be",
   "metadata": {},
   "outputs": [
    {
     "ename": "TypeError",
     "evalue": "'int' object is not callable",
     "output_type": "error",
     "traceback": [
      "\u001b[1;31m---------------------------------------------------------------------------\u001b[0m",
      "\u001b[1;31mTypeError\u001b[0m                                 Traceback (most recent call last)",
      "Cell \u001b[1;32mIn[37], line 4\u001b[0m\n\u001b[0;32m      1\u001b[0m \u001b[38;5;66;03m# Find the range of the ages (max minus min)\u001b[39;00m\n\u001b[0;32m      2\u001b[0m ages \u001b[38;5;241m=\u001b[39m [\u001b[38;5;241m19\u001b[39m, \u001b[38;5;241m22\u001b[39m, \u001b[38;5;241m19\u001b[39m, \u001b[38;5;241m24\u001b[39m, \u001b[38;5;241m20\u001b[39m, \u001b[38;5;241m25\u001b[39m, \u001b[38;5;241m26\u001b[39m, \u001b[38;5;241m24\u001b[39m, \u001b[38;5;241m25\u001b[39m, \u001b[38;5;241m24\u001b[39m] \n\u001b[1;32m----> 4\u001b[0m maxi \u001b[38;5;241m=\u001b[39m \u001b[38;5;28mmax\u001b[39m(ages)\n\u001b[0;32m      5\u001b[0m \u001b[38;5;28mprint\u001b[39m(maxi)\n\u001b[0;32m      6\u001b[0m mini \u001b[38;5;241m=\u001b[39m \u001b[38;5;28mmin\u001b[39m(ages)\n",
      "\u001b[1;31mTypeError\u001b[0m: 'int' object is not callable"
     ]
    }
   ],
   "source": [
    "# Find the range of the ages (max minus min)\n",
    "ages = [19, 22, 19, 24, 20, 25, 26, 24, 25, 24] \n",
    "\n",
    "\n",
    "# maxi = max(ages)\n",
    "# print(maxi)\n",
    "# mini = min(ages)\n",
    "# print(mini)"
   ]
  },
  {
   "cell_type": "code",
   "execution_count": null,
   "id": "1724167a-2611-4d68-8599-d7ef4d9e5ed1",
   "metadata": {},
   "outputs": [],
   "source": []
  }
 ],
 "metadata": {
  "kernelspec": {
   "display_name": "Python 3 (ipykernel)",
   "language": "python",
   "name": "python3"
  },
  "language_info": {
   "codemirror_mode": {
    "name": "ipython",
    "version": 3
   },
   "file_extension": ".py",
   "mimetype": "text/x-python",
   "name": "python",
   "nbconvert_exporter": "python",
   "pygments_lexer": "ipython3",
   "version": "3.11.7"
  }
 },
 "nbformat": 4,
 "nbformat_minor": 5
}
