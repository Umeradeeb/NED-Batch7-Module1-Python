{
 "cells": [
  {
   "cell_type": "markdown",
   "id": "9d39a585-5119-49ce-91c7-ae51f47862f3",
   "metadata": {},
   "source": [
    "### ***Your task for this week is to develop a program called \"Coffee Maker.\" To complete this project, you must use user-defined functions.***"
   ]
  },
  {
   "cell_type": "code",
   "execution_count": 13,
   "id": "ca3a2f35-edb9-40e5-9ec9-d16e0310eed9",
   "metadata": {},
   "outputs": [
    {
     "name": "stdout",
     "output_type": "stream",
     "text": [
      "Welcome to Coffe Shop\n",
      "We are serving: ['Cappuccino', 'Espresso', 'Latte', 'Cold Coffee', 'Black Coffee']\n",
      "What would you want to order?\n"
     ]
    },
    {
     "name": "stdin",
     "output_type": "stream",
     "text": [
      "I want to order: black coffee\n"
     ]
    },
    {
     "name": "stdout",
     "output_type": "stream",
     "text": [
      "We are preparing your black coffee! Please wait\n"
     ]
    },
    {
     "name": "stdin",
     "output_type": "stream",
     "text": [
      "How many spoons of sugar you want to add: 0\n"
     ]
    },
    {
     "name": "stdout",
     "output_type": "stream",
     "text": [
      "Preparing your sugar free black coffee! Please wait\n",
      "Your black coffee is ready! Enjoy!\n"
     ]
    },
    {
     "name": "stdin",
     "output_type": "stream",
     "text": [
      "Do you want to place order again? (yes/no): yes\n"
     ]
    },
    {
     "name": "stdout",
     "output_type": "stream",
     "text": [
      "Welcome to Coffe Shop\n",
      "We are serving: ['Cappuccino', 'Espresso', 'Latte', 'Cold Coffee', 'Black Coffee']\n",
      "What would you want to order?\n"
     ]
    },
    {
     "name": "stdin",
     "output_type": "stream",
     "text": [
      "I want to order: latte\n"
     ]
    },
    {
     "name": "stdout",
     "output_type": "stream",
     "text": [
      "We are preparing your latte! Please wait\n"
     ]
    },
    {
     "name": "stdin",
     "output_type": "stream",
     "text": [
      "How many spoons of sugar you want to add: 1\n"
     ]
    },
    {
     "name": "stdout",
     "output_type": "stream",
     "text": [
      "Adding 1 spoon in your latte! Please wait\n",
      "Your latte is ready! Enjoy!\n"
     ]
    },
    {
     "name": "stdin",
     "output_type": "stream",
     "text": [
      "Do you want to place order again? (yes/no): no\n"
     ]
    },
    {
     "name": "stdout",
     "output_type": "stream",
     "text": [
      "Thank you for ordering! Please visit us again\n"
     ]
    }
   ],
   "source": [
    "def coffeeshop():\n",
    "    print(\"Welcome to Coffe Shop\")\n",
    "    menu = [\"Cappuccino\", \"Espresso\", \"Latte\", \"Cold Coffee\", \"Black Coffee\"]\n",
    "    print(\"We are serving:\",menu)\n",
    "    print(\"What would you want to order?\")\n",
    "    order = input(\"I want to order:\").lower()\n",
    "    if order.lower() in [item.lower() for item in menu]:\n",
    "        print(f\"We are preparing your {order}! Please wait\") \n",
    "    else:\n",
    "        print(\"Currently we are not serving it. Please choose from our menu\")\n",
    "        \n",
    "    def sugar():\n",
    "        sugar_spoon = int(input(\"How many spoons of sugar you want to add:\"))\n",
    "        if sugar_spoon > 1:\n",
    "            print(f\"Adding {sugar_spoon} spoons in your {order}! Please wait\")\n",
    "            print(f\"Your {order} is ready! Enjoy!\")\n",
    "        elif sugar_spoon ==1:\n",
    "            print(f\"Adding {sugar_spoon} spoon in your {order}! Please wait\")\n",
    "            \n",
    "        elif sugar_spoon == 0:\n",
    "            print(f\"Preparing your sugar free {order}! Please wait\")\n",
    "        else:\n",
    "            print(\"invalid selection\")\n",
    "            return sugar()\n",
    "        print(f\"Your {order} is ready! Enjoy!\")\n",
    "    \n",
    "        def reorder():\n",
    "            re_order = input(\"Do you want to place order again? (yes/no):\")\n",
    "            if re_order == 'yes':\n",
    "                return coffeeshop()\n",
    "            else:\n",
    "                print(\"Thank you for ordering! Please visit us again\")\n",
    "        return reorder()\n",
    "        \n",
    "    sugar()\n",
    "    \n",
    "coffeeshop()"
   ]
  },
  {
   "cell_type": "code",
   "execution_count": null,
   "id": "44cdba02-073d-45a8-96a1-d4a905684b1a",
   "metadata": {},
   "outputs": [],
   "source": []
  }
 ],
 "metadata": {
  "kernelspec": {
   "display_name": "Python 3 (ipykernel)",
   "language": "python",
   "name": "python3"
  },
  "language_info": {
   "codemirror_mode": {
    "name": "ipython",
    "version": 3
   },
   "file_extension": ".py",
   "mimetype": "text/x-python",
   "name": "python",
   "nbconvert_exporter": "python",
   "pygments_lexer": "ipython3",
   "version": "3.11.7"
  }
 },
 "nbformat": 4,
 "nbformat_minor": 5
}
