{
 "cells": [
  {
   "cell_type": "markdown",
   "id": "74ce2368-bc10-4f9d-be6c-6ca860497474",
   "metadata": {},
   "source": [
    "Topics\n",
    "list\n",
    "libraries\n",
    "+=\n",
    "range"
   ]
  },
  {
   "cell_type": "code",
   "execution_count": 1,
   "id": "1a5f2909-6681-4990-8acf-c8e8b4e675a0",
   "metadata": {},
   "outputs": [],
   "source": [
    "# # Goal: Create password generator\n",
    "# numbers\n",
    "# alphabets\n",
    "# symbols\n",
    "# # =strong"
   ]
  },
  {
   "cell_type": "code",
   "execution_count": 2,
   "id": "36ed2a18-5401-432a-a70e-09bab2b0bcda",
   "metadata": {},
   "outputs": [
    {
     "name": "stdout",
     "output_type": "stream",
     "text": [
      "1\n",
      "3\n",
      "5\n",
      "7\n",
      "9\n"
     ]
    }
   ],
   "source": [
    "for i in range(1,10,2):\n",
    "    print(i)"
   ]
  },
  {
   "cell_type": "code",
   "execution_count": 3,
   "id": "f752df25-9f88-4f97-84d5-ed75b311dce6",
   "metadata": {},
   "outputs": [],
   "source": [
    "import random"
   ]
  },
  {
   "cell_type": "code",
   "execution_count": 4,
   "id": "77a77b25-93dc-4ae4-a2f0-72fd47d7981e",
   "metadata": {},
   "outputs": [
    {
     "name": "stdout",
     "output_type": "stream",
     "text": [
      "Welcome to my password generator\n"
     ]
    },
    {
     "name": "stdin",
     "output_type": "stream",
     "text": [
      "How many letters you want to use? 2\n",
      "How many numbers you want to use? 5\n",
      "How many symbols you want to use? 4\n"
     ]
    },
    {
     "name": "stdout",
     "output_type": "stream",
     "text": [
      "ay11837)(%%\n"
     ]
    }
   ],
   "source": [
    "letters = ['a', 'b', 'c', 'd', 'e', 'f', 'g', 'h', 'i', 'j', 'k', 'l', 'm', 'n', 'o', 'p', 'q', 'r', 's', 't', 'u', 'v', 'w', 'x', 'y', 'z', 'A', 'B', 'C', 'D', 'E', 'F', 'G', 'H', 'I', 'J', 'K', 'L', 'M', 'N', 'O', 'P', 'Q', 'R', 'S', 'T', 'U', 'V', 'W', 'X', 'Y', 'Z']\n",
    "numbers = ['0', '1', '2', '3', '4', '5', '6', '7', '8', '9']\n",
    "symbols = ['!', '#', '$', '%', '&', '(', ')', '*', '+']\n",
    "\n",
    "print('Welcome to my password generator')\n",
    "\n",
    "nr_letters = int(input('How many letters you want to use?'))\n",
    "nr_numbers = int(input('How many numbers you want to use?'))\n",
    "nr_symbols = int(input('How many symbols you want to use?'))\n",
    "\n",
    "password = ''\n",
    "\n",
    "for char in range(1,nr_letters+1):\n",
    "    password += random.choice(letters)\n",
    "for char in range(1,nr_numbers+1):\n",
    "    password += random.choice(numbers)\n",
    "for char in range(1,nr_symbols+1):\n",
    "    password += random.choice(symbols)\n",
    "\n",
    "print(password)"
   ]
  },
  {
   "cell_type": "code",
   "execution_count": 5,
   "id": "db65d71f-402f-4fb9-b669-fea70bb50eb3",
   "metadata": {},
   "outputs": [
    {
     "data": {
      "text/plain": [
       "''"
      ]
     },
     "execution_count": 5,
     "metadata": {},
     "output_type": "execute_result"
    }
   ],
   "source": [
    "password = ''\n",
    "password"
   ]
  },
  {
   "cell_type": "code",
   "execution_count": 6,
   "id": "0e43a30d-1ce1-4963-870e-bf9a3b7924d4",
   "metadata": {},
   "outputs": [],
   "source": [
    "coin = 30"
   ]
  },
  {
   "cell_type": "code",
   "execution_count": 7,
   "id": "cd88c92c-31ac-4956-8f30-b70acf51c7c0",
   "metadata": {},
   "outputs": [],
   "source": [
    "coin += 5"
   ]
  },
  {
   "cell_type": "code",
   "execution_count": 8,
   "id": "9024469c-d2fe-4f95-98f6-282749f36047",
   "metadata": {},
   "outputs": [
    {
     "data": {
      "text/plain": [
       "35"
      ]
     },
     "execution_count": 8,
     "metadata": {},
     "output_type": "execute_result"
    }
   ],
   "source": [
    "coin"
   ]
  },
  {
   "cell_type": "code",
   "execution_count": 9,
   "id": "32a01304-454c-4b19-b631-fb04095f332b",
   "metadata": {},
   "outputs": [
    {
     "name": "stdout",
     "output_type": "stream",
     "text": [
      "['A', 'B', 'C', 'D', 'E', 'F', 'G', 'H', 'I', 'J', 'K', 'L', 'M', 'N', 'O', 'P', 'Q', 'R', 'S', 'T', 'U', 'V', 'W', 'X', 'Y', 'Z', 'A', 'B', 'C', 'D', 'E', 'F', 'G', 'H', 'I', 'J', 'K', 'L', 'M', 'N', 'O', 'P', 'Q', 'R', 'S', 'T', 'U', 'V', 'W', 'X', 'Y', 'Z']\n"
     ]
    }
   ],
   "source": [
    "# how to convert lower case to upper caase\n",
    "letters = ['a', 'b', 'c', 'd', 'e', 'f', 'g', 'h', 'i', 'j', 'k', 'l', 'm', 'n', 'o', 'p', 'q', 'r', 's', 't', 'u', 'v', 'w', 'x', 'y', 'z', 'A', 'B', 'C', 'D', 'E', 'F', 'G', 'H', 'I', 'J', 'K', 'L', 'M', 'N', 'O', 'P', 'Q', 'R', 'S', 'T', 'U', 'V', 'W', 'X', 'Y', 'Z']\n",
    "\n",
    "upperlet = [i.upper() for i in letters]\n",
    "print(upperlet)"
   ]
  },
  {
   "cell_type": "code",
   "execution_count": 10,
   "id": "c8b9b2cc-f5c4-4acb-a6ec-cf596f7fe583",
   "metadata": {},
   "outputs": [],
   "source": [
    "# list - iterate (to perform repeatedly)\n",
    "# -duplicate (slicing)\n",
    "# -indexing\n",
    "# -mutable"
   ]
  },
  {
   "cell_type": "code",
   "execution_count": 11,
   "id": "933696c4-9f48-41a1-9022-96f53dc56a14",
   "metadata": {},
   "outputs": [
    {
     "data": {
      "text/plain": [
       "list"
      ]
     },
     "execution_count": 11,
     "metadata": {},
     "output_type": "execute_result"
    }
   ],
   "source": [
    "student_pgd = [\"Ameer\", \"Umer\", \"Hira\",\"@\",7,8.5,\"5\",\"13-5-24\"]\n",
    "type(student_pgd)"
   ]
  },
  {
   "cell_type": "code",
   "execution_count": 12,
   "id": "800a6cfb-0e14-4fd4-af28-13a208168595",
   "metadata": {},
   "outputs": [
    {
     "data": {
      "text/plain": [
       "[7, 8.5, '5', '13-5-24']"
      ]
     },
     "execution_count": 12,
     "metadata": {},
     "output_type": "execute_result"
    }
   ],
   "source": [
    "student_pgd[4:]"
   ]
  },
  {
   "cell_type": "code",
   "execution_count": 13,
   "id": "fc6495c7-561d-42b7-902c-114e23bb2c7f",
   "metadata": {},
   "outputs": [
    {
     "name": "stdout",
     "output_type": "stream",
     "text": [
      "['a', 'b', 'c', 'd', 'e', 'f', 'g', 'h', 'i', 'j', 'k', 'l', 'm', 'n', 'o', 'p', 'q', 'r', 's', 't', 'u', 'v', 'w', 'x', 'y', 'z', 'A', 'B', 'C', 'D', 'E', 'F', 'G', 'H', 'I', 'J', 'K', 'L', 'M', 'N', 'O', 'P', 'Q', 'R', 'S', 'T', 'U', 'V', 'W', 'X', 'Y', 'Z']\n"
     ]
    }
   ],
   "source": [
    "print(letters)"
   ]
  },
  {
   "cell_type": "code",
   "execution_count": 14,
   "id": "c99435ab-660f-49a3-b876-535e9421b8c9",
   "metadata": {},
   "outputs": [
    {
     "data": {
      "text/plain": [
       "52"
      ]
     },
     "execution_count": 14,
     "metadata": {},
     "output_type": "execute_result"
    }
   ],
   "source": [
    "len(letters)"
   ]
  },
  {
   "cell_type": "code",
   "execution_count": 15,
   "id": "70b98164-3b49-4112-911b-8d275f907207",
   "metadata": {},
   "outputs": [
    {
     "data": {
      "text/plain": [
       "['e', 'f', 'g', 'h', 'i', 'j', 'k', 'l']"
      ]
     },
     "execution_count": 15,
     "metadata": {},
     "output_type": "execute_result"
    }
   ],
   "source": [
    "letters[4:12]"
   ]
  },
  {
   "cell_type": "code",
   "execution_count": 16,
   "id": "7e8a2a3b-7e52-4c12-a8c2-820354eb9098",
   "metadata": {},
   "outputs": [],
   "source": [
    "student_pgd.append(\"umeradeeb\")"
   ]
  },
  {
   "cell_type": "code",
   "execution_count": 17,
   "id": "008e8518-3008-4aed-badd-1f500b70f49c",
   "metadata": {},
   "outputs": [
    {
     "name": "stdout",
     "output_type": "stream",
     "text": [
      "['Ameer', 'Umer', 'Hira', '@', 7, 8.5, '5', '13-5-24', 'umeradeeb']\n"
     ]
    }
   ],
   "source": [
    "print(student_pgd)"
   ]
  },
  {
   "cell_type": "code",
   "execution_count": 18,
   "id": "83ee2f26-9d2f-4d73-adad-d31bd10827a7",
   "metadata": {},
   "outputs": [],
   "source": [
    "# make a list\n",
    "# letters, numbers, symbols\n",
    "# list (mix)"
   ]
  },
  {
   "cell_type": "code",
   "execution_count": 19,
   "id": "970b5e71-5138-47f6-bb90-042ba5a6bc68",
   "metadata": {},
   "outputs": [],
   "source": [
    "import random"
   ]
  },
  {
   "cell_type": "code",
   "execution_count": 20,
   "id": "4f1df17a-2ba9-4588-adec-4d48a5d79c43",
   "metadata": {},
   "outputs": [
    {
     "name": "stdout",
     "output_type": "stream",
     "text": [
      "Welcome to my password generator\n"
     ]
    },
    {
     "name": "stdin",
     "output_type": "stream",
     "text": [
      "How many characters you want to use 5\n"
     ]
    },
    {
     "name": "stdout",
     "output_type": "stream",
     "text": [
      "Yu+e%\n",
      "Choose correct password\n"
     ]
    }
   ],
   "source": [
    "print('Welcome to my password generator')\n",
    "\n",
    "characters = int(input('How many characters you want to use'))\n",
    "list = ['a', 'b', 'c', 'd', 'e', 'f', 'g', 'h', 'i', 'j', 'k', 'l', 'm', 'n', 'o', 'p', 'q', 'r', 's', 't', 'u', 'v', 'w', 'x', 'y', 'z', 'A', 'B', 'C', 'D', 'E', 'F', 'G', 'H', 'I', 'J', 'K', 'L', 'M', 'N', 'O', 'P', 'Q', 'R', 'S', 'T', 'U', 'V', 'W', 'X', 'Y', 'Z','0', '1', '2', '3', '4', '5', '6', '7', '8', '9','!', '#', '$', '%', '&', '(', ')', '*', '+']\n",
    "password = ''\n",
    "\n",
    "for i in range(1, characters+1):\n",
    "    password += random.choice(list)\n",
    "\n",
    "print (password)\n",
    "\n",
    "if password.isnumeric():\n",
    "    print('Your password is correct')\n",
    "else:\n",
    "    print ('Choose correct password')\n"
   ]
  },
  {
   "cell_type": "code",
   "execution_count": 21,
   "id": "8a8092dc-bda4-41d0-a123-582b3615ccbc",
   "metadata": {},
   "outputs": [
    {
     "name": "stdout",
     "output_type": "stream",
     "text": [
      "Welcome to my password generator\n"
     ]
    },
    {
     "name": "stdin",
     "output_type": "stream",
     "text": [
      "How many letters you want to use? 1\n",
      "How many numbers you want to use? 2\n",
      "How many symbols you want to use? 5\n"
     ]
    },
    {
     "name": "stdout",
     "output_type": "stream",
     "text": [
      "['E', '+', '*', '*', '&', '%', '5', '7']\n",
      "['E', '+', '*', '5', '7', '&', '%', '*']\n",
      "Your password is: E+*57&%*\n"
     ]
    }
   ],
   "source": [
    "letters = ['a', 'b', 'c', 'd', 'e', 'f', 'g', 'h', 'i', 'j', 'k', 'l', 'm', 'n', 'o', 'p', 'q', 'r', 's', 't', 'u', 'v', 'w', 'x', 'y', 'z', 'A', 'B', 'C', 'D', 'E', 'F', 'G', 'H', 'I', 'J', 'K', 'L', 'M', 'N', 'O', 'P', 'Q', 'R', 'S', 'T', 'U', 'V', 'W', 'X', 'Y', 'Z']\n",
    "numbers = ['0', '1', '2', '3', '4', '5', '6', '7', '8', '9']\n",
    "symbols = ['!', '#', '$', '%', '&', '(', ')', '*', '+']\n",
    "\n",
    "print('Welcome to my password generator')\n",
    "\n",
    "nr_letters = int(input('How many letters you want to use?'))\n",
    "nr_numbers = int(input('How many numbers you want to use?'))\n",
    "nr_symbols = int(input('How many symbols you want to use?'))\n",
    "password_list = []\n",
    "\n",
    "for char in range(1, nr_letters + 1):\n",
    "  password_list.append(random.choice(letters))\n",
    "\n",
    "for char in range(1, nr_symbols + 1):\n",
    "  password_list += random.choice(symbols)\n",
    "\n",
    "for char in range(1, nr_numbers + 1):\n",
    "  password_list += random.choice(numbers)\n",
    "\n",
    "print(password_list)\n",
    "random.shuffle(password_list)\n",
    "print(password_list)\n",
    "\n",
    "password = \"\"\n",
    "for char in password_list:\n",
    "  password += char\n",
    "\n",
    "print(f\"Your password is: {password}\")"
   ]
  },
  {
   "cell_type": "code",
   "execution_count": 22,
   "id": "95125208-0d62-4ecf-a2ba-abb8d74a4d89",
   "metadata": {},
   "outputs": [],
   "source": [
    "import random"
   ]
  },
  {
   "cell_type": "code",
   "execution_count": 34,
   "id": "621673cd-e8fe-4516-ae82-3cc171f1670d",
   "metadata": {},
   "outputs": [
    {
     "name": "stdout",
     "output_type": "stream",
     "text": [
      "Welcome to password generator\n"
     ]
    },
    {
     "name": "stdin",
     "output_type": "stream",
     "text": [
      "How many letters you want to use? 5\n",
      "How many numbers you want to use? 2\n",
      "How many symbols you want to use? 1\n"
     ]
    },
    {
     "name": "stdout",
     "output_type": "stream",
     "text": [
      "['S', 'h', 'i', 'U', 'o', '7']\n",
      "['S', 'o', 'h', 'U', 'i', '7']\n",
      "Your password is SohUi7\n"
     ]
    }
   ],
   "source": [
    "letters = ['a', 'b', 'c', 'd', 'e', 'f', 'g', 'h', 'i', 'j', 'k', 'l', 'm', 'n', 'o', 'p', 'q', 'r', 's', 't', 'u', 'v', 'w', 'x', 'y', 'z', 'A', 'B', 'C', 'D', 'E', 'F', 'G', 'H', 'I', 'J', 'K', 'L', 'M', 'N', 'O', 'P', 'Q', 'R', 'S', 'T', 'U', 'V', 'W', 'X', 'Y', 'Z']\n",
    "numbers = ['0', '1', '2', '3', '4', '5', '6', '7', '8', '9']\n",
    "symbols = ['!', '#', '$', '%', '&', '(', ')', '*', '+']\n",
    "\n",
    "print('Welcome to password generator')\n",
    "count_letters = int(input('How many letters you want to use?'))\n",
    "count_numbers = int(input('How many numbers you want to use?'))\n",
    "count_symbols = int(input('How many symbols you want to use?'))\n",
    "\n",
    "password_list = []\n",
    "\n",
    "for i in range(1, count_letters+1):\n",
    "    password_list.append(random.choice(letters))\n",
    "for i in range (1, count_numbers):\n",
    "    password_list += random.choice(numbers)\n",
    "for i in range (1, count_symbols):\n",
    "    password_list += random.choice(symbols)\n",
    "\n",
    "print (password_list)\n",
    "\n",
    "for i in password_list:\n",
    "    random.shuffle(password_list)\n",
    "\n",
    "password = \"\"\n",
    "for i in password_list:\n",
    "    password += i\n",
    "\n",
    "print (password_list)\n",
    "print (f'Your password is {password}')"
   ]
  },
  {
   "cell_type": "code",
   "execution_count": 24,
   "id": "34fec815-0589-4df2-9575-c40ede059001",
   "metadata": {},
   "outputs": [
    {
     "data": {
      "text/plain": [
       "['Ameer', 'Umer', 'Hira', '@', 7, 8.5, '5', '13-5-24', 'umeradeeb']"
      ]
     },
     "execution_count": 24,
     "metadata": {},
     "output_type": "execute_result"
    }
   ],
   "source": [
    "student_pgd"
   ]
  },
  {
   "cell_type": "code",
   "execution_count": 30,
   "id": "1d6e8e81-0721-440e-8368-596027308316",
   "metadata": {},
   "outputs": [
    {
     "name": "stdin",
     "output_type": "stream",
     "text": [
      "Say anything hello\n"
     ]
    }
   ],
   "source": [
    "user = input('Say anything')\n",
    "student_pgd.append(user)"
   ]
  },
  {
   "cell_type": "code",
   "execution_count": 31,
   "id": "4dcac48e-52c9-482f-91e8-5877f0b9dce8",
   "metadata": {},
   "outputs": [
    {
     "data": {
      "text/plain": [
       "['Ameer',\n",
       " 'Umer',\n",
       " 'Hira',\n",
       " '@',\n",
       " 7,\n",
       " 8.5,\n",
       " '5',\n",
       " '13-5-24',\n",
       " 'umeradeeb',\n",
       " 'Say anything',\n",
       " 'hello',\n",
       " 'hello']"
      ]
     },
     "execution_count": 31,
     "metadata": {},
     "output_type": "execute_result"
    }
   ],
   "source": [
    "student_pgd"
   ]
  },
  {
   "cell_type": "code",
   "execution_count": 32,
   "id": "4ab5efff-1b29-46d3-9126-916231a3ade2",
   "metadata": {},
   "outputs": [],
   "source": [
    "student_pgd.insert(2,'Home')"
   ]
  },
  {
   "cell_type": "code",
   "execution_count": 33,
   "id": "e12fefc4-7897-41a1-a584-b3313a569e2c",
   "metadata": {},
   "outputs": [
    {
     "data": {
      "text/plain": [
       "['Ameer',\n",
       " 'Umer',\n",
       " 'Home',\n",
       " 'Hira',\n",
       " '@',\n",
       " 7,\n",
       " 8.5,\n",
       " '5',\n",
       " '13-5-24',\n",
       " 'umeradeeb',\n",
       " 'Say anything',\n",
       " 'hello',\n",
       " 'hello']"
      ]
     },
     "execution_count": 33,
     "metadata": {},
     "output_type": "execute_result"
    }
   ],
   "source": [
    "student_pgd"
   ]
  },
  {
   "cell_type": "code",
   "execution_count": 42,
   "id": "f42e6934-d1ae-4ee0-a3e6-6891c7f9cab2",
   "metadata": {},
   "outputs": [],
   "source": [
    "x = []\n",
    "letters = ['a', 'b', 'c', 'd', 'e', 'f', 'g', 'h', 'i', 'j', 'k', 'l', 'm', 'n', 'o', 'p', 'q', 'r', 's', 't', 'u', 'v', 'w', 'x', 'y', 'z', 'A', 'B', 'C', 'D', 'E', 'F', 'G', 'H', 'I', 'J', 'K', 'L', 'M', 'N', 'O', 'P', 'Q', 'R', 'S', 'T', 'U', 'V', 'W', 'X', 'Y', 'Z']\n",
    "for i in letters:\n",
    "    x.append(random.choice(letters))"
   ]
  },
  {
   "cell_type": "code",
   "execution_count": 43,
   "id": "84766bb6-323f-4d42-867d-30d9e21fccd1",
   "metadata": {},
   "outputs": [
    {
     "data": {
      "text/plain": [
       "['x',\n",
       " 'U',\n",
       " 's',\n",
       " 'p',\n",
       " 'T',\n",
       " 'J',\n",
       " 'K',\n",
       " 'z',\n",
       " 'C',\n",
       " 'z',\n",
       " 'g',\n",
       " 'C',\n",
       " 'G',\n",
       " 'd',\n",
       " 'I',\n",
       " 'I',\n",
       " 'n',\n",
       " 'k',\n",
       " 'y',\n",
       " 'F',\n",
       " 'A',\n",
       " 's',\n",
       " 'V',\n",
       " 'H',\n",
       " 'M',\n",
       " 'w',\n",
       " 'h',\n",
       " 'K',\n",
       " 'g',\n",
       " 'q',\n",
       " 'Z',\n",
       " 'v',\n",
       " 'P',\n",
       " 'M',\n",
       " 'S',\n",
       " 'I',\n",
       " 'W',\n",
       " 'W',\n",
       " 'a',\n",
       " 'E',\n",
       " 'C',\n",
       " 's',\n",
       " 'Z',\n",
       " 'Y',\n",
       " 'h',\n",
       " 't',\n",
       " 'I',\n",
       " 'b',\n",
       " 'w',\n",
       " 'A',\n",
       " 'X',\n",
       " 'j']"
      ]
     },
     "execution_count": 43,
     "metadata": {},
     "output_type": "execute_result"
    }
   ],
   "source": [
    "x"
   ]
  },
  {
   "cell_type": "code",
   "execution_count": null,
   "id": "a422bad1-9da8-40af-8c96-2430fc740c27",
   "metadata": {},
   "outputs": [],
   "source": []
  }
 ],
 "metadata": {
  "kernelspec": {
   "display_name": "Python 3 (ipykernel)",
   "language": "python",
   "name": "python3"
  },
  "language_info": {
   "codemirror_mode": {
    "name": "ipython",
    "version": 3
   },
   "file_extension": ".py",
   "mimetype": "text/x-python",
   "name": "python",
   "nbconvert_exporter": "python",
   "pygments_lexer": "ipython3",
   "version": "3.11.7"
  }
 },
 "nbformat": 4,
 "nbformat_minor": 5
}
