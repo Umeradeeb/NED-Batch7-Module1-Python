{
 "cells": [
  {
   "cell_type": "markdown",
   "id": "4debbebe-4eb8-47c7-a1af-ad431304795e",
   "metadata": {},
   "source": [
    "## Enter at least 6 subject marks \n",
    "## Total marks =600\n",
    "## Calculate obtained marks and percentage of a student \n",
    "## Use the following grading scale:\n",
    "\n",
    "-A: 90-100\n",
    "\n",
    "-B: 80-89\n",
    "\n",
    "-C: 70-79\n",
    "\n",
    "-D: 60-69\n",
    "\n",
    "-F: Below 60Below 60"
   ]
  },
  {
   "cell_type": "code",
   "execution_count": 9,
   "id": "15ff0b59-0422-47a7-817d-30635be07ad0",
   "metadata": {},
   "outputs": [
    {
     "name": "stdout",
     "output_type": "stream",
     "text": [
      "Enter your marks:\n"
     ]
    },
    {
     "name": "stdin",
     "output_type": "stream",
     "text": [
      "Enter marks: 100\n",
      "Enter marks: 152\n",
      "Enter marks: 100\n",
      "Enter marks: 100\n",
      "Enter marks: 100\n",
      "Enter marks: 100\n"
     ]
    },
    {
     "name": "stdout",
     "output_type": "stream",
     "text": [
      "Please enter correct marks for result\n"
     ]
    }
   ],
   "source": [
    "def grade(percentage):\n",
    "    if percentage >=90:\n",
    "        return 'A'\n",
    "    elif percentage >= 80:\n",
    "        return 'B'\n",
    "    elif percentage >= 70:\n",
    "        return 'C'\n",
    "    elif percentage >= 60:\n",
    "        return 'D'\n",
    "    else:\n",
    "        return 'F'\n",
    "\n",
    "def result():\n",
    "    print('Enter your marks:')\n",
    "    marks = []\n",
    "    total_marks = 0\n",
    "    for i in range(6):\n",
    "        subject_marks = float(input('Enter marks:'))\n",
    "        marks.append(subject_marks)\n",
    "        total_marks += subject_marks\n",
    "    if total_marks > 600:\n",
    "        print(\"Please enter correct marks for result\")\n",
    "        return\n",
    "    percentage = (total_marks / 600) * 100\n",
    "    report = grade(percentage)\n",
    "\n",
    "    print(f'Total marks: {total_marks}')\n",
    "    print(f'Percentage: {percentage}')\n",
    "    print(f'Grade: {report}')\n",
    "\n",
    "result()"
   ]
  },
  {
   "cell_type": "code",
   "execution_count": null,
   "id": "01917537-e640-4c89-82d8-fb93275c0db0",
   "metadata": {},
   "outputs": [],
   "source": []
  }
 ],
 "metadata": {
  "kernelspec": {
   "display_name": "Python 3 (ipykernel)",
   "language": "python",
   "name": "python3"
  },
  "language_info": {
   "codemirror_mode": {
    "name": "ipython",
    "version": 3
   },
   "file_extension": ".py",
   "mimetype": "text/x-python",
   "name": "python",
   "nbconvert_exporter": "python",
   "pygments_lexer": "ipython3",
   "version": "3.11.7"
  }
 },
 "nbformat": 4,
 "nbformat_minor": 5
}
