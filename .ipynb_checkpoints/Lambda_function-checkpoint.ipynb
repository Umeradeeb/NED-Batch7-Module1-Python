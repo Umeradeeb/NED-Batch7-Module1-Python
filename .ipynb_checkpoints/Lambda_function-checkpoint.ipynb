{
 "cells": [
  {
   "cell_type": "code",
   "execution_count": 1,
   "id": "f08d089b-4787-457f-b215-58b6983b2060",
   "metadata": {},
   "outputs": [],
   "source": [
    "#lambda arguments : expression\n",
    "\n",
    "#it takes arguments, numbers as well as expressions"
   ]
  },
  {
   "cell_type": "code",
   "execution_count": 2,
   "id": "dcf91318-1725-4066-a1fc-ce05bfd121be",
   "metadata": {},
   "outputs": [],
   "source": [
    "#def name(variable):\n",
    "#    expression\n",
    "#    return\n"
   ]
  },
  {
   "cell_type": "code",
   "execution_count": 5,
   "id": "1452bc4a-08f5-4bc2-be6a-46f8b64c7241",
   "metadata": {},
   "outputs": [
    {
     "name": "stdout",
     "output_type": "stream",
     "text": [
      "15\n"
     ]
    }
   ],
   "source": [
    "#Add 10 to argument a, and retuen the reult\n",
    "x = lambda a : a+10\n",
    "print(x(5))"
   ]
  },
  {
   "cell_type": "code",
   "execution_count": 8,
   "id": "9f4872ef-7a06-4116-8461-fd99094fb229",
   "metadata": {},
   "outputs": [
    {
     "name": "stdout",
     "output_type": "stream",
     "text": [
      "30\n"
     ]
    }
   ],
   "source": [
    "#Multiply argument a with argumet b and return the result\n",
    "x = lambda a,b : a*b\n",
    "print(x(5,6))"
   ]
  },
  {
   "cell_type": "code",
   "execution_count": 14,
   "id": "cc8de4b9-76c1-4f03-a0d8-3929a4381278",
   "metadata": {},
   "outputs": [
    {
     "data": {
      "text/plain": [
       "25"
      ]
     },
     "execution_count": 14,
     "metadata": {},
     "output_type": "execute_result"
    }
   ],
   "source": [
    "def sq(a):\n",
    "    b = a**2\n",
    "    return b\n",
    "sq(5)"
   ]
  },
  {
   "cell_type": "code",
   "execution_count": 15,
   "id": "0efbdc8b-b313-4e02-bfd4-081792180cee",
   "metadata": {},
   "outputs": [
    {
     "name": "stdout",
     "output_type": "stream",
     "text": [
      "25\n"
     ]
    }
   ],
   "source": [
    "y = lambda a : a**2\n",
    "print(y(5))"
   ]
  },
  {
   "cell_type": "code",
   "execution_count": 17,
   "id": "be217176-db12-4caa-a177-1de8ac3306d6",
   "metadata": {},
   "outputs": [
    {
     "data": {
      "text/plain": [
       "10"
      ]
     },
     "execution_count": 17,
     "metadata": {},
     "output_type": "execute_result"
    }
   ],
   "source": [
    "def sq(a,c):\n",
    "    b = a*c\n",
    "    return b\n",
    "sq(2,5)"
   ]
  },
  {
   "cell_type": "code",
   "execution_count": 18,
   "id": "ab57ed9f-8628-4d39-afa4-d54f61f45d28",
   "metadata": {},
   "outputs": [
    {
     "data": {
      "text/plain": [
       "10"
      ]
     },
     "execution_count": 18,
     "metadata": {},
     "output_type": "execute_result"
    }
   ],
   "source": [
    "y = lambda a,b : a*b\n",
    "y(2,5)"
   ]
  },
  {
   "cell_type": "code",
   "execution_count": 19,
   "id": "02ff21d9-ca21-4687-9b6a-a90645fbb719",
   "metadata": {},
   "outputs": [
    {
     "data": {
      "text/plain": [
       "13"
      ]
     },
     "execution_count": 19,
     "metadata": {},
     "output_type": "execute_result"
    }
   ],
   "source": [
    "x = lambda a,b,c : a+b+c\n",
    "x(5,6,2)"
   ]
  },
  {
   "cell_type": "code",
   "execution_count": 23,
   "id": "291d5608-d91f-4460-8d98-f02612803117",
   "metadata": {},
   "outputs": [
    {
     "data": {
      "text/plain": [
       "22"
      ]
     },
     "execution_count": 23,
     "metadata": {},
     "output_type": "execute_result"
    }
   ],
   "source": [
    "def myfunc(n):\n",
    "    return lambda a : a+n\n",
    "mydoubler = myfunc(11)\n",
    "mydoubler(11)"
   ]
  },
  {
   "cell_type": "code",
   "execution_count": 27,
   "id": "3298e4b1-d57d-4767-bd07-ad89860c4408",
   "metadata": {},
   "outputs": [
    {
     "data": {
      "text/plain": [
       "17"
      ]
     },
     "execution_count": 27,
     "metadata": {},
     "output_type": "execute_result"
    }
   ],
   "source": [
    "x = lambda a,b,c : a+b*c\n",
    "x(5,6,2)"
   ]
  },
  {
   "cell_type": "code",
   "execution_count": 47,
   "id": "ce4a43cf-66c3-4ff7-906e-aca88fc85914",
   "metadata": {},
   "outputs": [
    {
     "name": "stdout",
     "output_type": "stream",
     "text": [
      "['Odd', 'Even', 'Odd', 'Even', 'Odd']\n"
     ]
    }
   ],
   "source": [
    "list = [1,2,3,4,5]\n",
    "label = []\n",
    "for i in list:\n",
    "    if i%2==0:\n",
    "        label.append('Even')\n",
    "    else:\n",
    "        label.append(\"Odd\")\n",
    "print(label)"
   ]
  },
  {
   "cell_type": "code",
   "execution_count": 49,
   "id": "ba8aedf1-c41f-4d2b-9662-e10053a198e5",
   "metadata": {},
   "outputs": [
    {
     "data": {
      "text/plain": [
       "[1, 2, 3, 4, 5]"
      ]
     },
     "execution_count": 49,
     "metadata": {},
     "output_type": "execute_result"
    }
   ],
   "source": [
    "list = [1,2,3,4,5]\n",
    "\n",
    "label = lambda x : \"Even\" if x%2==0 else \"Odd\"\n",
    "\n",
    "lab = [label(x) for x in list]\n",
    "lab"
   ]
  },
  {
   "cell_type": "code",
   "execution_count": null,
   "id": "6b3c165d-3d5b-4e6d-93e1-d1d9722ca79e",
   "metadata": {},
   "outputs": [],
   "source": []
  }
 ],
 "metadata": {
  "kernelspec": {
   "display_name": "Python 3 (ipykernel)",
   "language": "python",
   "name": "python3"
  },
  "language_info": {
   "codemirror_mode": {
    "name": "ipython",
    "version": 3
   },
   "file_extension": ".py",
   "mimetype": "text/x-python",
   "name": "python",
   "nbconvert_exporter": "python",
   "pygments_lexer": "ipython3",
   "version": "3.11.7"
  }
 },
 "nbformat": 4,
 "nbformat_minor": 5
}
