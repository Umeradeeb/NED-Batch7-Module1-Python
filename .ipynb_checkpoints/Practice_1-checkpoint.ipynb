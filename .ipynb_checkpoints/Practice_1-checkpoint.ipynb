{
 "cells": [
  {
   "cell_type": "markdown",
   "id": "1e5aa966-98e0-4197-ba02-54a3a9fe5d83",
   "metadata": {},
   "source": [
    "# ***1-Write a program to convert Celsius to Fahrenheit.***\n"
   ]
  },
  {
   "cell_type": "code",
   "execution_count": 1,
   "id": "6fa7bf7a-bac7-4b0d-a3a8-4e22d1208ec1",
   "metadata": {},
   "outputs": [
    {
     "name": "stdin",
     "output_type": "stream",
     "text": [
      "Enter temperature in celsius: 100\n"
     ]
    },
    {
     "name": "stdout",
     "output_type": "stream",
     "text": [
      "The given temperature in Fahrenheit = 212.0\n"
     ]
    }
   ],
   "source": [
    "temp = float(input('Enter temperature in celsius:'))\n",
    "frnht = ((9/5)*(temp))+32\n",
    "\n",
    "print('The given temperature in Fahrenheit =',frnht)"
   ]
  },
  {
   "cell_type": "markdown",
   "id": "249d8a2a-fc8f-46c4-8b46-07d3a67ffead",
   "metadata": {},
   "source": [
    "# ***2-Write a program to check if a number is prime.***\n"
   ]
  },
  {
   "cell_type": "code",
   "execution_count": 2,
   "id": "437dbf2c-c196-4a83-8ead-4c56ee04f6c6",
   "metadata": {},
   "outputs": [
    {
     "name": "stdin",
     "output_type": "stream",
     "text": [
      "Enter number: 23\n"
     ]
    },
    {
     "name": "stdout",
     "output_type": "stream",
     "text": [
      "23 is a Prime number\n"
     ]
    }
   ],
   "source": [
    "number = int(input('Enter number:'))\n",
    "\n",
    "prime_number = True\n",
    "if number >1:\n",
    "    for i in range(2, number):\n",
    "        if number % i == 0:\n",
    "            prime_number = False\n",
    "            break\n",
    "            \n",
    "    else:\n",
    "        prime_number=True\n",
    "else:\n",
    "    print('You have entered an invalid number')\n",
    "\n",
    "if prime_number:\n",
    "    print(number,'is a Prime number')\n",
    "else:\n",
    "    print(number,'is not a Prime number')"
   ]
  },
  {
   "cell_type": "markdown",
   "id": "f6619096-42ea-4b8c-b994-9dc5c3864907",
   "metadata": {},
   "source": [
    "# ***3-Write a program to check if a string is a palindrome.***"
   ]
  },
  {
   "cell_type": "code",
   "execution_count": 3,
   "id": "e0626b95-750b-4446-884b-ca498713d05a",
   "metadata": {},
   "outputs": [
    {
     "name": "stdin",
     "output_type": "stream",
     "text": [
      "Enter your name: umer\n"
     ]
    },
    {
     "name": "stdout",
     "output_type": "stream",
     "text": [
      "String is not palindrome\n"
     ]
    }
   ],
   "source": [
    "string = input('Enter string:')\n",
    "reverse = string[::-1]\n",
    "if reverse == string:\n",
    "    print('String is palindrome')\n",
    "else:\n",
    "    print('String is not palindrome')\n"
   ]
  },
  {
   "cell_type": "markdown",
   "id": "d7ecae5a-4480-4563-a649-7c17dcab2a6f",
   "metadata": {},
   "source": [
    "# ***4-Write a program to reverse a string or list.***"
   ]
  },
  {
   "cell_type": "code",
   "execution_count": 5,
   "id": "d7f59e0e-2682-4c6a-872e-c8e28cff8479",
   "metadata": {},
   "outputs": [
    {
     "name": "stdout",
     "output_type": "stream",
     "text": [
      "remu\n"
     ]
    },
    {
     "name": "stdin",
     "output_type": "stream",
     "text": [
      "Enter elements: 4\n",
      " i\n",
      " am\n",
      " learning\n",
      " python\n"
     ]
    },
    {
     "name": "stdout",
     "output_type": "stream",
     "text": [
      "['i', 'am', 'learning', 'python']\n",
      "['python', 'learning', 'am', 'i']\n"
     ]
    }
   ],
   "source": [
    "#Reversing of string\n",
    "\n",
    "name = 'umer'\n",
    "reverse = name[::-1]\n",
    "print(reverse)\n",
    "\n",
    "#reversing of list\n",
    "\n",
    "elements = int(input('Enter elements:'))\n",
    "list = []\n",
    "for i in range(elements):\n",
    "    i = input()\n",
    "    list.append(i)\n",
    "print(list)\n",
    "list.reverse()\n",
    "print(list)"
   ]
  },
  {
   "cell_type": "markdown",
   "id": "328463be-6c9d-4c26-a344-f3da3f604585",
   "metadata": {},
   "source": [
    "# ***5-Write a program to find the largest number in a list.***"
   ]
  },
  {
   "cell_type": "code",
   "execution_count": 7,
   "id": "452f7aa9-a715-4869-a7f4-34c771f25cb8",
   "metadata": {},
   "outputs": [
    {
     "name": "stdin",
     "output_type": "stream",
     "text": [
      "Enter elements: 5\n",
      " 25\n",
      " 36\n",
      " 15\n",
      " 20\n"
     ]
    },
    {
     "name": "stdout",
     "output_type": "stream",
     "text": [
      "['25', '36', '15', '20']\n",
      "The largest number in list is 36\n"
     ]
    }
   ],
   "source": [
    "elements: int(input(\"Enter elements:\"))\n",
    "list= []\n",
    "for i in range(elements):\n",
    "    i = input()\n",
    "    list.append(i)\n",
    "print(list)\n",
    "largest = max(list)\n",
    "print('The largest number in list is',largest)\n"
   ]
  },
  {
   "cell_type": "markdown",
   "id": "98fa6bd9-1b62-47b7-957d-b476f6d85ffa",
   "metadata": {},
   "source": [
    "# ***6-Write a program to find the sum of all numbers in a list.***"
   ]
  },
  {
   "cell_type": "code",
   "execution_count": null,
   "id": "3e8a761f-31a1-4759-9a78-405031b88ed1",
   "metadata": {},
   "outputs": [],
   "source": []
  },
  {
   "cell_type": "markdown",
   "id": "5f877291-d5ed-4820-b626-78a081091e0c",
   "metadata": {},
   "source": [
    "# ***7-Write a program to check if a number is even or odd.***"
   ]
  },
  {
   "cell_type": "code",
   "execution_count": null,
   "id": "dc8129f1-7645-4345-87e2-81362a5d2b2f",
   "metadata": {},
   "outputs": [],
   "source": []
  }
 ],
 "metadata": {
  "kernelspec": {
   "display_name": "Python 3 (ipykernel)",
   "language": "python",
   "name": "python3"
  },
  "language_info": {
   "codemirror_mode": {
    "name": "ipython",
    "version": 3
   },
   "file_extension": ".py",
   "mimetype": "text/x-python",
   "name": "python",
   "nbconvert_exporter": "python",
   "pygments_lexer": "ipython3",
   "version": "3.11.7"
  }
 },
 "nbformat": 4,
 "nbformat_minor": 5
}
