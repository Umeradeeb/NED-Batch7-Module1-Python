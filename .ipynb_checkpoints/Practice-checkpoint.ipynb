{
 "cells": [
  {
   "cell_type": "markdown",
   "id": "9e6be1ed-7266-4532-b2bc-1af8d7be90df",
   "metadata": {},
   "source": [
    "# 1 - Write a Python program to print the numbers from 1 to 10 using a for loop.\n"
   ]
  },
  {
   "cell_type": "code",
   "execution_count": 1,
   "id": "3dada326-3fd9-48b5-bf6c-588d770cd508",
   "metadata": {},
   "outputs": [
    {
     "name": "stdout",
     "output_type": "stream",
     "text": [
      "1\n",
      "2\n",
      "3\n",
      "4\n",
      "5\n",
      "6\n",
      "7\n",
      "8\n",
      "9\n",
      "10\n"
     ]
    }
   ],
   "source": [
    "for i in range(1,11):\n",
    "    print (i)"
   ]
  },
  {
   "cell_type": "markdown",
   "id": "0e55a62a-6144-42ea-ad4d-06c377eca389",
   "metadata": {},
   "source": [
    "# 2- Create a list containing the numbers 1 to 5. Then, using a for loop, print each element of the list.\n"
   ]
  },
  {
   "cell_type": "code",
   "execution_count": 2,
   "id": "05261e8e-e7ef-4553-9c93-fc16ca4fdbf0",
   "metadata": {},
   "outputs": [
    {
     "name": "stdout",
     "output_type": "stream",
     "text": [
      "1\n",
      "2\n",
      "3\n",
      "4\n",
      "5\n"
     ]
    }
   ],
   "source": [
    "list = [1,2,3,4,5]\n",
    "for i in list:\n",
    "    print(i)"
   ]
  },
  {
   "cell_type": "markdown",
   "id": "986c931c-955b-4b6b-a66a-ad4f667313ad",
   "metadata": {},
   "source": [
    "# 3- Write a program that takes a list of numbers and returns the sum of all the numbers in the list.\n"
   ]
  },
  {
   "cell_type": "code",
   "execution_count": 3,
   "id": "e5c3565d-9d4c-4a54-85a8-01029bcf0540",
   "metadata": {},
   "outputs": [
    {
     "name": "stdin",
     "output_type": "stream",
     "text": [
      "enter elements 2\n",
      " 2\n",
      " 2\n"
     ]
    },
    {
     "name": "stdout",
     "output_type": "stream",
     "text": [
      "Elements in list are [2, 2]\n",
      "The sum of elements in list is 4\n"
     ]
    }
   ],
   "source": [
    "list = []\n",
    "elements = int(input('enter elements'))\n",
    "\n",
    "for i in range(1, elements+1):\n",
    "    numbers = int(input())\n",
    "    list.append(numbers)\n",
    "print('Elements in list are',list)\n",
    "\n",
    "sum=0\n",
    "for i in list:\n",
    "    sum += i\n",
    "\n",
    "print('The sum of elements in list is',sum)\n",
    "\n",
    "\n",
    "\n",
    "\n",
    "    \n",
    "# list = [5, 6 ,8 , 3 , 4]\n",
    "# sum = 0\n",
    "# for i in list:\n",
    "#     sum+=i\n",
    "\n",
    "# print('Sum is',sum)\n"
   ]
  },
  {
   "cell_type": "markdown",
   "id": "83a640ac-f533-44fc-a52f-97d7d7a8f678",
   "metadata": {},
   "source": [
    "# 4- Given a list of strings, write a program to concatenate all the strings into one.\n"
   ]
  },
  {
   "cell_type": "code",
   "execution_count": 4,
   "id": "84ce5da0-221d-4a9d-b91b-710ed728a20c",
   "metadata": {},
   "outputs": [
    {
     "name": "stdout",
     "output_type": "stream",
     "text": [
      "I am learning python \n"
     ]
    }
   ],
   "source": [
    "list = [\"I\", \"am\", \"learning\", \"python\"]\n",
    "concatenate = ''\n",
    "for i in list:\n",
    "    concatenate += i +' '\n",
    "\n",
    "print(concatenate)"
   ]
  },
  {
   "cell_type": "markdown",
   "id": "65f2bee0-1dd7-4978-92d5-c62e1028346d",
   "metadata": {},
   "source": [
    "# 5- Write a program that takes a list of numbers and returns the largest number in the list.\n"
   ]
  },
  {
   "cell_type": "code",
   "execution_count": 5,
   "id": "b07c69c2-a580-4ab9-b973-ed8b4d7152f8",
   "metadata": {},
   "outputs": [
    {
     "name": "stdin",
     "output_type": "stream",
     "text": [
      " Enter elements 2\n",
      " 2\n",
      " 2\n"
     ]
    },
    {
     "name": "stdout",
     "output_type": "stream",
     "text": [
      "['2', '2']\n",
      "The largest number in list is 2\n"
     ]
    }
   ],
   "source": [
    "list = []\n",
    "elements = int(input(\" Enter elements\"))\n",
    "\n",
    "for i in range(elements):\n",
    "    i = input()\n",
    "    list += i\n",
    "\n",
    "print(list)\n",
    "largest_number = max(list)\n",
    "print('The largest number in list is',largest_number)"
   ]
  },
  {
   "cell_type": "markdown",
   "id": "493d45b1-8fde-4fa0-8ee6-4526a5657f8e",
   "metadata": {},
   "source": [
    "# 6- Create a list containing the numbers 1 to 10. Using a for loop, square each number in the list and print the result.\n"
   ]
  },
  {
   "cell_type": "code",
   "execution_count": 6,
   "id": "1bb9b3f2-3277-4e81-8640-24cda19ffcc0",
   "metadata": {},
   "outputs": [
    {
     "name": "stdout",
     "output_type": "stream",
     "text": [
      "[1, 4, 9, 16, 25, 36, 49, 64, 81, 100]\n"
     ]
    }
   ],
   "source": [
    "list = [1,2,3,4,5,6,7,8,9,10]\n",
    "square_root = []\n",
    "for i in list:\n",
    "    square = i*i\n",
    "    square_root.append(square)\n",
    "    \n",
    "print(square_root)\n",
    "    "
   ]
  },
  {
   "cell_type": "markdown",
   "id": "f181630e-9e0c-4dc4-a8ac-46faa343714b",
   "metadata": {},
   "source": [
    "# 7- Write a program that takes a list of numbers and returns a new list containing only the even numbers from the original list.\n"
   ]
  },
  {
   "cell_type": "code",
   "execution_count": 7,
   "id": "50fa7ffd-2b7a-46d0-8bfe-41e3286a6241",
   "metadata": {},
   "outputs": [
    {
     "name": "stdin",
     "output_type": "stream",
     "text": [
      "Enter elements 2\n",
      " 2\n",
      " 2\n"
     ]
    },
    {
     "name": "stdout",
     "output_type": "stream",
     "text": [
      "[2, 2]\n",
      "[2, 2]\n"
     ]
    }
   ],
   "source": [
    "list=[]\n",
    "elements = int(input('Enter elements'))\n",
    "\n",
    "for i in range(elements):\n",
    "    i = int(input())\n",
    "    list.append(i)\n",
    "print (list)\n",
    "\n",
    "even = []\n",
    "for x in list:\n",
    "    if x%2 ==0:  #x/2 = float, x//2 = integer (we can also use x%2==0 which means that if remainder is 0 then its even number)\n",
    "        even.append(x)\n",
    "print(even)\n",
    "\n",
    "\n",
    "\n",
    "#list = [1,2,3,4,5,6,7,8,9,10]\n",
    "# even = [i for i in list[1:10:2]]\n",
    "# print(even)"
   ]
  },
  {
   "cell_type": "markdown",
   "id": "6857a940-8b87-422f-8dfe-c0dc250f673c",
   "metadata": {},
   "source": [
    "# 8- Given two lists of numbers, write a program to combine the lists element-wise (i.e., element-wise addition).\n"
   ]
  },
  {
   "cell_type": "code",
   "execution_count": 10,
   "id": "b70148c1-db6e-4923-9361-09a1233f08db",
   "metadata": {},
   "outputs": [
    {
     "name": "stdout",
     "output_type": "stream",
     "text": [
      "Combined list: [7, 9, 11, 13, 15]\n"
     ]
    }
   ],
   "source": [
    "list1 = [1, 2, 3, 4, 5]\n",
    "list2 = [6, 7, 8, 9, 10]\n",
    "\n",
    "combined_list = []\n",
    "\n",
    "for i in range(5):     #we can also use range(5): as there are five elements in list so loop runs 5 times that is similar to range(len(list1))\n",
    "    combined_list.append(list1[i] + list2[i])\n",
    "\n",
    "print(\"Combined list:\", combined_list)"
   ]
  },
  {
   "cell_type": "markdown",
   "id": "cfda890e-9af2-49b3-9d18-6cc249caab9d",
   "metadata": {},
   "source": [
    "# 9- Write a program that takes a list of strings and returns a new list containing the lengths of each string.\n"
   ]
  },
  {
   "cell_type": "code",
   "execution_count": 31,
   "id": "38302635-eea8-4c6e-8ac6-3eb0f134623e",
   "metadata": {},
   "outputs": [
    {
     "name": "stdin",
     "output_type": "stream",
     "text": [
      "Enter elements 4\n",
      " Umer\n",
      " is\n",
      " learning\n",
      " python\n"
     ]
    },
    {
     "name": "stdout",
     "output_type": "stream",
     "text": [
      "['Umer', 'is', 'learning', 'python']\n",
      "[4, 2, 8, 6]\n"
     ]
    }
   ],
   "source": [
    "list=[]\n",
    "elements = int(input('Enter elements'))\n",
    "\n",
    "for i in range(elements):\n",
    "    str = input()\n",
    "    list.append(str)\n",
    "print(list)\n",
    "\n",
    "length=[]\n",
    "\n",
    "for x in list:\n",
    "    l = len(x)\n",
    "    length.append(l)\n",
    "print(length)"
   ]
  },
  {
   "cell_type": "markdown",
   "id": "fca98eb8-da0f-43e0-ba9e-c4f11f9a7528",
   "metadata": {},
   "source": [
    "# 10- Create a list of numbers from 1 to 10. Using list slicing and a for loop, print every second element of the list."
   ]
  },
  {
   "cell_type": "code",
   "execution_count": 37,
   "id": "4cad0d4e-eaf0-4805-b94b-e51b8d8826a2",
   "metadata": {},
   "outputs": [
    {
     "name": "stdout",
     "output_type": "stream",
     "text": [
      "[2, 4, 6, 8, 10]\n"
     ]
    }
   ],
   "source": [
    "list = [1,2,3,4,5,6,7,8,9,10]\n",
    "short=[]\n",
    "for i in list:\n",
    "    short.append(i)\n",
    "print(short[1::2])    #can also use short[1:10:2]  here 10 is number of elements in list"
   ]
  },
  {
   "cell_type": "code",
   "execution_count": null,
   "id": "7823126e-0d5a-4f4c-9682-7b7bd158032e",
   "metadata": {},
   "outputs": [],
   "source": []
  }
 ],
 "metadata": {
  "kernelspec": {
   "display_name": "Python 3 (ipykernel)",
   "language": "python",
   "name": "python3"
  },
  "language_info": {
   "codemirror_mode": {
    "name": "ipython",
    "version": 3
   },
   "file_extension": ".py",
   "mimetype": "text/x-python",
   "name": "python",
   "nbconvert_exporter": "python",
   "pygments_lexer": "ipython3",
   "version": "3.11.7"
  }
 },
 "nbformat": 4,
 "nbformat_minor": 5
}
