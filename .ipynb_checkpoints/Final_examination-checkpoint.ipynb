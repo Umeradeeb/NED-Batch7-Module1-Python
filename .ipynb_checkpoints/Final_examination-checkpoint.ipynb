{
 "cells": [
  {
   "cell_type": "markdown",
   "id": "d754290d-a44e-418f-8cb6-8e71903ee1d3",
   "metadata": {},
   "source": [
    "## Name: Muhammad Umer Adeeb\n"
   ]
  },
  {
   "cell_type": "markdown",
   "id": "8f8f1ec8-98d5-4611-8c14-b8895492ea41",
   "metadata": {},
   "source": [
    "## Q1: Given the list numbers = [10, 20, 30, 40, 50], write a Python code snippet to:"
   ]
  },
  {
   "cell_type": "code",
   "execution_count": 1,
   "id": "c62d6c57-4f9f-4224-b870-3af05a35ca90",
   "metadata": {},
   "outputs": [
    {
     "name": "stdout",
     "output_type": "stream",
     "text": [
      "[10, 20, 30, 40, 50, 60]\n",
      "[10, 30, 40, 50, 60]\n",
      "[10, 30, 80, 40, 50, 60]\n",
      "Sum of numbers in list: 270\n"
     ]
    }
   ],
   "source": [
    "#Append the number 60 to the list.\n",
    "numbers = [10, 20, 30, 40, 50] \n",
    "numbers.append(60)\n",
    "print(numbers)\n",
    "\n",
    "#Remove the number 20 from the list.\n",
    "numbers.remove(20)\n",
    "print(numbers)\n",
    "\n",
    "#Insert 80 at index 2.\n",
    "numbers.insert(2,80)\n",
    "print(numbers)\n",
    "\n",
    "#Print the sum of all the elements in the list.\n",
    "sum_numbers = sum(numbers)\n",
    "print('Sum of numbers in list:', sum_numbers)\n"
   ]
  },
  {
   "cell_type": "markdown",
   "id": "bb9f4543-f28c-41e0-9774-7032d68feb83",
   "metadata": {},
   "source": [
    "## Q2: Consider the tuple coordinates = (12.5, 45.8, 33.1)."
   ]
  },
  {
   "cell_type": "code",
   "execution_count": 2,
   "id": "a1818a46-c43b-401f-a589-dba63a8495ac",
   "metadata": {},
   "outputs": [
    {
     "name": "stdout",
     "output_type": "stream",
     "text": [
      "12.5\n",
      "45.8\n",
      "33.1\n"
     ]
    }
   ],
   "source": [
    "#Write a Python code snippet to unpack the values of the tuple into three variables: `x`, `y`, and `z`.\n",
    "\n",
    "x,y,z = (12.5, 45.8, 33.1)\n",
    "print(x)\n",
    "print(y)\n",
    "print(z)\n",
    "\n",
    "#Explain why tuples are generally preferred over lists for storing fixed sets of data.\n",
    "#Answer: Tuples are generally preferred over lists for storing fixed sets of data because tuples are immutable which means elements in tuples can't be changed and list are mutable allowing modifications."
   ]
  },
  {
   "cell_type": "markdown",
   "id": "ea39a16a-fec9-4b64-a774-77f78a62cadd",
   "metadata": {},
   "source": [
    "## Q3: Given the dictionary `student_scores = {Faraz: 85, Raza: 90, Ishaq: 78}`:"
   ]
  },
  {
   "cell_type": "code",
   "execution_count": 3,
   "id": "e12d7fff-7d54-419f-a078-2053146e866f",
   "metadata": {},
   "outputs": [
    {
     "name": "stdout",
     "output_type": "stream",
     "text": [
      "{'Faraz': 85, 'Raza': 90, 'Ishaq': 78, 'David': 92}\n",
      "{'Faraz': 85, 'Raza': 82, 'Ishaq': 78, 'David': 92}\n",
      "Faraz:85\n",
      "Raza:82\n",
      "Ishaq:78\n",
      "David:92\n"
     ]
    }
   ],
   "source": [
    "#Write a Python code snippet to add a new student `David` with a score of 92.\n",
    "student_scores = {'Faraz': 85, 'Raza': 90, 'Ishaq': 78} \n",
    "student_scores['David'] = 92\n",
    "print(student_scores)\n",
    "\n",
    "#Update Raza's score to 82.\n",
    "student_scores['Raza'] = 82\n",
    "print(student_scores)\n",
    "\n",
    "#Write a code snippet to print all student names and their scores in the format: `Name: Score`.\n",
    "for name, score in student_scores.items():\n",
    "    print(f'{name}:{score}')"
   ]
  },
  {
   "cell_type": "markdown",
   "id": "ce720c15-bc4b-4371-a098-989006c52a52",
   "metadata": {},
   "source": [
    "## Q4: Write a Python function called `calculate_mean` that takes a list of numbers as input and \n",
    "returns the mean (average) of the numbers."
   ]
  },
  {
   "cell_type": "code",
   "execution_count": 5,
   "id": "c1599507-b0b0-4c8c-aef3-10d7894a21c0",
   "metadata": {},
   "outputs": [
    {
     "name": "stdin",
     "output_type": "stream",
     "text": [
      "How many numbers you want to enter: 5\n",
      "Enter numbers: 2\n",
      "Enter numbers: 2\n",
      "Enter numbers: 4\n",
      "Enter numbers: 6\n",
      "Enter numbers: 8\n"
     ]
    },
    {
     "name": "stdout",
     "output_type": "stream",
     "text": [
      "The mean of given numbers: 4.4\n"
     ]
    }
   ],
   "source": [
    "def calculate_mean(numbers):\n",
    "    if not numbers:\n",
    "        return 0\n",
    "    total_sum = sum(numbers)\n",
    "    mean = total_sum / len(numbers)\n",
    "    return mean\n",
    "\n",
    "def user():\n",
    "    n = int(input('How many numbers you want to enter:'))\n",
    "    numbers = []\n",
    "    for i in range(n):\n",
    "        num = float(input('Enter numbers:'))\n",
    "        numbers.append(num)\n",
    "    mean = calculate_mean(numbers)\n",
    "    print(f'The mean of given numbers: {mean}')\n",
    "user()"
   ]
  },
  {
   "cell_type": "markdown",
   "id": "98b76f98-064d-4cc6-8156-b7b01f00926b",
   "metadata": {},
   "source": [
    "## Q5: Write a Python function called `grade_students` that takes a dictionary of student names and \n",
    "their scores, and returns a new dictionary with student names and their corresponding grades (A \r\n",
    "B, C, D, F). Use the following grading scale:\r\n",
    "- A: 90-\n",
    "  100\r\n",
    "- B: 8\n",
    "  0-89\r\n",
    "- C: 70-79\r\n",
    "\r\n",
    "- D\n",
    "  : 60-69\r\n",
    "- F: Below 60"
   ]
  },
  {
   "cell_type": "code",
   "execution_count": 18,
   "id": "63cb7e3e-d9be-4bc5-b343-79368264cbe8",
   "metadata": {},
   "outputs": [
    {
     "name": "stdin",
     "output_type": "stream",
     "text": [
      "How many students names do you want to enter:  3\n",
      "Enter name of student:  umer\n",
      "Enter percentage for umer:  88\n",
      "Enter name of student:  bilal\n",
      "Enter percentage for bilal:  99\n",
      "Enter name of student:  hassan\n",
      "Enter percentage for hassan:  91\n"
     ]
    },
    {
     "name": "stdout",
     "output_type": "stream",
     "text": [
      "umer: B\n",
      "bilal: A\n",
      "hassan: A\n"
     ]
    }
   ],
   "source": [
    "def grade(percentage):\n",
    "    if percentage >= 90:\n",
    "        return 'A'\n",
    "    elif percentage >= 80:\n",
    "        return 'B'\n",
    "    elif percentage >= 70:\n",
    "        return 'C'\n",
    "    elif percentage >= 60:\n",
    "        return 'D'\n",
    "    else:\n",
    "        return 'F'\n",
    "\n",
    "def result():\n",
    "    n = int(input('How many students names do you want to enter: '))\n",
    "    students_grade = {}\n",
    "\n",
    "    for i in range(n):\n",
    "        student_name = input('Enter name of student: ')\n",
    "        student_percentage = float(input(f'Enter percentage for {student_name}: '))\n",
    "        \n",
    "        grade_value = grade(student_percentage)\n",
    "        \n",
    "        students_grade[student_name] = grade_value\n",
    "\n",
    "    for student, grade_value in students_grade.items():\n",
    "        print(f'{student}: {grade_value}')\n",
    "\n",
    "\n",
    "result()"
   ]
  },
  {
   "cell_type": "code",
   "execution_count": null,
   "id": "1fd1c45f-d947-4dd8-9c1e-d3d359679b53",
   "metadata": {},
   "outputs": [],
   "source": []
  }
 ],
 "metadata": {
  "kernelspec": {
   "display_name": "Python 3 (ipykernel)",
   "language": "python",
   "name": "python3"
  },
  "language_info": {
   "codemirror_mode": {
    "name": "ipython",
    "version": 3
   },
   "file_extension": ".py",
   "mimetype": "text/x-python",
   "name": "python",
   "nbconvert_exporter": "python",
   "pygments_lexer": "ipython3",
   "version": "3.11.7"
  }
 },
 "nbformat": 4,
 "nbformat_minor": 5
}
