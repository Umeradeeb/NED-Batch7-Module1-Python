{
 "cells": [
  {
   "cell_type": "code",
   "execution_count": 1,
   "id": "51d603a8-c77e-4050-bccb-ef7c9d2e902b",
   "metadata": {},
   "outputs": [
    {
     "data": {
      "text/plain": [
       "list"
      ]
     },
     "execution_count": 1,
     "metadata": {},
     "output_type": "execute_result"
    }
   ],
   "source": [
    "person = [\"Umer Adeeb\", 29, 3.7, ]     #[0,1,2] , [-3,-2,-1]\n",
    "type(person)"
   ]
  },
  {
   "cell_type": "code",
   "execution_count": 2,
   "id": "6f47f0ec-96bf-4bc0-9fa5-ec1ba6436533",
   "metadata": {},
   "outputs": [
    {
     "data": {
      "text/plain": [
       "['Umer Adeeb', 29, 3.7]"
      ]
     },
     "execution_count": 2,
     "metadata": {},
     "output_type": "execute_result"
    }
   ],
   "source": [
    "person"
   ]
  },
  {
   "cell_type": "code",
   "execution_count": 3,
   "id": "81f57cb9-41e2-467a-8e51-873bf1646df5",
   "metadata": {},
   "outputs": [
    {
     "data": {
      "text/plain": [
       "3"
      ]
     },
     "execution_count": 3,
     "metadata": {},
     "output_type": "execute_result"
    }
   ],
   "source": [
    "len(person)"
   ]
  },
  {
   "cell_type": "code",
   "execution_count": 4,
   "id": "06654225-6afd-415c-b42e-4faa41012ef4",
   "metadata": {},
   "outputs": [
    {
     "data": {
      "text/plain": [
       "4"
      ]
     },
     "execution_count": 4,
     "metadata": {},
     "output_type": "execute_result"
    }
   ],
   "source": [
    "name = ('Umer')\n",
    "len(name)"
   ]
  },
  {
   "cell_type": "code",
   "execution_count": 5,
   "id": "a7fdd64b-80a0-457a-a31f-a193c49b80df",
   "metadata": {},
   "outputs": [
    {
     "name": "stdout",
     "output_type": "stream",
     "text": [
      "Umer Adeeb\n",
      "Umer Adeeb\n"
     ]
    }
   ],
   "source": [
    "print(person[0])\n",
    "print(person[-3])"
   ]
  },
  {
   "cell_type": "code",
   "execution_count": 6,
   "id": "1c77a338-5d6f-4add-8cfc-c2951749c389",
   "metadata": {},
   "outputs": [
    {
     "name": "stdout",
     "output_type": "stream",
     "text": [
      "['Umer Adeeb', 29]\n",
      "[29, 3.7]\n",
      "['Umer Adeeb', 3.7]\n",
      "['Umer Adeeb', 29, 3.7]\n",
      "[3.7, 'Umer Adeeb']\n",
      "[]\n"
     ]
    }
   ],
   "source": [
    "#list [inclusive : exclusive]\n",
    "print(person[:2])\n",
    "print(person[1:])\n",
    "print(person[0:3:2])\n",
    "print(person[-4:])\n",
    "print(person[-1:-4:-2])\n",
    "print(person[0:2:-1])"
   ]
  },
  {
   "cell_type": "code",
   "execution_count": 7,
   "id": "3df2ab2b-f393-4e52-8714-c2196f8f9366",
   "metadata": {},
   "outputs": [],
   "source": [
    "person.append('Adeeb Ahmed')"
   ]
  },
  {
   "cell_type": "code",
   "execution_count": 8,
   "id": "eef1d4de-fbea-446e-852a-893d22122ade",
   "metadata": {},
   "outputs": [
    {
     "data": {
      "text/plain": [
       "['Umer Adeeb', 29, 3.7, 'Adeeb Ahmed']"
      ]
     },
     "execution_count": 8,
     "metadata": {},
     "output_type": "execute_result"
    }
   ],
   "source": [
    "person"
   ]
  },
  {
   "cell_type": "code",
   "execution_count": 9,
   "id": "b8a08866-ea8d-4790-99d6-d45f35bc6db4",
   "metadata": {},
   "outputs": [],
   "source": [
    "person.insert(1,'Adeeb Ahmed')"
   ]
  },
  {
   "cell_type": "code",
   "execution_count": 10,
   "id": "0874843c-bdec-4d83-8cc5-04e233f6498e",
   "metadata": {},
   "outputs": [
    {
     "data": {
      "text/plain": [
       "['Umer Adeeb', 'Adeeb Ahmed', 29, 3.7, 'Adeeb Ahmed']"
      ]
     },
     "execution_count": 10,
     "metadata": {},
     "output_type": "execute_result"
    }
   ],
   "source": [
    "person"
   ]
  },
  {
   "cell_type": "code",
   "execution_count": 11,
   "id": "a90f7bb5-f6b7-4031-bf03-244ebb2206fa",
   "metadata": {},
   "outputs": [],
   "source": [
    "person.remove(29)"
   ]
  },
  {
   "cell_type": "code",
   "execution_count": 12,
   "id": "a704ba58-0c6b-4400-bb4b-572635215767",
   "metadata": {},
   "outputs": [
    {
     "data": {
      "text/plain": [
       "['Umer Adeeb', 'Adeeb Ahmed', 3.7, 'Adeeb Ahmed']"
      ]
     },
     "execution_count": 12,
     "metadata": {},
     "output_type": "execute_result"
    }
   ],
   "source": [
    "person"
   ]
  },
  {
   "cell_type": "code",
   "execution_count": 15,
   "id": "92deb674-1b73-4efe-a89b-8d2b25a0551e",
   "metadata": {},
   "outputs": [],
   "source": [
    "person.remove(\"Adeeb Ahmed\")"
   ]
  },
  {
   "cell_type": "code",
   "execution_count": 16,
   "id": "a8abf0ae-5727-4374-8393-2fcf1f49de5f",
   "metadata": {},
   "outputs": [
    {
     "data": {
      "text/plain": [
       "['Umer Adeeb', 3.7]"
      ]
     },
     "execution_count": 16,
     "metadata": {},
     "output_type": "execute_result"
    }
   ],
   "source": [
    "person"
   ]
  },
  {
   "cell_type": "code",
   "execution_count": 17,
   "id": "9eea4128-c875-4a30-ba22-513f7c5aee12",
   "metadata": {},
   "outputs": [],
   "source": [
    "person = ['Umer Adeeb', 3.7, ['java','python','c']]"
   ]
  },
  {
   "cell_type": "code",
   "execution_count": 18,
   "id": "fcbaffd5-6c95-4f59-868c-674d359dd708",
   "metadata": {},
   "outputs": [
    {
     "data": {
      "text/plain": [
       "['Umer Adeeb', 3.7, ['java', 'python', 'c']]"
      ]
     },
     "execution_count": 18,
     "metadata": {},
     "output_type": "execute_result"
    }
   ],
   "source": [
    "person"
   ]
  },
  {
   "cell_type": "code",
   "execution_count": 22,
   "id": "4499e53e-5e85-4fc5-ba57-36df721ab476",
   "metadata": {},
   "outputs": [
    {
     "data": {
      "text/plain": [
       "'python'"
      ]
     },
     "execution_count": 22,
     "metadata": {},
     "output_type": "execute_result"
    }
   ],
   "source": [
    "person[2][1]"
   ]
  },
  {
   "cell_type": "code",
   "execution_count": 23,
   "id": "c2ff125e-d79d-4279-adee-02def5455d95",
   "metadata": {},
   "outputs": [],
   "source": [
    "person = ['Umer Adeeb', 3.7, ['java','python','c',['Dell','HP','Lenovo']]]"
   ]
  },
  {
   "cell_type": "code",
   "execution_count": 24,
   "id": "9d629f32-79b5-4c14-a6a7-6b00f1002e6c",
   "metadata": {},
   "outputs": [
    {
     "data": {
      "text/plain": [
       "['Umer Adeeb', 3.7, ['java', 'python', 'c', ['Dell', 'HP', 'Lenovo']]]"
      ]
     },
     "execution_count": 24,
     "metadata": {},
     "output_type": "execute_result"
    }
   ],
   "source": [
    "person"
   ]
  },
  {
   "cell_type": "code",
   "execution_count": 31,
   "id": "1841336a-4fb9-4d36-8b17-31f02d3448ec",
   "metadata": {},
   "outputs": [
    {
     "data": {
      "text/plain": [
       "['python', 'c']"
      ]
     },
     "execution_count": 31,
     "metadata": {},
     "output_type": "execute_result"
    }
   ],
   "source": [
    "person[2][1:3]"
   ]
  }
 ],
 "metadata": {
  "kernelspec": {
   "display_name": "Python 3 (ipykernel)",
   "language": "python",
   "name": "python3"
  },
  "language_info": {
   "codemirror_mode": {
    "name": "ipython",
    "version": 3
   },
   "file_extension": ".py",
   "mimetype": "text/x-python",
   "name": "python",
   "nbconvert_exporter": "python",
   "pygments_lexer": "ipython3",
   "version": "3.11.7"
  }
 },
 "nbformat": 4,
 "nbformat_minor": 5
}
