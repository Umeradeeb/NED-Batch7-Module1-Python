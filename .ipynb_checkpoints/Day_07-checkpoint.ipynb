{
 "cells": [
  {
   "cell_type": "code",
   "execution_count": 1,
   "id": "11fe5aa8-fbb3-4c17-9969-e36e29919d1b",
   "metadata": {},
   "outputs": [
    {
     "name": "stdout",
     "output_type": "stream",
     "text": [
      "['apple', 'Banana', 'Mango']\n"
     ]
    }
   ],
   "source": [
    "fruits = [\"apple\", \"Banana\", \"Cherry\", \"Kiwi\", \"Mango\"]\n",
    "new_list = []\n",
    "\n",
    "for elements in fruits:\n",
    "    if 'a' in elements:\n",
    "        new_list.append(elements)\n",
    "print(new_list)"
   ]
  },
  {
   "cell_type": "code",
   "execution_count": 2,
   "id": "2dffe653-b814-461a-8024-f70b9d54fb15",
   "metadata": {},
   "outputs": [
    {
     "name": "stdout",
     "output_type": "stream",
     "text": [
      "['english', 'hindi', 'danish', 'irish', 'polish']\n"
     ]
    }
   ],
   "source": [
    "languages = ['english', 'urdu', 'hindi', 'danish', 'irish', 'polish', 'German']\n",
    "newlist = []\n",
    "\n",
    "for lang in languages:\n",
    "    if 'i' in lang:\n",
    "        newlist.append(lang)\n",
    "print(newlist)"
   ]
  },
  {
   "cell_type": "code",
   "execution_count": 3,
   "id": "ca28c64a-10ef-46de-b2d9-1f925dc74374",
   "metadata": {},
   "outputs": [
    {
     "name": "stdout",
     "output_type": "stream",
     "text": [
      "['apple', 'Banana', 'Cherry', 'Kiwi', 'Mango']\n"
     ]
    }
   ],
   "source": [
    "fruits = [\"apple\", \"Banana\", \"Cherry\", \"Kiwi\", \"Mango\"]\n",
    "newlist = [x for x in fruits]\n",
    "print(newlist)\n"
   ]
  },
  {
   "cell_type": "code",
   "execution_count": 4,
   "id": "b73fb5c0-1275-4e70-b6ee-7041ebebc2f3",
   "metadata": {},
   "outputs": [
    {
     "name": "stdout",
     "output_type": "stream",
     "text": [
      "['Banana', 'Cherry', 'Kiwi', 'Mango']\n"
     ]
    }
   ],
   "source": [
    "fruits = [\"apple\", \"Banana\", \"Cherry\", \"Kiwi\", \"Mango\"]\n",
    "newlist = [x for x in fruits if x != 'apple']\n",
    "print(newlist)"
   ]
  },
  {
   "cell_type": "code",
   "execution_count": 5,
   "id": "00fbe73a-011d-417f-b2c2-6aa593d1d2df",
   "metadata": {},
   "outputs": [
    {
     "name": "stdout",
     "output_type": "stream",
     "text": [
      "['english', 'urdu', 'hindi', 'danish', 'irish', 'polish', 'German']\n"
     ]
    }
   ],
   "source": [
    "languages = ['english', 'urdu', 'hindi', 'danish', 'irish', 'polish', 'German']\n",
    "newlist = [lang for lang in languages]\n",
    "\n",
    "print(newlist)"
   ]
  },
  {
   "cell_type": "code",
   "execution_count": 6,
   "id": "572010a4-4bee-48de-a66a-609adcf2ea48",
   "metadata": {},
   "outputs": [
    {
     "name": "stdout",
     "output_type": "stream",
     "text": [
      "['irish']\n"
     ]
    }
   ],
   "source": [
    "languages = ['english', 'urdu', 'hindi', 'danish', 'irish', 'polish', 'German']\n",
    "newlist = [lang for lang in languages if lang =='irish']\n",
    "\n",
    "print(newlist)"
   ]
  },
  {
   "cell_type": "code",
   "execution_count": 7,
   "id": "5bf00781-ba70-436d-95c0-b1ad604f862c",
   "metadata": {},
   "outputs": [
    {
     "name": "stdout",
     "output_type": "stream",
     "text": [
      "['BE Mech Eng', 'MEM Industrial Management']\n",
      "['BE Mech Eng']\n"
     ]
    }
   ],
   "source": [
    "courses = ['BE Mech Eng', 'MEM Industrial Management', 'BS BCIT']\n",
    "newlist =[degree for degree in courses if 'BE' in degree or 'MEM' in degree]\n",
    "print(newlist)\n",
    "newlist.pop()\n",
    "print(newlist)"
   ]
  },
  {
   "cell_type": "code",
   "execution_count": 8,
   "id": "307a017d-26f8-4946-b86b-b3c2bdfbd49f",
   "metadata": {},
   "outputs": [
    {
     "name": "stdout",
     "output_type": "stream",
     "text": [
      "[0, 1, 2, 3, 4, 5, 6, 7, 8, 9]\n"
     ]
    }
   ],
   "source": [
    "newlist = [i for i in range(10)]\n",
    "print(newlist)"
   ]
  },
  {
   "cell_type": "code",
   "execution_count": 9,
   "id": "05ba4cb5-7e70-48a7-bbb1-904f04177f68",
   "metadata": {},
   "outputs": [
    {
     "data": {
      "text/plain": [
       "10"
      ]
     },
     "execution_count": 9,
     "metadata": {},
     "output_type": "execute_result"
    }
   ],
   "source": [
    "len(newlist)"
   ]
  },
  {
   "cell_type": "code",
   "execution_count": 10,
   "id": "a3b77298-557d-4a87-95d9-b2767fea1dfe",
   "metadata": {},
   "outputs": [
    {
     "name": "stdout",
     "output_type": "stream",
     "text": [
      "[23, 50, 65, 82, 100]\n"
     ]
    }
   ],
   "source": [
    "list = [100, 50, 65, 82, 23]\n",
    "list.sort()\n",
    "print(list)"
   ]
  },
  {
   "cell_type": "code",
   "execution_count": 11,
   "id": "c8f9ae24-19cd-4f72-a6ea-b78ad5ec9de3",
   "metadata": {},
   "outputs": [
    {
     "name": "stdout",
     "output_type": "stream",
     "text": [
      "['danish', 'denish', 'english', 'german', 'hindi', 'irish', 'polish', 'urdu']\n"
     ]
    }
   ],
   "source": [
    "list = ['english', 'urdu', 'hindi', 'danish', 'irish', 'polish', 'german', 'denish']\n",
    "list.sort()\n",
    "print(list)"
   ]
  },
  {
   "cell_type": "code",
   "execution_count": 12,
   "id": "868655fe-f97f-4638-87d4-a47eb0495239",
   "metadata": {},
   "outputs": [
    {
     "name": "stdout",
     "output_type": "stream",
     "text": [
      "['urdu', 'polish', 'irish', 'hindi', 'german', 'english', 'denish', 'danish']\n"
     ]
    }
   ],
   "source": [
    "list = ['english', 'urdu', 'hindi', 'danish', 'irish', 'polish', 'german', 'denish']\n",
    "list.sort(reverse=True)\n",
    "print(list)"
   ]
  },
  {
   "cell_type": "code",
   "execution_count": 13,
   "id": "74f36310-1e7f-4883-84b8-067e7743988e",
   "metadata": {},
   "outputs": [
    {
     "name": "stdout",
     "output_type": "stream",
     "text": [
      "['russian', 'denish', 'german', 'polish', 'irish', 'danish', 'hindi', 'urdu', 'english']\n"
     ]
    }
   ],
   "source": [
    "list = ['english', 'urdu', 'hindi', 'danish', 'irish', 'polish', 'german', 'denish', 'russian']\n",
    "list.reverse()\n",
    "print(list)"
   ]
  },
  {
   "cell_type": "code",
   "execution_count": 14,
   "id": "b25d957a-3c9e-4480-b05b-f57588f271d2",
   "metadata": {},
   "outputs": [
    {
     "name": "stdout",
     "output_type": "stream",
     "text": [
      "['russian', 'denish', 'german', 'polish', 'irish', 'danish', 'hindi', 'urdu', 'english']\n"
     ]
    }
   ],
   "source": [
    "mylist = list.copy()\n",
    "print(mylist)"
   ]
  },
  {
   "cell_type": "markdown",
   "id": "6abbbceb-7be2-43e1-8917-692c3eb121cf",
   "metadata": {},
   "source": [
    "### ***Dictionaries***"
   ]
  },
  {
   "cell_type": "code",
   "execution_count": 15,
   "id": "c43d56fe-c33d-4620-ad40-3a905378bbb9",
   "metadata": {},
   "outputs": [],
   "source": [
    "dictionaries = {'a' : 'apple'}\n",
    "dictionaries = {'key' : 'value'}"
   ]
  },
  {
   "cell_type": "code",
   "execution_count": 16,
   "id": "82a23f3b-b800-464d-a8af-4ef35155e1d1",
   "metadata": {},
   "outputs": [],
   "source": [
    "person = {\"name\":\"Umer\", \"age\":\"29\",\"city\":\"Karachi\"}"
   ]
  },
  {
   "cell_type": "code",
   "execution_count": 17,
   "id": "2890ebbf-dcb7-4202-8cf2-5a82115a0803",
   "metadata": {},
   "outputs": [
    {
     "name": "stdout",
     "output_type": "stream",
     "text": [
      "Umer\n"
     ]
    }
   ],
   "source": [
    "print(person[\"name\"])"
   ]
  },
  {
   "cell_type": "code",
   "execution_count": 18,
   "id": "f932d0d2-93b9-4fb6-83ed-60eade4aa3de",
   "metadata": {},
   "outputs": [],
   "source": [
    "person[\"age\"] = 30     #modification"
   ]
  },
  {
   "cell_type": "code",
   "execution_count": 19,
   "id": "480a263d-5cb3-403b-a521-b6793fd029e8",
   "metadata": {},
   "outputs": [
    {
     "name": "stdout",
     "output_type": "stream",
     "text": [
      "{'name': 'Umer', 'age': 30, 'city': 'Karachi'}\n"
     ]
    }
   ],
   "source": [
    "print(person)"
   ]
  },
  {
   "cell_type": "code",
   "execution_count": 20,
   "id": "0e68ab6d-2e8d-42b3-82c9-5e55192b96ad",
   "metadata": {},
   "outputs": [
    {
     "name": "stdout",
     "output_type": "stream",
     "text": [
      "3\n"
     ]
    }
   ],
   "source": [
    "print(len(person))"
   ]
  },
  {
   "cell_type": "code",
   "execution_count": 21,
   "id": "dabe6ca0-1bfc-433d-b52b-4308122b5470",
   "metadata": {},
   "outputs": [
    {
     "name": "stdout",
     "output_type": "stream",
     "text": [
      "name exist in dictionary\n"
     ]
    }
   ],
   "source": [
    "if 'name' in person:\n",
    "    print('name exist in dictionary')\n",
    "else:\n",
    "    print('name doesnt exist')"
   ]
  },
  {
   "cell_type": "code",
   "execution_count": 22,
   "id": "2cdc58d0-ff71-40bc-8a8a-27672b680abc",
   "metadata": {},
   "outputs": [],
   "source": [
    "courses = {\"first\":\"python\", \"second\":\"business intelligence\", \"third\":\"data visualization\", \"fourth\":\"machine learning\", \"fifth\":\"deep learning\"}"
   ]
  },
  {
   "cell_type": "code",
   "execution_count": 23,
   "id": "01fd8363-336b-49f9-982d-00b3d3b36ed7",
   "metadata": {},
   "outputs": [
    {
     "name": "stdout",
     "output_type": "stream",
     "text": [
      "data visualization\n"
     ]
    }
   ],
   "source": [
    "print(courses[\"third\"])"
   ]
  },
  {
   "cell_type": "code",
   "execution_count": 24,
   "id": "b5087496-1878-4698-9f0c-7781699872fb",
   "metadata": {},
   "outputs": [
    {
     "name": "stdout",
     "output_type": "stream",
     "text": [
      "{}\n"
     ]
    },
    {
     "data": {
      "text/plain": [
       "dict"
      ]
     },
     "execution_count": 24,
     "metadata": {},
     "output_type": "execute_result"
    }
   ],
   "source": [
    "dic = {}     #key : value\n",
    "print(dic)\n",
    "type(dic)"
   ]
  },
  {
   "cell_type": "code",
   "execution_count": 25,
   "id": "2729b05b-1f8d-452a-8672-c289fb184816",
   "metadata": {},
   "outputs": [],
   "source": [
    "bio = {\"name\":\"Umer\", \"age\":\"29\",\"city\":\"Karachi\"} "
   ]
  },
  {
   "cell_type": "code",
   "execution_count": 26,
   "id": "a4410cfd-6a6b-446c-a6ab-a28368eb52c8",
   "metadata": {},
   "outputs": [
    {
     "name": "stdout",
     "output_type": "stream",
     "text": [
      "Umer\n",
      "29\n",
      "Karachi\n"
     ]
    }
   ],
   "source": [
    "print(bio['name'])\n",
    "print(bio['age'])\n",
    "print(bio['city'])"
   ]
  },
  {
   "cell_type": "code",
   "execution_count": 27,
   "id": "ea06dfea-f4de-4525-ab51-81d5b11c6d0b",
   "metadata": {},
   "outputs": [
    {
     "name": "stdout",
     "output_type": "stream",
     "text": [
      "{'name': 'Umer', 'age': '29', 'city': 'Karachi'}\n"
     ]
    }
   ],
   "source": [
    "print(bio)"
   ]
  },
  {
   "cell_type": "code",
   "execution_count": 28,
   "id": "2c29f7ac-7a19-47ca-a355-40e56c4d4182",
   "metadata": {},
   "outputs": [],
   "source": [
    "bio['hobby'] = 'travelling'#addition in dictionary\n",
    "bio['profession'] = 'Data Scientist'\n",
    "bio['skill'] = ['python', 'production engineering']"
   ]
  },
  {
   "cell_type": "code",
   "execution_count": 29,
   "id": "8b47bcaa-3d44-4f0a-9f7a-c07c990e7f15",
   "metadata": {},
   "outputs": [
    {
     "name": "stdout",
     "output_type": "stream",
     "text": [
      "{'name': 'Umer', 'age': '29', 'city': 'Karachi', 'hobby': 'travelling', 'profession': 'Data Scientist', 'skill': ['python', 'production engineering']}\n"
     ]
    }
   ],
   "source": [
    "print(bio)"
   ]
  },
  {
   "cell_type": "code",
   "execution_count": 30,
   "id": "4d7b9267-66d7-4fe0-9878-71573e6b0343",
   "metadata": {},
   "outputs": [
    {
     "data": {
      "text/plain": [
       "{'name': 'Umer',\n",
       " 'age': '29',\n",
       " 'city': 'Karachi',\n",
       " 'hobby': 'travelling',\n",
       " 'profession': 'Data Scientist',\n",
       " 'skill': ['python', 'production engineering']}"
      ]
     },
     "execution_count": 30,
     "metadata": {},
     "output_type": "execute_result"
    }
   ],
   "source": [
    "bio"
   ]
  },
  {
   "cell_type": "markdown",
   "id": "afd59fd6-594a-4096-be54-32c3ea46ce50",
   "metadata": {},
   "source": [
    "***can pass list and tuple in dictionary. Like list is passed in above code in skills***"
   ]
  },
  {
   "cell_type": "code",
   "execution_count": 31,
   "id": "ef893d30-6642-4e55-9913-5d1e09d9a639",
   "metadata": {},
   "outputs": [],
   "source": [
    "del bio['city']     #deletion in dictionary"
   ]
  },
  {
   "cell_type": "code",
   "execution_count": 32,
   "id": "52ef5c80-daff-4cbc-9b53-451189bd6dd2",
   "metadata": {},
   "outputs": [
    {
     "data": {
      "text/plain": [
       "{'name': 'Umer',\n",
       " 'age': '29',\n",
       " 'hobby': 'travelling',\n",
       " 'profession': 'Data Scientist',\n",
       " 'skill': ['python', 'production engineering']}"
      ]
     },
     "execution_count": 32,
     "metadata": {},
     "output_type": "execute_result"
    }
   ],
   "source": [
    "bio"
   ]
  },
  {
   "cell_type": "code",
   "execution_count": 33,
   "id": "06873a5e-b31d-402a-988c-e496f68b47a0",
   "metadata": {},
   "outputs": [
    {
     "data": {
      "text/plain": [
       "dict_keys(['name', 'age', 'hobby', 'profession', 'skill'])"
      ]
     },
     "execution_count": 33,
     "metadata": {},
     "output_type": "execute_result"
    }
   ],
   "source": [
    "bio.keys()"
   ]
  },
  {
   "cell_type": "code",
   "execution_count": 34,
   "id": "65954dec-9153-4f06-984b-67ef82870a7d",
   "metadata": {},
   "outputs": [
    {
     "data": {
      "text/plain": [
       "dict_values(['Umer', '29', 'travelling', 'Data Scientist', ['python', 'production engineering']])"
      ]
     },
     "execution_count": 34,
     "metadata": {},
     "output_type": "execute_result"
    }
   ],
   "source": [
    "bio.values()"
   ]
  },
  {
   "cell_type": "code",
   "execution_count": 35,
   "id": "dce15bd8-ec90-4fb8-9ca5-68efac426141",
   "metadata": {},
   "outputs": [],
   "source": [
    "bio['hobby'] = 'gaming'    #modification in dictionary"
   ]
  },
  {
   "cell_type": "code",
   "execution_count": 36,
   "id": "0f50a9e9-018c-4765-b383-01863c9acdbc",
   "metadata": {},
   "outputs": [
    {
     "data": {
      "text/plain": [
       "{'name': 'Umer',\n",
       " 'age': '29',\n",
       " 'hobby': 'gaming',\n",
       " 'profession': 'Data Scientist',\n",
       " 'skill': ['python', 'production engineering']}"
      ]
     },
     "execution_count": 36,
     "metadata": {},
     "output_type": "execute_result"
    }
   ],
   "source": [
    "bio"
   ]
  },
  {
   "cell_type": "code",
   "execution_count": 37,
   "id": "ecaab77f-9536-4d6f-9e9b-17c24889dac4",
   "metadata": {},
   "outputs": [
    {
     "data": {
      "text/plain": [
       "5"
      ]
     },
     "execution_count": 37,
     "metadata": {},
     "output_type": "execute_result"
    }
   ],
   "source": [
    "len(bio)"
   ]
  },
  {
   "cell_type": "code",
   "execution_count": 38,
   "id": "b34189c2-1f1b-40c1-8fb0-6b80e66d5be0",
   "metadata": {},
   "outputs": [
    {
     "name": "stdout",
     "output_type": "stream",
     "text": [
      "Name exist in dictionary\n"
     ]
    },
    {
     "data": {
      "text/plain": [
       "True"
      ]
     },
     "execution_count": 38,
     "metadata": {},
     "output_type": "execute_result"
    }
   ],
   "source": [
    "# to check if key is present in dictionary\n",
    "bio = {\"name\":\"Umer\", \"age\":\"29\",\"city\":\"Karachi\"} \n",
    "if \"name\" in bio:\n",
    "    print('Name exist in dictionary')\n",
    "else:\n",
    "    print(\"Name doesnt exist\")\n",
    "\n",
    "\n",
    "'name' in bio      #in(membership operator) operator give result in boolean"
   ]
  },
  {
   "cell_type": "code",
   "execution_count": 39,
   "id": "3014e7f0-c2b6-4e6f-a876-13cd41e4e5e3",
   "metadata": {},
   "outputs": [
    {
     "data": {
      "text/plain": [
       "'Umer'"
      ]
     },
     "execution_count": 39,
     "metadata": {},
     "output_type": "execute_result"
    }
   ],
   "source": [
    "bio.get('name')"
   ]
  },
  {
   "cell_type": "code",
   "execution_count": 40,
   "id": "597a3df9-463e-414c-849f-f6e4efc716cb",
   "metadata": {},
   "outputs": [],
   "source": [
    "bio.clear()"
   ]
  },
  {
   "cell_type": "code",
   "execution_count": 36,
   "id": "8fbafdb3-40c4-42fe-b52e-75fa9bf2f1ce",
   "metadata": {},
   "outputs": [
    {
     "data": {
      "text/plain": [
       "{}"
      ]
     },
     "execution_count": 36,
     "metadata": {},
     "output_type": "execute_result"
    }
   ],
   "source": [
    "bio"
   ]
  },
  {
   "cell_type": "code",
   "execution_count": 38,
   "id": "3c7a0725-5cea-48a5-bbcd-525cb72ed23a",
   "metadata": {},
   "outputs": [
    {
     "name": "stdout",
     "output_type": "stream",
     "text": [
      "None\n"
     ]
    }
   ],
   "source": [
    "print(bio.get('name'))"
   ]
  },
  {
   "cell_type": "code",
   "execution_count": 44,
   "id": "511b0c9d-cae8-4e2d-9d1e-2e8663b20047",
   "metadata": {},
   "outputs": [
    {
     "name": "stdout",
     "output_type": "stream",
     "text": [
      "key apple\n",
      "value 2\n",
      "key banana\n",
      "value 3\n",
      "key cherry\n",
      "value 1\n"
     ]
    }
   ],
   "source": [
    "my_dict = {'apple':'2', 'banana':'3', 'cherry':'1'}\n",
    "for i in my_dict:\n",
    "    print('key',i)\n",
    "    print('value',my_dict[i])"
   ]
  },
  {
   "cell_type": "code",
   "execution_count": 47,
   "id": "02e17216-1df2-45b7-b023-e085e9c6fee2",
   "metadata": {},
   "outputs": [
    {
     "name": "stdout",
     "output_type": "stream",
     "text": [
      "Key name\n",
      "Value Umer\n",
      "Key age\n",
      "Value 29\n",
      "Key city\n",
      "Value Karachi\n"
     ]
    }
   ],
   "source": [
    "bio = {\"name\":\"Umer\", \"age\":\"29\",\"city\":\"Karachi\"} \n",
    "for i in bio:\n",
    "    print('Key',i)\n",
    "    print('Value',bio[i])"
   ]
  },
  {
   "cell_type": "code",
   "execution_count": 48,
   "id": "3b13e86a-2dbc-4101-94c0-8eef40347723",
   "metadata": {},
   "outputs": [
    {
     "name": "stdout",
     "output_type": "stream",
     "text": [
      "Umer\n"
     ]
    }
   ],
   "source": [
    "print(bio['name'])"
   ]
  },
  {
   "cell_type": "code",
   "execution_count": 49,
   "id": "fb74ff77-7e84-4291-a122-af23fc3cb177",
   "metadata": {},
   "outputs": [
    {
     "data": {
      "text/plain": [
       "dict_items([('name', 'Umer'), ('age', '29'), ('city', 'Karachi')])"
      ]
     },
     "execution_count": 49,
     "metadata": {},
     "output_type": "execute_result"
    }
   ],
   "source": [
    "bio.items()"
   ]
  },
  {
   "cell_type": "code",
   "execution_count": 51,
   "id": "123c92db-5507-4df5-87f2-cd94892a7d88",
   "metadata": {},
   "outputs": [
    {
     "name": "stdout",
     "output_type": "stream",
     "text": [
      "name\n",
      "Umer\n",
      "age\n",
      "29\n",
      "city\n",
      "Karachi\n"
     ]
    }
   ],
   "source": [
    "for key, value in bio.items():\n",
    "    print(key)\n",
    "    print(value)"
   ]
  },
  {
   "cell_type": "markdown",
   "id": "e28f3bbc-dc19-4079-bc6d-263696818ebf",
   "metadata": {},
   "source": [
    "### ***Creating a tuple***"
   ]
  },
  {
   "cell_type": "code",
   "execution_count": 52,
   "id": "2da8b6a5-7d03-4853-9d1d-85eb7dfc7b77",
   "metadata": {},
   "outputs": [
    {
     "name": "stdout",
     "output_type": "stream",
     "text": [
      "(1, 2, 3, 4, 5)\n"
     ]
    }
   ],
   "source": [
    "my_tuple = (1,2,3,4,5)\n",
    "#indexing (0,1,2,....)     does have negative indexing as well like in list\n",
    "print(my_tuple)"
   ]
  },
  {
   "cell_type": "code",
   "execution_count": 58,
   "id": "f9eaf611-60c8-4c8f-b3d6-5e9482df4435",
   "metadata": {},
   "outputs": [
    {
     "name": "stdout",
     "output_type": "stream",
     "text": [
      "('hello', 'my', 'error')\n"
     ]
    },
    {
     "data": {
      "text/plain": [
       "tuple"
      ]
     },
     "execution_count": 58,
     "metadata": {},
     "output_type": "execute_result"
    }
   ],
   "source": [
    "my = \"hello\",\"my\",\"error\"\n",
    "print(my)\n",
    "type(my)"
   ]
  },
  {
   "cell_type": "code",
   "execution_count": 60,
   "id": "40f93d98-903a-4e06-b65d-9b2aa8f6348f",
   "metadata": {},
   "outputs": [
    {
     "name": "stdout",
     "output_type": "stream",
     "text": [
      "hello my error\n"
     ]
    }
   ],
   "source": [
    "x,y,z = my\n",
    "print(x,y,z)"
   ]
  },
  {
   "cell_type": "code",
   "execution_count": 63,
   "id": "2fe9b268-fe1d-4611-be95-fbc7cfd539e3",
   "metadata": {},
   "outputs": [
    {
     "name": "stdout",
     "output_type": "stream",
     "text": [
      "(6, 2, 3, 4, 5, 6)\n"
     ]
    }
   ],
   "source": [
    "tuple1 = 6,2,3\n",
    "tuple2 = 4,5,6\n",
    "concatenate = tuple1 + tuple2\n",
    "print(concatenate)"
   ]
  },
  {
   "cell_type": "code",
   "execution_count": 65,
   "id": "b05005d2-723b-4e89-8ae1-862c42ec13b6",
   "metadata": {},
   "outputs": [
    {
     "data": {
      "text/plain": [
       "(6, 2, 3, 6, 2, 3, 6, 2, 3, 6, 2, 3, 6, 2, 3)"
      ]
     },
     "execution_count": 65,
     "metadata": {},
     "output_type": "execute_result"
    }
   ],
   "source": [
    "tuple1 = 6,2,3     #repetition in tuple\n",
    "repeat = tuple1*5\n",
    "repeat"
   ]
  },
  {
   "cell_type": "code",
   "execution_count": 66,
   "id": "b91d9afc-36fc-4efd-9fad-49def09f3afa",
   "metadata": {},
   "outputs": [
    {
     "name": "stdout",
     "output_type": "stream",
     "text": [
      "True\n"
     ]
    }
   ],
   "source": [
    "print(6 in tuple1)"
   ]
  },
  {
   "cell_type": "markdown",
   "id": "eb3cea61-8f80-4d27-8d55-23c873cfebc6",
   "metadata": {},
   "source": [
    "***unpacking of tuple***"
   ]
  },
  {
   "cell_type": "code",
   "execution_count": 67,
   "id": "2afc02c8-3f7a-4ad8-ab0a-f7c2307c2e27",
   "metadata": {},
   "outputs": [],
   "source": [
    "tuple1 = 6,2,3 "
   ]
  },
  {
   "cell_type": "code",
   "execution_count": 68,
   "id": "c3a372d2-c4c0-4242-9d5c-75f1ab520d73",
   "metadata": {},
   "outputs": [],
   "source": [
    "a,b,c = tuple1"
   ]
  },
  {
   "cell_type": "code",
   "execution_count": 69,
   "id": "0d90d54f-c8dc-4677-9442-2cd3727f130c",
   "metadata": {},
   "outputs": [
    {
     "data": {
      "text/plain": [
       "6"
      ]
     },
     "execution_count": 69,
     "metadata": {},
     "output_type": "execute_result"
    }
   ],
   "source": [
    "a"
   ]
  },
  {
   "cell_type": "code",
   "execution_count": 70,
   "id": "450e3aea-d3ea-46a6-a8ca-daf15fc7ac69",
   "metadata": {},
   "outputs": [
    {
     "data": {
      "text/plain": [
       "2"
      ]
     },
     "execution_count": 70,
     "metadata": {},
     "output_type": "execute_result"
    }
   ],
   "source": [
    "b"
   ]
  },
  {
   "cell_type": "code",
   "execution_count": 71,
   "id": "ffe898c9-32ac-46c9-ad60-6d6921c5d874",
   "metadata": {},
   "outputs": [
    {
     "data": {
      "text/plain": [
       "3"
      ]
     },
     "execution_count": 71,
     "metadata": {},
     "output_type": "execute_result"
    }
   ],
   "source": [
    "c"
   ]
  },
  {
   "cell_type": "code",
   "execution_count": 75,
   "id": "873ea854-f69e-4c11-92d2-6a3478a0651b",
   "metadata": {},
   "outputs": [],
   "source": [
    "tup = \"I\",\"am\",\"learning\",\"python\""
   ]
  },
  {
   "cell_type": "code",
   "execution_count": 76,
   "id": "47a5c011-461d-4b82-82f6-e79b2bf570e1",
   "metadata": {},
   "outputs": [
    {
     "data": {
      "text/plain": [
       "tuple"
      ]
     },
     "execution_count": 76,
     "metadata": {},
     "output_type": "execute_result"
    }
   ],
   "source": [
    "type(tup)"
   ]
  },
  {
   "cell_type": "code",
   "execution_count": 77,
   "id": "2d3376fb-b295-4c4f-937e-7fa2705f7311",
   "metadata": {},
   "outputs": [
    {
     "name": "stdout",
     "output_type": "stream",
     "text": [
      "I\n",
      "am\n",
      "learning\n",
      "python\n"
     ]
    }
   ],
   "source": [
    "for i in tup:\n",
    "    print(i)"
   ]
  },
  {
   "cell_type": "markdown",
   "id": "19bf3f35-bb22-432f-ad81-37b6d1162018",
   "metadata": {},
   "source": [
    "***Introduction to Pandas***"
   ]
  },
  {
   "cell_type": "code",
   "execution_count": 79,
   "id": "ea9e6a17-7864-4512-99b2-a762fbfa2d80",
   "metadata": {},
   "outputs": [],
   "source": [
    "import pandas as pd    #aliasing (to give longer name a short name)"
   ]
  },
  {
   "cell_type": "code",
   "execution_count": null,
   "id": "559d5a03-63d9-4397-b2d7-035ffc50172b",
   "metadata": {},
   "outputs": [],
   "source": []
  }
 ],
 "metadata": {
  "kernelspec": {
   "display_name": "Python 3 (ipykernel)",
   "language": "python",
   "name": "python3"
  },
  "language_info": {
   "codemirror_mode": {
    "name": "ipython",
    "version": 3
   },
   "file_extension": ".py",
   "mimetype": "text/x-python",
   "name": "python",
   "nbconvert_exporter": "python",
   "pygments_lexer": "ipython3",
   "version": "3.11.7"
  }
 },
 "nbformat": 4,
 "nbformat_minor": 5
}
