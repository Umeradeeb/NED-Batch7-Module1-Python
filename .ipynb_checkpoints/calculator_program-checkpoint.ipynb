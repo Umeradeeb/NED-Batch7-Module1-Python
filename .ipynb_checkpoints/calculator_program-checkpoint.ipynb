{
 "cells": [
  {
   "cell_type": "markdown",
   "id": "04388203-3046-4542-a5db-a9d56a0d42b0",
   "metadata": {},
   "source": [
    "\n",
    "## create a program which takes two operands and one operator from user and your calculator will be able perform these operation \n",
    "\n",
    "- Addition \n",
    "- Subtraction \n",
    "- Multiplication \n",
    "- Division \n",
    "- Square Root \n",
    "- Power of a numbernumbernumbernumber"
   ]
  },
  {
   "cell_type": "code",
   "execution_count": 21,
   "id": "70eb0cd5-ef3b-47ef-a083-edee5cdca22d",
   "metadata": {},
   "outputs": [
    {
     "name": "stdout",
     "output_type": "stream",
     "text": [
      "Welcome to my calculator\n",
      "What would you like to perform?\n",
      "1. Addition\n",
      "2. Subtraction\n",
      "3. Multiplication\n",
      "4. Division\n",
      "5. Square root\n",
      "6. Power of a number\n"
     ]
    },
    {
     "name": "stdin",
     "output_type": "stream",
     "text": [
      "Enter your operand: 5\n",
      "Enter number: -4\n"
     ]
    },
    {
     "name": "stdout",
     "output_type": "stream",
     "text": [
      "Square roof of -4.0 = Math Error\n"
     ]
    }
   ],
   "source": [
    "def add(x,y):\n",
    "    return  x+y\n",
    "    \n",
    "def subtract(x,y):\n",
    "    return  x-y\n",
    "    \n",
    "def multiplication(x,y):\n",
    "    return  x*y\n",
    "    \n",
    "def division(x,y):\n",
    "    if y == 0:\n",
    "        return \"Math Error\"\n",
    "    else:\n",
    "        return x/y\n",
    "    \n",
    "def square_root(x):\n",
    "    if x <0:\n",
    "        return \"Math Error\"\n",
    "    else:\n",
    "        return x**0.5\n",
    "    \n",
    "def exponent(x,y):\n",
    "    return x**y\n",
    "    \n",
    "def calculator():\n",
    "    print('Welcome to my calculator')\n",
    "    print('What would you like to perform?')\n",
    "    print('1. Addition')\n",
    "    print('2. Subtraction')\n",
    "    print('3. Multiplication')\n",
    "    print('4. Division')\n",
    "    print('5. Square root')\n",
    "    print('6. Power of a number')\n",
    "\n",
    "    user_input = int(input('Enter your operand:'))\n",
    "    if user_input in [1, 2, 3, 4, 6]:\n",
    "        number_1 = float(input('Enter first number'))\n",
    "        number_2 = float(input('Enter second number:'))\n",
    "        if user_input == 1:\n",
    "            result = add(number_1, number_2)\n",
    "            print(f'Result: {number_1} + {number_2} = {result}')\n",
    "        elif user_input == 2:\n",
    "            result = subtract(number_1, number_2)\n",
    "            print(f'Result: {number_1} - {number_2} = {result}')\n",
    "        elif user_input == 3:\n",
    "            result = multiplication(number_1, number_2)\n",
    "            print(f'Result: {number_1} * {number_2} = {result}')\n",
    "        elif user_input == 4:\n",
    "            result = division(number_1, number_2)\n",
    "            print(f'Result: {number_1} / {number_2} = {result}')\n",
    "        elif user_input == 6:\n",
    "            result = exponent(number_1, number_2)\n",
    "            print(f'Result: {number_1} ** {number_2} = {result}')\n",
    "    elif user_input == 5:\n",
    "        number = float(input('Enter number:'))\n",
    "        result = square_root(number)\n",
    "        print(f'Square roof of {number} = {result}')\n",
    "\n",
    "    else:\n",
    "        print('Enter valid selection')\n",
    "\n",
    "calculator()    "
   ]
  },
  {
   "cell_type": "code",
   "execution_count": null,
   "id": "b9326bff-ba63-4060-b117-ba07bef7ea1d",
   "metadata": {},
   "outputs": [],
   "source": []
  }
 ],
 "metadata": {
  "kernelspec": {
   "display_name": "Python 3 (ipykernel)",
   "language": "python",
   "name": "python3"
  },
  "language_info": {
   "codemirror_mode": {
    "name": "ipython",
    "version": 3
   },
   "file_extension": ".py",
   "mimetype": "text/x-python",
   "name": "python",
   "nbconvert_exporter": "python",
   "pygments_lexer": "ipython3",
   "version": "3.11.7"
  }
 },
 "nbformat": 4,
 "nbformat_minor": 5
}
