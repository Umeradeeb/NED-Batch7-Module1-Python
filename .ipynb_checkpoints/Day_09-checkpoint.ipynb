{
 "cells": [
  {
   "cell_type": "markdown",
   "id": "69cb830d",
   "metadata": {},
   "source": [
    "# Functions"
   ]
  },
  {
   "cell_type": "raw",
   "id": "0527a3b5",
   "metadata": {},
   "source": [
    "Functions in Python provide organized, reusable and modular code to perform a set of specific actions.\n",
    "Functions simplify the coding process, prevent redundant logic, and make the code easier to follow. This topic describes the declaration and utilization of functions in Python.\n",
    "\n",
    "Python has many built-in functions like print().,input(), len(). \n",
    "Besides built-ins you can also create your own functions to do more specific jobs—these are called user-defined functions."
   ]
  },
  {
   "cell_type": "raw",
   "id": "ed654a55",
   "metadata": {},
   "source": [
    "def function_name(parameter):\n",
    "    \"\"\"doc string\"\"\"\n",
    "    expression\n",
    "    statement(s)"
   ]
  },
  {
   "cell_type": "code",
   "execution_count": 6,
   "id": "f6a84b8f",
   "metadata": {},
   "outputs": [
    {
     "data": {
      "text/plain": [
       "4"
      ]
     },
     "execution_count": 6,
     "metadata": {},
     "output_type": "execute_result"
    }
   ],
   "source": [
    "def square(): #function to find square of a number\n",
    "    \"\"\"This function is used for only square\"\"\"  # \"\"\"doc string\"\"\"\n",
    "    x = 2**2  # expression\n",
    "    return x # statement\n",
    "\n",
    "square()"
   ]
  },
  {
   "cell_type": "code",
   "execution_count": 10,
   "id": "ae864081",
   "metadata": {},
   "outputs": [
    {
     "name": "stdout",
     "output_type": "stream",
     "text": [
      "enter a number: 3\n"
     ]
    },
    {
     "data": {
      "text/plain": [
       "27"
      ]
     },
     "execution_count": 10,
     "metadata": {},
     "output_type": "execute_result"
    }
   ],
   "source": [
    "i = int(input(\"enter a number: \"))\n",
    "\n",
    "def cube():\n",
    "  x = i**3\n",
    "  return x\n",
    "\n",
    "cube()"
   ]
  },
  {
   "cell_type": "code",
   "execution_count": 14,
   "id": "ebb56f5e",
   "metadata": {},
   "outputs": [
    {
     "name": "stdout",
     "output_type": "stream",
     "text": [
      "Perform Adition\n"
     ]
    },
    {
     "data": {
      "text/plain": [
       "7"
      ]
     },
     "execution_count": 14,
     "metadata": {},
     "output_type": "execute_result"
    }
   ],
   "source": [
    "\n",
    "def add():\n",
    "  x = 3+4\n",
    "  print(\"Perform Adition\")\n",
    "  return x\n",
    "\n",
    "add()"
   ]
  },
  {
   "cell_type": "code",
   "execution_count": 8,
   "id": "3e033038",
   "metadata": {},
   "outputs": [
    {
     "name": "stdout",
     "output_type": "stream",
     "text": [
      "This is the 1st program of function\n",
      "It is building block\n"
     ]
    }
   ],
   "source": [
    "def greeting():\n",
    "    print(\"This is the 1st program of function\")\n",
    "    print(\"It is building block\")\n",
    "greeting() # Calling function"
   ]
  },
  {
   "cell_type": "code",
   "execution_count": 17,
   "id": "68f76119",
   "metadata": {},
   "outputs": [
    {
     "name": "stdout",
     "output_type": "stream",
     "text": [
      "First Name Asad Ahmed\n"
     ]
    }
   ],
   "source": [
    "def myfunc(fname,lname): # function with one paramenter\n",
    "    print(\"First Name \"+ fname+' '+lname)\n",
    "name = input()\n",
    "lname =input() \n",
    "myfunc(\"Asad\",\"Ahmed\") # function with one argument\n",
    "myfunc(name,lname)"
   ]
  },
  {
   "cell_type": "code",
   "execution_count": 18,
   "id": "4bcc7784",
   "metadata": {},
   "outputs": [
    {
     "name": "stdout",
     "output_type": "stream",
     "text": [
      "Enter your first name: Sajid\n",
      "Enter your last name: Majeed\n",
      "Enter your age: 31\n",
      "Enter your qualification: MS Data Science\n",
      "Name: Sajid Majeed\n",
      "Age: 31\n",
      "Qualification: MS Data Science\n"
     ]
    }
   ],
   "source": [
    "def myfunc(fname, lname, age, qualification):\n",
    "    print(\"Name: \" + fname + \" \" + lname)\n",
    "    print(\"Age: \" + str(age))\n",
    "    print(\"Qualification: \" + qualification)\n",
    "\n",
    "fname = input(\"Enter your first name: \")\n",
    "lname = input(\"Enter your last name: \")\n",
    "age = int(input(\"Enter your age: \"))\n",
    "qualification = input(\"Enter your qualification: \")\n",
    "\n",
    "myfunc(fname, lname, age, qualification)"
   ]
  },
  {
   "cell_type": "code",
   "execution_count": 24,
   "id": "15699684",
   "metadata": {},
   "outputs": [
    {
     "name": "stdout",
     "output_type": "stream",
     "text": [
      "Howdy\n"
     ]
    }
   ],
   "source": [
    "def greet_two(greeting=\"Howdy\"):\n",
    "    print(greeting)\n",
    "greet_two()"
   ]
  },
  {
   "cell_type": "code",
   "execution_count": null,
   "id": "ea45ead0",
   "metadata": {},
   "outputs": [],
   "source": [
    "4! = 4*3*2*1\n",
    "\n",
    "4\n",
    "return 4 * factorial(4-1)---> 4*3\n",
    "       3 * factorial(3-1)---> 3*2"
   ]
  },
  {
   "cell_type": "code",
   "execution_count": 31,
   "id": "e87b3575",
   "metadata": {},
   "outputs": [
    {
     "name": "stdout",
     "output_type": "stream",
     "text": [
      "Enter your desired Number4\n",
      "Factorial of your desired Num is  4\n"
     ]
    }
   ],
   "source": [
    "def factorial(num): # Calculate factorial of a number using recursive function c 4x3x2x1=24\n",
    "    if num <=1 :\n",
    "        return 1\n",
    "    else:\n",
    "        return num * factorial(num-1)\n",
    "num=int(input(\"Enter your desired Number\"))\n",
    "print(\"Factorial of your desired Num is \",num)"
   ]
  },
  {
   "cell_type": "code",
   "execution_count": 32,
   "id": "2bc7d268",
   "metadata": {},
   "outputs": [],
   "source": [
    "# calculate a perimeter and area of a rectangle using function methodology . \n",
    "# Take user input also\n",
    "# Area = length * Breadth\n",
    "# Perimeter = 2(length+Breadth)"
   ]
  },
  {
   "cell_type": "code",
   "execution_count": null,
   "id": "372465f9",
   "metadata": {},
   "outputs": [],
   "source": []
  }
 ],
 "metadata": {
  "kernelspec": {
   "display_name": "Python 3",
   "language": "python",
   "name": "python3"
  },
  "language_info": {
   "codemirror_mode": {
    "name": "ipython",
    "version": 3
   },
   "file_extension": ".py",
   "mimetype": "text/x-python",
   "name": "python",
   "nbconvert_exporter": "python",
   "pygments_lexer": "ipython3",
   "version": "3.8.8"
  }
 },
 "nbformat": 4,
 "nbformat_minor": 5
}
