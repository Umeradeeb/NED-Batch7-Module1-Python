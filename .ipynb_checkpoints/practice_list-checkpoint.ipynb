{
 "cells": [
  {
   "cell_type": "markdown",
   "id": "5cef4a73-0e5b-49a2-9e0b-e100bc223c3b",
   "metadata": {},
   "source": [
    "***Exercises: Level 1The following is a list of 10 students ages:***\n",
    "\n",
    "ages = [19, 22, 19, 24, 20, 25, 26, 24, 25, 24]"
   ]
  },
  {
   "cell_type": "markdown",
   "id": "dda49b0c-a3ad-446b-9e25-fc7b21eed943",
   "metadata": {},
   "source": [
    "Q1: Sort the list and find the min and max age"
   ]
  },
  {
   "cell_type": "code",
   "execution_count": 1,
   "id": "ab78e9aa-7274-4059-aedf-a752c9b5c10f",
   "metadata": {},
   "outputs": [
    {
     "name": "stdout",
     "output_type": "stream",
     "text": [
      "[19, 19, 20, 22, 24, 24, 24, 25, 25, 26]\n",
      "Minimum age is: 19\n",
      "Maximum age is: 26\n"
     ]
    }
   ],
   "source": [
    "ages = [19, 22, 19, 24, 20, 25, 26, 24, 25, 24]\n",
    "ages.sort()\n",
    "print(ages)\n",
    "\n",
    "mini = min(ages)\n",
    "print(\"Minimum age is:\", mini)\n",
    "maxi = max(ages)\n",
    "print(\"Maximum age is:\", maxi)"
   ]
  },
  {
   "cell_type": "markdown",
   "id": "71189d77-f30d-4659-a5c8-1911ab8cc991",
   "metadata": {},
   "source": [
    "Q2: Add the min age and the max age again to the list"
   ]
  },
  {
   "cell_type": "code",
   "execution_count": 2,
   "id": "d485365a-5ab7-4ade-af26-d00c9887b3c9",
   "metadata": {},
   "outputs": [
    {
     "name": "stdout",
     "output_type": "stream",
     "text": [
      "Minimum age is: 19\n",
      "Maximum age is: 26\n",
      "[19, 22, 19, 24, 20, 25, 26, 24, 25, 24, 19, 26]\n"
     ]
    }
   ],
   "source": [
    "ages = [19, 22, 19, 24, 20, 25, 26, 24, 25, 24]\n",
    "mini = min(ages)\n",
    "print(\"Minimum age is:\", mini)\n",
    "maxi = max(ages)\n",
    "print(\"Maximum age is:\", maxi)\n",
    "\n",
    "ages.append(mini)\n",
    "ages.append(maxi)\n",
    "\n",
    "print(ages)"
   ]
  },
  {
   "cell_type": "markdown",
   "id": "5c11518e-c1c9-4073-9ed8-f479a8735888",
   "metadata": {},
   "source": [
    "Q3: Find the median age (one middle item or two middle items divided by two)"
   ]
  },
  {
   "cell_type": "code",
   "execution_count": 3,
   "id": "0c31644b-7936-415e-8665-dfcfb8bd9060",
   "metadata": {},
   "outputs": [
    {
     "name": "stdout",
     "output_type": "stream",
     "text": [
      "[19, 19, 20, 22, 24, 24, 24, 25, 25, 26]\n",
      "24.0\n"
     ]
    }
   ],
   "source": [
    "ages = [19, 22, 19, 24, 20, 25, 26, 24, 25, 24]\n",
    "ages.sort()\n",
    "print(ages)\n",
    "n = len(ages)\n",
    "if n % 2 ==1:\n",
    "    median_age = ages[n//2]\n",
    "else:\n",
    "    median_age = (ages[n//2+1] + ages[n//2]) / 2\n",
    "print(median_age)"
   ]
  },
  {
   "cell_type": "markdown",
   "id": "2e7c5a0b-7a26-45b3-9e5e-30a526b58796",
   "metadata": {},
   "source": [
    "Q4: Find the average age (sum of all items divided by their number )"
   ]
  },
  {
   "cell_type": "code",
   "execution_count": 4,
   "id": "1edb304f-7728-4356-8eed-50a96fe061c0",
   "metadata": {},
   "outputs": [
    {
     "name": "stdout",
     "output_type": "stream",
     "text": [
      "Total Numbers 10\n",
      "Sum of numbers 228\n",
      "The average age is 22.8\n"
     ]
    }
   ],
   "source": [
    "ages = [19, 22, 19, 24, 20, 25, 26, 24, 25, 24] \n",
    "total = len(ages)\n",
    "print('Total Numbers',total)\n",
    "sum=0\n",
    "for i in ages:\n",
    "    sum+=i\n",
    "print('Sum of numbers',sum)\n",
    "\n",
    "average = sum / total\n",
    "print('The average age is', average)"
   ]
  },
  {
   "cell_type": "markdown",
   "id": "cd82e885-cbdb-4190-be33-862882ed9cdd",
   "metadata": {},
   "source": [
    "Q5: Find the range of the ages (max minus min)"
   ]
  },
  {
   "cell_type": "code",
   "execution_count": 5,
   "id": "556dbabc-fe1a-40c9-a398-d871dfae8d4e",
   "metadata": {},
   "outputs": [
    {
     "name": "stdout",
     "output_type": "stream",
     "text": [
      "Maximum age: 26\n",
      "Minimum age: 19\n",
      "The range of ages is: 7\n"
     ]
    }
   ],
   "source": [
    "ages = [19, 22, 19, 24, 20, 25, 26, 24, 25, 24]\n",
    "maxi = max(ages)\n",
    "print(\"Maximum age:\", maxi)\n",
    "\n",
    "mini = min(ages)\n",
    "print(\"Minimum age:\", mini)\n",
    "\n",
    "range = maxi - mini\n",
    "print(\"The range of ages is:\", range)"
   ]
  },
  {
   "cell_type": "markdown",
   "id": "c93691a6-7658-4751-86d0-050656ee7ced",
   "metadata": {},
   "source": [
    "Q6: Compare the value of (min - average) and (max - average), use  method"
   ]
  },
  {
   "cell_type": "code",
   "execution_count": 6,
   "id": "262acda2-919f-4d15-9525-18f205a83fc8",
   "metadata": {},
   "outputs": [
    {
     "name": "stdout",
     "output_type": "stream",
     "text": [
      "Total Ages 10\n",
      "Sum of Ages 228\n",
      "The average age is 22.8\n",
      "Maximum age: 26\n",
      "Minimum age: 19\n",
      "-3.8000000000000007\n",
      "3.1999999999999993\n"
     ]
    }
   ],
   "source": [
    "ages = [19, 22, 19, 24, 20, 25, 26, 24, 25, 24]\n",
    "total = len(ages)\n",
    "print('Total Ages',total)\n",
    "sum=0\n",
    "for i in ages:\n",
    "    sum+=i\n",
    "print('Sum of Ages',sum)\n",
    "\n",
    "average = sum / total\n",
    "print('The average age is', average)\n",
    "\n",
    "maxi = max(ages)\n",
    "print(\"Maximum age:\", maxi)\n",
    "\n",
    "mini = min(ages)\n",
    "print(\"Minimum age:\", mini)\n",
    "\n",
    "compare_min = mini - average\n",
    "print(compare_min)\n",
    "compare_max = maxi - average\n",
    "print(compare_max)"
   ]
  },
  {
   "cell_type": "markdown",
   "id": "184eb34a-7bbc-49b6-b881-8ee169d17ab4",
   "metadata": {},
   "source": [
    "Q7: Find the middle country(ies) in the countries list. Divide the countries list into two equal lists if it is even if not one more country for the first half.['China', 'Russia', 'USA', 'Finland', 'Sweden', 'Norway', 'Denmark']. Unpack the first three countries and the rest as scandic countries."
   ]
  },
  {
   "cell_type": "code",
   "execution_count": 9,
   "id": "d43854b8-9d4f-4702-972b-0b6281866ff7",
   "metadata": {},
   "outputs": [
    {
     "name": "stdout",
     "output_type": "stream",
     "text": [
      "['China', 'Russia', 'USA', 'Finland']\n",
      "['Sweden', 'Norway', 'Denmark']\n",
      "['China', 'Russia', 'USA']\n",
      "['Finland', 'Sweden', 'Norway', 'Denmark']\n"
     ]
    }
   ],
   "source": [
    "countries = ['China', 'Russia', 'USA', 'Finland', 'Sweden', 'Norway', 'Denmark']\n",
    "n = len(countries) \n",
    "\n",
    "if n % 2 == 0:\n",
    "    first = countries[:n//2]\n",
    "    second = countries[n//2:]\n",
    "else:\n",
    "    first = countries[:n//2+1]\n",
    "    second = countries[n//2+1:]\n",
    "\n",
    "c1, c2, c3, *scandic_countries = countries \n",
    "\n",
    "first_three = [c1, c2, c3]\n",
    "\n",
    "print(first)\n",
    "print(second)\n",
    "print(first_three)\n",
    "print(scandic_countries)"
   ]
  },
  {
   "cell_type": "code",
   "execution_count": null,
   "id": "76b62d2c-238b-41be-8438-1aa12ab4bea4",
   "metadata": {},
   "outputs": [],
   "source": []
  }
 ],
 "metadata": {
  "kernelspec": {
   "display_name": "Python 3 (ipykernel)",
   "language": "python",
   "name": "python3"
  },
  "language_info": {
   "codemirror_mode": {
    "name": "ipython",
    "version": 3
   },
   "file_extension": ".py",
   "mimetype": "text/x-python",
   "name": "python",
   "nbconvert_exporter": "python",
   "pygments_lexer": "ipython3",
   "version": "3.11.7"
  }
 },
 "nbformat": 4,
 "nbformat_minor": 5
}
