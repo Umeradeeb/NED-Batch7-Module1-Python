{
 "cells": [
  {
   "cell_type": "markdown",
   "id": "424bf79a-c224-4019-9448-e596ca2a89a7",
   "metadata": {},
   "source": [
    "Exercises: Level 1 Create an empty tuple. Create a tuple containing names of your sisters and your brothers (imaginary siblings are fine). Join brothers and sisters tuples and assign it to siblings. How many siblings do you have? Modify the siblings tuple and add the name of your father and mother and assign it to family_members.\n",
    "\r\n",
    "Exercises: Level  2Unpack siblings and parents from family_member. sCreate fruits, vegetables and animal products tuples. Join the three tuples and assign it to a variable called food_stuff_tp .Change the about food_stuff_tp tuple to a food_stuff_lt lis. tSlice out the middle item or items from the food_stuff_tp tuple or food_stuff_lt list .Slice out the first three items and the last three items from food_staff_lt lis. tDelete the food_staff_tp tuple completel. yCheck if an item exists in tuple\n",
    "\n",
    "\n",
    "\n",
    "\n",
    "\r\n",
    "Check if 'Estonia' is a nordic count\n",
    "\n",
    "\n",
    "\n",
    "\n",
    "ry\r\n",
    "Check if 'Iceland' is a nordic country"
   ]
  },
  {
   "cell_type": "code",
   "execution_count": 1,
   "id": "af951177-ba5d-4007-b6ed-65662db0c9c9",
   "metadata": {},
   "outputs": [
    {
     "name": "stdout",
     "output_type": "stream",
     "text": [
      "<class 'type'>\n",
      "('Ahmed', 'Usama')\n",
      "<class 'tuple'>\n",
      "('Maryam', 'Sana')\n",
      "<class 'tuple'>\n"
     ]
    }
   ],
   "source": [
    "#Create an empty tuple. Create a tuple containing names of your sisters and your brothers (imaginary siblings are fine).\n",
    "empty_tuple = ()\n",
    "print(type(tuple))\n",
    "\n",
    "brothers = ('Ahmed', 'Usama') \n",
    "sisters = ('Maryam', 'Sana')\n",
    "print(brothers)\n",
    "print(type(brothers))\n",
    "print(sisters)\n",
    "print(type(sisters))"
   ]
  },
  {
   "cell_type": "code",
   "execution_count": 2,
   "id": "d0fd8d15-cd90-4a8b-b870-433dba96f57b",
   "metadata": {},
   "outputs": [
    {
     "name": "stdout",
     "output_type": "stream",
     "text": [
      "('Ahmed', 'Usama', 'Maryam', 'Sana')\n",
      "<class 'tuple'>\n"
     ]
    }
   ],
   "source": [
    "# Join brothers and sisters tuples and assign it to siblings\n",
    "\n",
    "siblings = brothers + sisters\n",
    "print(siblings)\n",
    "print(type(siblings))\n"
   ]
  },
  {
   "cell_type": "code",
   "execution_count": 3,
   "id": "a95844b9-7fb5-4db6-9ade-3421bf3f7f43",
   "metadata": {},
   "outputs": [
    {
     "name": "stdout",
     "output_type": "stream",
     "text": [
      "('Ahmed', 'Usama', 'Maryam', 'Sana', 'Raza', 'Zara')\n",
      "<class 'tuple'>\n"
     ]
    }
   ],
   "source": [
    "#How many siblings do you have? Modify the siblings tuple and add the name of your father and mother and assign it to family_members.\n",
    "\n",
    "father = 'Raza'\n",
    "mother = 'Zara'\n",
    "\n",
    "family_members = siblings + (father, mother)\n",
    "\n",
    "print(family_members)\n",
    "print(type(family_members))"
   ]
  },
  {
   "cell_type": "code",
   "execution_count": 4,
   "id": "311cdf10-5b40-4c9e-981a-82d1d1f6b835",
   "metadata": {},
   "outputs": [
    {
     "name": "stdout",
     "output_type": "stream",
     "text": [
      "('Ahmed', 'Usama', 'Maryam', 'Sana')\n",
      "<class 'tuple'>\n",
      "('Raza', 'Zara')\n",
      "<class 'tuple'>\n"
     ]
    }
   ],
   "source": [
    "#Unpack siblings and parents from family_members.\n",
    "\n",
    "a,b,c,d,e,f = family_members\n",
    "\n",
    "sib = (a,b,c,d)\n",
    "parents = (e,f)\n",
    "print(sib)\n",
    "print(type(sib))\n",
    "print(parents)\n",
    "print(type(parents))"
   ]
  },
  {
   "cell_type": "code",
   "execution_count": 5,
   "id": "47922c4d-827c-40af-97cf-6832796d875b",
   "metadata": {},
   "outputs": [
    {
     "name": "stdout",
     "output_type": "stream",
     "text": [
      "<class 'tuple'>\n"
     ]
    }
   ],
   "source": [
    "#Create fruits, vegetables and animal products tuples.\n",
    "\n",
    "fruits = ('Apple', 'Mango', 'Peach')\n",
    "vegetables = ('Potato', 'Tomato', 'Ladyfinger')\n",
    "animal_products = ('Milk', 'Eggs', 'Chese')\n",
    "\n",
    "print(type(fruits))"
   ]
  },
  {
   "cell_type": "code",
   "execution_count": 6,
   "id": "84b38228-5ae3-45da-8528-05668652ba7c",
   "metadata": {},
   "outputs": [
    {
     "name": "stdout",
     "output_type": "stream",
     "text": [
      "<class 'tuple'>\n"
     ]
    },
    {
     "data": {
      "text/plain": [
       "('Apple',\n",
       " 'Mango',\n",
       " 'Peach',\n",
       " 'Potato',\n",
       " 'Tomato',\n",
       " 'Ladyfinger',\n",
       " 'Milk',\n",
       " 'Eggs',\n",
       " 'Chese')"
      ]
     },
     "execution_count": 6,
     "metadata": {},
     "output_type": "execute_result"
    }
   ],
   "source": [
    "#Join the three tuples and assign it to a variable called food_stuff_tp.\n",
    "food_stuff_tp = fruits + vegetables + animal_products\n",
    "print(type(food_stuff_tp))\n",
    "food_stuff_tp"
   ]
  },
  {
   "cell_type": "code",
   "execution_count": 7,
   "id": "5ec00559-376e-4ee4-ae3d-bb89afc002d8",
   "metadata": {},
   "outputs": [
    {
     "name": "stdout",
     "output_type": "stream",
     "text": [
      "<class 'list'>\n"
     ]
    },
    {
     "data": {
      "text/plain": [
       "['Apple',\n",
       " 'Mango',\n",
       " 'Peach',\n",
       " 'Potato',\n",
       " 'Tomato',\n",
       " 'Ladyfinger',\n",
       " 'Milk',\n",
       " 'Eggs',\n",
       " 'Chese']"
      ]
     },
     "execution_count": 7,
     "metadata": {},
     "output_type": "execute_result"
    }
   ],
   "source": [
    "#Change the about food_stuff_tp tuple to a food_stuff_lt list.\n",
    "\n",
    "food_stuff_lt = list(food_stuff_tp)\n",
    "print(type(food_stuff_lt))\n",
    "food_stuff_lt"
   ]
  },
  {
   "cell_type": "code",
   "execution_count": 8,
   "id": "a2faec92-d2dc-482a-b63d-d9f573e40889",
   "metadata": {},
   "outputs": [
    {
     "name": "stdout",
     "output_type": "stream",
     "text": [
      "9\n",
      "Tomato\n"
     ]
    }
   ],
   "source": [
    "#Slice out the middle item or items from the food_stuff_tp tuple or food_stuff_lt list\n",
    "\n",
    "n = len(food_stuff_lt)\n",
    "print(n)\n",
    "\n",
    "if n % 2 == 0:\n",
    "    middle = food_stuff_lt[n//2 -1,n//2 +1]\n",
    "else:\n",
    "    middle = food_stuff_lt[n//2]\n",
    "    \n",
    "print(middle)\n",
    "\n"
   ]
  },
  {
   "cell_type": "code",
   "execution_count": 9,
   "id": "582859bb-3988-4b73-8186-989c7a38f19e",
   "metadata": {},
   "outputs": [
    {
     "name": "stdout",
     "output_type": "stream",
     "text": [
      "['Apple', 'Mango', 'Peach']\n",
      "['Milk', 'Eggs', 'Chese']\n"
     ]
    }
   ],
   "source": [
    "#Slice out the first three items and the last three items from food_staff_lt list\n",
    "\n",
    "first_three = food_stuff_lt[:3]\n",
    "print(first_three)\n",
    "\n",
    "last_three = food_stuff_lt[-3:]\n",
    "print(last_three)"
   ]
  },
  {
   "cell_type": "code",
   "execution_count": 10,
   "id": "c7c5fb68-b527-449f-b0f2-c12c3209e960",
   "metadata": {},
   "outputs": [
    {
     "name": "stdout",
     "output_type": "stream",
     "text": [
      "('Apple', 'Mango', 'Peach', 'Potato', 'Tomato', 'Ladyfinger', 'Milk', 'Eggs', 'Chese')\n",
      "Yes! Mango exists in tuple\n"
     ]
    }
   ],
   "source": [
    "#Check if an item exists in tuple\n",
    "print(food_stuff_tp)\n",
    "if 'Mango' in food_stuff_tp:\n",
    "    print('Yes! Mango exists in tuple')\n",
    "else:\n",
    "    print('Mango doesnt exists in tuple')\n",
    "          "
   ]
  },
  {
   "cell_type": "code",
   "execution_count": 11,
   "id": "8a9804d0-276c-43f0-84b2-74116c27cefd",
   "metadata": {},
   "outputs": [],
   "source": [
    "#Delete the food_staff_tp tuple complete\n",
    "del food_stuff_tp"
   ]
  },
  {
   "cell_type": "code",
   "execution_count": 12,
   "id": "a30dfe34-d1d2-48c7-bae4-55512a171aa1",
   "metadata": {},
   "outputs": [
    {
     "ename": "NameError",
     "evalue": "name 'food_stuff_tp' is not defined",
     "output_type": "error",
     "traceback": [
      "\u001b[1;31m---------------------------------------------------------------------------\u001b[0m",
      "\u001b[1;31mNameError\u001b[0m                                 Traceback (most recent call last)",
      "Cell \u001b[1;32mIn[12], line 1\u001b[0m\n\u001b[1;32m----> 1\u001b[0m \u001b[38;5;28mprint\u001b[39m(food_stuff_tp)\n",
      "\u001b[1;31mNameError\u001b[0m: name 'food_stuff_tp' is not defined"
     ]
    }
   ],
   "source": [
    "print(food_stuff_tp)"
   ]
  },
  {
   "cell_type": "code",
   "execution_count": null,
   "id": "bd13570d-086d-4fe1-9986-60ab2142e19e",
   "metadata": {},
   "outputs": [],
   "source": []
  }
 ],
 "metadata": {
  "kernelspec": {
   "display_name": "Python 3 (ipykernel)",
   "language": "python",
   "name": "python3"
  },
  "language_info": {
   "codemirror_mode": {
    "name": "ipython",
    "version": 3
   },
   "file_extension": ".py",
   "mimetype": "text/x-python",
   "name": "python",
   "nbconvert_exporter": "python",
   "pygments_lexer": "ipython3",
   "version": "3.11.7"
  }
 },
 "nbformat": 4,
 "nbformat_minor": 5
}
