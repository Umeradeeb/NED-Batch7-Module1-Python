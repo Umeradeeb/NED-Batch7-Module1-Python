{
 "cells": [
  {
   "cell_type": "markdown",
   "id": "74293936-c06c-493e-ae19-fdbb713aa069",
   "metadata": {},
   "source": [
    "### Multiple parameters and multiple arguments using \"**args\""
   ]
  },
  {
   "cell_type": "code",
   "execution_count": 1,
   "id": "763341d6-b5ea-43f9-94ae-d22ae47c0bc2",
   "metadata": {},
   "outputs": [
    {
     "name": "stdout",
     "output_type": "stream",
     "text": [
      "(0, 1, 2, 3, 4, 5)\n"
     ]
    }
   ],
   "source": [
    "def func1(*args):\n",
    "    print(args)\n",
    "func1(0,1,2,3,4,5)"
   ]
  },
  {
   "cell_type": "code",
   "execution_count": 2,
   "id": "ea187be9-dd6d-4322-a167-377c89872485",
   "metadata": {},
   "outputs": [
    {
     "name": "stdout",
     "output_type": "stream",
     "text": [
      "0\n",
      "1\n",
      "2\n",
      "3\n",
      "4\n",
      "5\n"
     ]
    }
   ],
   "source": [
    "def func1(*args):\n",
    "    for i in args:\n",
    "        print(i)\n",
    "func1(0,1,2,3,4,5)"
   ]
  },
  {
   "cell_type": "code",
   "execution_count": 8,
   "id": "63f4cfa1-cf6d-4b6a-a935-ac1066fc09e9",
   "metadata": {},
   "outputs": [
    {
     "name": "stdin",
     "output_type": "stream",
     "text": [
      "Enter your full name: Muhammad Umer Adeeb\n",
      "Enter your profession: Production Engineer\n",
      "Enter your gender Male\n",
      "Enter your age: 29\n",
      "Enter your specialization: Python\n"
     ]
    },
    {
     "name": "stdout",
     "output_type": "stream",
     "text": [
      "('Muhammad Umer Adeeb', 'Production Engineer', 'Male', 29, 'Python')\n"
     ]
    }
   ],
   "source": [
    "fname = input(\"Enter your full name:\")\n",
    "profession = input(\"Enter your profession:\")\n",
    "gender = input(\"Enter your gender\")\n",
    "age = int(input(\"Enter your age:\"))\n",
    "specialization = input(\"Enter your specialization:\")\n",
    "\n",
    "def userdetails(*args):\n",
    "    print(args)\n",
    "userdetails(fname,profession,gender,age,specialization)"
   ]
  },
  {
   "cell_type": "markdown",
   "id": "7d1c17c1-ed8a-4180-bfc7-dc3e9a0cceb2",
   "metadata": {},
   "source": [
    "***Not mandatory to use \"arg\", but make sure it should be * defined***"
   ]
  },
  {
   "cell_type": "code",
   "execution_count": 13,
   "id": "08d42c9e-f7e9-4aee-9094-93048c7efd77",
   "metadata": {},
   "outputs": [
    {
     "name": "stdout",
     "output_type": "stream",
     "text": [
      "The youngest programming is: Python\n"
     ]
    }
   ],
   "source": [
    "def myfunc(*prog):\n",
    "    print(\"The youngest programming is:\",prog[2])\n",
    "myfunc('Java', 'C', 'Python')"
   ]
  },
  {
   "cell_type": "markdown",
   "id": "2ef5ca02-53a7-449b-b6b2-20412832a4a8",
   "metadata": {},
   "source": [
    "### Multiple parameters and multiple arguments using **kwargs"
   ]
  },
  {
   "cell_type": "code",
   "execution_count": 14,
   "id": "47732aa7-2efc-4220-9482-705874570070",
   "metadata": {},
   "outputs": [
    {
     "ename": "SyntaxError",
     "evalue": "invalid syntax (3590158358.py, line 3)",
     "output_type": "error",
     "traceback": [
      "\u001b[1;36m  Cell \u001b[1;32mIn[14], line 3\u001b[1;36m\u001b[0m\n\u001b[1;33m    userdetails('fname':'Umer','profession':'PE','gender':'M')\u001b[0m\n\u001b[1;37m                       ^\u001b[0m\n\u001b[1;31mSyntaxError\u001b[0m\u001b[1;31m:\u001b[0m invalid syntax\n"
     ]
    }
   ],
   "source": [
    "def userdetails(*args):\n",
    "    print(args)\n",
    "userdetails('fname':'Umer','profession':'PE','gender':'M')"
   ]
  },
  {
   "cell_type": "code",
   "execution_count": 17,
   "id": "26f45ac0-ef05-4c29-9946-f306134fa2ee",
   "metadata": {},
   "outputs": [
    {
     "name": "stdout",
     "output_type": "stream",
     "text": [
      "{'Name': 'Umer', 'Age': 29, 'Gender': 'Male'}\n"
     ]
    }
   ],
   "source": [
    "def userdetails(**kwargs):\n",
    "    print(kwargs)\n",
    "userdetails(Name='Umer', Age=29, Gender = 'Male')"
   ]
  },
  {
   "cell_type": "markdown",
   "id": "62c8d309-3969-46bd-a9a5-ed73a71e7943",
   "metadata": {},
   "source": [
    "***kwargs only used in dictionary**"
   ]
  },
  {
   "cell_type": "code",
   "execution_count": 24,
   "id": "f9ccdd2d-5cf0-46cc-848d-37753662689e",
   "metadata": {},
   "outputs": [
    {
     "name": "stdout",
     "output_type": "stream",
     "text": [
      "Learningpythonisgreat!\n"
     ]
    }
   ],
   "source": [
    "def concatenate(**kwargs):\n",
    "    result =''\n",
    "    \n",
    "    for arg in kwargs.values():\n",
    "        result += arg\n",
    "    return result\n",
    "print(concatenate(a='Learning', b='python', c='is', d='great', e='!'))"
   ]
  },
  {
   "cell_type": "code",
   "execution_count": 25,
   "id": "05923a79-c628-4612-8fd3-0f0177e5746f",
   "metadata": {},
   "outputs": [
    {
     "name": "stdout",
     "output_type": "stream",
     "text": [
      "abcde\n"
     ]
    }
   ],
   "source": [
    "def concatenate(**kwargs):\n",
    "    result =''\n",
    "    \n",
    "    for arg in kwargs.keys():\n",
    "        result += arg\n",
    "    return result\n",
    "print(concatenate(a='Learning', b='python', c='is', d='great', e='!'))"
   ]
  },
  {
   "cell_type": "code",
   "execution_count": 30,
   "id": "cadb18cc-36a5-4c4f-b117-e16946a26563",
   "metadata": {},
   "outputs": [
    {
     "name": "stdout",
     "output_type": "stream",
     "text": [
      "Hello from outer function\n",
      "Hello from inner function\n"
     ]
    }
   ],
   "source": [
    "def func1():\n",
    "    print('Hello from outer function')\n",
    "    def func2():\n",
    "        print('Hello from inner function')\n",
    "    func2()\n",
    "func1()\n",
    "    "
   ]
  },
  {
   "cell_type": "code",
   "execution_count": 31,
   "id": "cac3cb80-17ff-44e9-b2b6-5cc4f0fb9273",
   "metadata": {},
   "outputs": [
    {
     "name": "stdout",
     "output_type": "stream",
     "text": [
      "<function num1.<locals>.num2 at 0x0000023055066340>\n",
      "50\n"
     ]
    }
   ],
   "source": [
    "def num1(x):\n",
    "    def num2(y):\n",
    "        return x*y\n",
    "    return num2\n",
    "res = num1(10)\n",
    "print(res)\n",
    "print(res(5))"
   ]
  },
  {
   "cell_type": "code",
   "execution_count": 32,
   "id": "d4333fcf-2004-422e-a5b0-7565401a42eb",
   "metadata": {},
   "outputs": [
    {
     "data": {
      "text/plain": [
       "150"
      ]
     },
     "execution_count": 32,
     "metadata": {},
     "output_type": "execute_result"
    }
   ],
   "source": [
    "def num1(x):\n",
    "    def num2(y):\n",
    "        def num3(z):\n",
    "            return x*y*z\n",
    "        return num3\n",
    "    return num2\n",
    "\n",
    "res = num1(10)\n",
    "a = res(5)\n",
    "a(3)\n"
   ]
  },
  {
   "cell_type": "code",
   "execution_count": 38,
   "id": "7d86d7b3-baac-4bc3-b7e9-6030fb47c270",
   "metadata": {},
   "outputs": [
    {
     "name": "stdout",
     "output_type": "stream",
     "text": [
      "Muhammad Umer Adeeb \n"
     ]
    }
   ],
   "source": [
    "def fname(name1):\n",
    "    def mname(name2):\n",
    "        def lname(name3):\n",
    "            return name1+name2+name3\n",
    "        return lname\n",
    "    return mname\n",
    "firstname = fname('Muhammad ')\n",
    "middlename = firstname('Umer ')\n",
    "lastname=middlename('Adeeb ')\n",
    "\n",
    "print(lastname)"
   ]
  },
  {
   "cell_type": "code",
   "execution_count": 45,
   "id": "aeb9cf67-9c41-45df-b461-05194d9b4094",
   "metadata": {},
   "outputs": [
    {
     "name": "stdout",
     "output_type": "stream",
     "text": [
      "2\n",
      "5\n"
     ]
    }
   ],
   "source": [
    "def function1(): #outer function\n",
    "    x=2   #a variable defined within the outer function\n",
    "    def function2(a):    #inner function\n",
    "        #lets define a new variable within the inner function\n",
    "        #rather then changine the value of x of the outer function\n",
    "        x=6\n",
    "        print(a+x)\n",
    "    print(x)    #to display the value of x of the outer function\n",
    "    function2(3)\n",
    "    \n",
    "function1()"
   ]
  },
  {
   "cell_type": "code",
   "execution_count": 1,
   "id": "1c686da2-f908-4a72-9648-7de2f8483d5d",
   "metadata": {},
   "outputs": [],
   "source": [
    "import calculator"
   ]
  },
  {
   "cell_type": "code",
   "execution_count": 2,
   "id": "9ff03b89-4ea3-418d-99a8-dbf9880e6bbe",
   "metadata": {},
   "outputs": [
    {
     "data": {
      "text/plain": [
       "5"
      ]
     },
     "execution_count": 2,
     "metadata": {},
     "output_type": "execute_result"
    }
   ],
   "source": [
    "calculator.addition(2,3)"
   ]
  },
  {
   "cell_type": "code",
   "execution_count": 3,
   "id": "c5ce095e-e5d6-48bb-b04f-3c34a2d2c7e4",
   "metadata": {},
   "outputs": [
    {
     "data": {
      "text/plain": [
       "8"
      ]
     },
     "execution_count": 3,
     "metadata": {},
     "output_type": "execute_result"
    }
   ],
   "source": [
    "calculator.cube(2)"
   ]
  },
  {
   "cell_type": "code",
   "execution_count": 5,
   "id": "72c7f795-67e6-449a-9d6f-e53875042f96",
   "metadata": {},
   "outputs": [
    {
     "data": {
      "text/plain": [
       "16"
      ]
     },
     "execution_count": 5,
     "metadata": {},
     "output_type": "execute_result"
    }
   ],
   "source": [
    "calculator.square(4)"
   ]
  },
  {
   "cell_type": "code",
   "execution_count": 1,
   "id": "3ac34fdf-922e-4d33-baa3-d25e5e085880",
   "metadata": {},
   "outputs": [],
   "source": [
    "import calculator"
   ]
  },
  {
   "cell_type": "code",
   "execution_count": 2,
   "id": "a25fe26f-ad91-463e-8cb9-312b61883668",
   "metadata": {},
   "outputs": [
    {
     "data": {
      "text/plain": [
       "5"
      ]
     },
     "execution_count": 2,
     "metadata": {},
     "output_type": "execute_result"
    }
   ],
   "source": [
    "calculator.addition(2,3)"
   ]
  },
  {
   "cell_type": "code",
   "execution_count": 3,
   "id": "a3c809de-829b-4c0e-8aca-d3409e2737fd",
   "metadata": {},
   "outputs": [
    {
     "data": {
      "text/plain": [
       "4"
      ]
     },
     "execution_count": 3,
     "metadata": {},
     "output_type": "execute_result"
    }
   ],
   "source": [
    "calculator.square(2)"
   ]
  },
  {
   "cell_type": "code",
   "execution_count": 2,
   "id": "ccc7eb6b-072f-4489-808f-96502252d47d",
   "metadata": {},
   "outputs": [
    {
     "ename": "NameError",
     "evalue": "name 'fname' is not defined",
     "output_type": "error",
     "traceback": [
      "\u001b[1;31m---------------------------------------------------------------------------\u001b[0m",
      "\u001b[1;31mNameError\u001b[0m                                 Traceback (most recent call last)",
      "Cell \u001b[1;32mIn[2], line 1\u001b[0m\n\u001b[1;32m----> 1\u001b[0m firstname \u001b[38;5;241m=\u001b[39m fname(\u001b[38;5;124m'\u001b[39m\u001b[38;5;124mMuhammad \u001b[39m\u001b[38;5;124m'\u001b[39m)\n\u001b[0;32m      2\u001b[0m middlename \u001b[38;5;241m=\u001b[39m firstname(\u001b[38;5;124m'\u001b[39m\u001b[38;5;124mUmer \u001b[39m\u001b[38;5;124m'\u001b[39m)\n\u001b[0;32m      3\u001b[0m lastname\u001b[38;5;241m=\u001b[39mmiddlename(\u001b[38;5;124m'\u001b[39m\u001b[38;5;124mAdeeb \u001b[39m\u001b[38;5;124m'\u001b[39m)\n",
      "\u001b[1;31mNameError\u001b[0m: name 'fname' is not defined"
     ]
    }
   ],
   "source": [
    "firstname = fname('Muhammad ')\n",
    "middlename = firstname('Umer ')\n",
    "lastname=middlename('Adeeb ')\n",
    "\n",
    "print(lastname)"
   ]
  },
  {
   "cell_type": "code",
   "execution_count": null,
   "id": "a5efca17-a5f8-4ed7-845f-713a658235e3",
   "metadata": {},
   "outputs": [],
   "source": []
  }
 ],
 "metadata": {
  "kernelspec": {
   "display_name": "Python 3 (ipykernel)",
   "language": "python",
   "name": "python3"
  },
  "language_info": {
   "codemirror_mode": {
    "name": "ipython",
    "version": 3
   },
   "file_extension": ".py",
   "mimetype": "text/x-python",
   "name": "python",
   "nbconvert_exporter": "python",
   "pygments_lexer": "ipython3",
   "version": "3.11.7"
  }
 },
 "nbformat": 4,
 "nbformat_minor": 5
}
