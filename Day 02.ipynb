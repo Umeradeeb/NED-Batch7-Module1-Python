{
 "cells": [
  {
   "cell_type": "code",
   "execution_count": 3,
   "id": "7fcf2e95-4599-44c8-93af-d4fe1631776f",
   "metadata": {},
   "outputs": [
    {
     "name": "stdout",
     "output_type": "stream",
     "text": [
      "sum\n"
     ]
    }
   ],
   "source": [
    "_ = \"sum\"\n",
    "print(_)"
   ]
  },
  {
   "cell_type": "code",
   "execution_count": 5,
   "id": "d8026323-d200-4727-9ce6-088018ffa973",
   "metadata": {},
   "outputs": [
    {
     "data": {
      "text/plain": [
       "11"
      ]
     },
     "execution_count": 5,
     "metadata": {},
     "output_type": "execute_result"
    }
   ],
   "source": [
    "num_1 = 5\n",
    "num_2 = 6\n",
    "sum = (num_1 + num_2)\n",
    "sum"
   ]
  },
  {
   "cell_type": "code",
   "execution_count": 6,
   "id": "a4ee813d-3c28-4d52-8ff3-beca296ac76e",
   "metadata": {},
   "outputs": [
    {
     "name": "stdin",
     "output_type": "stream",
     "text": [
      "Enter first number:  8\n",
      "Enter second number:  8\n"
     ]
    }
   ],
   "source": [
    "num_1 = input('Enter first number: ')\n",
    "num_2 = int(input('Enter second number: '))\n",
    "\n",
    "num_1 = int(num_1)"
   ]
  },
  {
   "cell_type": "code",
   "execution_count": 7,
   "id": "5c08e63f-b8e8-422a-9d4e-14be1dd2c968",
   "metadata": {},
   "outputs": [],
   "source": [
    "addition = num_1 + num_2"
   ]
  },
  {
   "cell_type": "code",
   "execution_count": 8,
   "id": "0162f94d-e659-4179-9a77-44ebb81617d5",
   "metadata": {},
   "outputs": [
    {
     "data": {
      "text/plain": [
       "16"
      ]
     },
     "execution_count": 8,
     "metadata": {},
     "output_type": "execute_result"
    }
   ],
   "source": [
    "addition"
   ]
  },
  {
   "cell_type": "code",
   "execution_count": 9,
   "id": "ef16e94b-d638-405b-9b7a-b4a9896b99a5",
   "metadata": {},
   "outputs": [
    {
     "name": "stdout",
     "output_type": "stream",
     "text": [
      "The sum of two numbers: 16\n"
     ]
    }
   ],
   "source": [
    "print(\"The sum of two numbers:\" ,addition)"
   ]
  },
  {
   "cell_type": "code",
   "execution_count": 10,
   "id": "c7bc0027-b6a0-46b0-848b-ff4262520f62",
   "metadata": {},
   "outputs": [
    {
     "name": "stdout",
     "output_type": "stream",
     "text": [
      "The sum of two numbers:16\n"
     ]
    }
   ],
   "source": [
    "print(\"The sum of two numbers:\" + str(addition))"
   ]
  },
  {
   "cell_type": "code",
   "execution_count": 11,
   "id": "05e060dd-a136-494c-b01a-9d16b785c6c7",
   "metadata": {},
   "outputs": [
    {
     "name": "stdout",
     "output_type": "stream",
     "text": [
      "The value of 2 numbers sum is: 16\n"
     ]
    }
   ],
   "source": [
    "print(f'The value of 2 numbers sum is: {addition}')"
   ]
  },
  {
   "cell_type": "code",
   "execution_count": 12,
   "id": "a407cba0-fe77-4305-a2c1-dec72ac53cdf",
   "metadata": {},
   "outputs": [
    {
     "name": "stdout",
     "output_type": "stream",
     "text": [
      "The value of 2 numbers sum is: 16\n"
     ]
    }
   ],
   "source": [
    "print('The value of 2 numbers sum is: {}'.format(addition))"
   ]
  },
  {
   "cell_type": "code",
   "execution_count": 19,
   "id": "32c6ecf9-c882-4454-ac73-181b4fe6923e",
   "metadata": {},
   "outputs": [
    {
     "name": "stdin",
     "output_type": "stream",
     "text": [
      "Enter mass: 80\n",
      "Enter acceleration: 22.5\n"
     ]
    },
    {
     "name": "stdout",
     "output_type": "stream",
     "text": [
      "Force= 1800.0\n"
     ]
    }
   ],
   "source": [
    "mass= float(input('Enter mass:'))\n",
    "acceleration= input('Enter acceleration:')\n",
    "acceleration= float(acceleration)\n",
    "Force= mass*acceleration\n",
    "print('Force=', Force)"
   ]
  },
  {
   "cell_type": "code",
   "execution_count": 33,
   "id": "4236b453-7197-49b9-9b71-766efec3ef60",
   "metadata": {},
   "outputs": [
    {
     "name": "stdin",
     "output_type": "stream",
     "text": [
      "Name: Muhammad Umer Adeeb\n",
      "Father name: Adeeb Ahmed\n",
      "Education: Bachelor of Engineering\n",
      "Gender: Male\n",
      "age: 29\n",
      "Profession: Production Engineer\n"
     ]
    }
   ],
   "source": [
    "Name= input('Name:')\n",
    "Father_name= input('Father name:')\n",
    "Education= input('Education:')\n",
    "Gender= input('Gender:')\n",
    "Age= input('age:')\n",
    "Profession= input('Profession:')\n",
    "\n",
    "\n",
    "    "
   ]
  },
  {
   "cell_type": "code",
   "execution_count": 34,
   "id": "cd3fc212-5000-46ea-8c2f-6c793d494df6",
   "metadata": {},
   "outputs": [
    {
     "name": "stdout",
     "output_type": "stream",
     "text": [
      "========================================\n",
      "========================================\n",
      "Portfolio of Mr. Muhammad Umer Adeeb\n",
      "========================================\n",
      "\n",
      "Name: Muhammad Umer Adeeb\n",
      "Father name: Adeeb Ahmed\n",
      "Education: Bachelor of Engineering\n",
      "Gender: Male\n",
      "Age: 29\n",
      "Profession: Production Engineer\n",
      "========================================\n",
      "========================================\n"
     ]
    }
   ],
   "source": [
    "if Gender == 'Male' or Gender == 'male' : title = 'Mr.'\n",
    "elif Gender == 'Female' or Gender== 'female': title = 'Mrs.'\n",
    "else: title = 'Unknown'\n",
    "print('='*40)\n",
    "print('='*40)\n",
    "print(f'Portfolio of {title}',Name)\n",
    "print('='*40)\n",
    "print()\n",
    "print('Name:' ,Name)\n",
    "print('Father name:' ,Father_name)\n",
    "print('Education:' ,Education)\n",
    "print('Gender:' ,Gender)\n",
    "print('Age:' ,Age)\n",
    "print('Profession:' ,Profession)\n",
    "print('='*40)\n",
    "print('='*40)"
   ]
  },
  {
   "cell_type": "code",
   "execution_count": null,
   "id": "88d04490-0428-4019-b439-6c82cb756b45",
   "metadata": {},
   "outputs": [],
   "source": []
  }
 ],
 "metadata": {
  "kernelspec": {
   "display_name": "Python 3 (ipykernel)",
   "language": "python",
   "name": "python3"
  },
  "language_info": {
   "codemirror_mode": {
    "name": "ipython",
    "version": 3
   },
   "file_extension": ".py",
   "mimetype": "text/x-python",
   "name": "python",
   "nbconvert_exporter": "python",
   "pygments_lexer": "ipython3",
   "version": "3.11.7"
  }
 },
 "nbformat": 4,
 "nbformat_minor": 5
}
