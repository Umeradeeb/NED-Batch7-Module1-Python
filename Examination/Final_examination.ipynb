{
 "cells": [
  {
   "cell_type": "markdown",
   "id": "d754290d-a44e-418f-8cb6-8e71903ee1d3",
   "metadata": {},
   "source": [
    "## Name: Muhammad Umer Adeeb\n",
    "## Email: umeradeeb94@gmail.com\n",
    "## Number: 03412114514\n",
    "## Profession: Production Engineer\n",
    "## Organization: Amreli Steels Limited"
   ]
  },
  {
   "cell_type": "markdown",
   "id": "8f8f1ec8-98d5-4611-8c14-b8895492ea41",
   "metadata": {},
   "source": [
    "## Q1: Given the list numbers = [10, 20, 30, 40, 50], write a Python code snippet to:"
   ]
  },
  {
   "cell_type": "code",
   "execution_count": 1,
   "id": "c62d6c57-4f9f-4224-b870-3af05a35ca90",
   "metadata": {},
   "outputs": [
    {
     "name": "stdout",
     "output_type": "stream",
     "text": [
      "[10, 20, 30, 40, 50, 60]\n",
      "[10, 30, 40, 50, 60]\n",
      "[10, 30, 80, 40, 50, 60]\n",
      "Sum of numbers in list: 270\n"
     ]
    }
   ],
   "source": [
    "#Append the number 60 to the list.\n",
    "numbers = [10, 20, 30, 40, 50] \n",
    "numbers.append(60)\n",
    "print(numbers)\n",
    "\n",
    "#Remove the number 20 from the list.\n",
    "numbers.remove(20)\n",
    "print(numbers)\n",
    "\n",
    "#Insert 80 at index 2.\n",
    "numbers.insert(2,80)\n",
    "print(numbers)\n",
    "\n",
    "#Print the sum of all the elements in the list.\n",
    "sum_numbers = sum(numbers)\n",
    "print('Sum of numbers in list:', sum_numbers)\n"
   ]
  },
  {
   "cell_type": "markdown",
   "id": "bb9f4543-f28c-41e0-9774-7032d68feb83",
   "metadata": {},
   "source": [
    "## Q2: Consider the tuple coordinates = (12.5, 45.8, 33.1)."
   ]
  },
  {
   "cell_type": "code",
   "execution_count": 2,
   "id": "a1818a46-c43b-401f-a589-dba63a8495ac",
   "metadata": {},
   "outputs": [
    {
     "name": "stdout",
     "output_type": "stream",
     "text": [
      "12.5\n",
      "45.8\n",
      "33.1\n"
     ]
    }
   ],
   "source": [
    "#Write a Python code snippet to unpack the values of the tuple into three variables: `x`, `y`, and `z`.\n",
    "\n",
    "x,y,z = (12.5, 45.8, 33.1)\n",
    "print(x)\n",
    "print(y)\n",
    "print(z)\n",
    "\n",
    "#Explain why tuples are generally preferred over lists for storing fixed sets of data.\n",
    "#Answer: Tuples are generally preferred over lists for storing fixed sets of data because tuples are immutable which means elements in tuples can't be changed and list are mutable allowing modifications."
   ]
  },
  {
   "cell_type": "markdown",
   "id": "ea39a16a-fec9-4b64-a774-77f78a62cadd",
   "metadata": {},
   "source": [
    "## Q3: Given the dictionary `student_scores = {Faraz: 85, Raza: 90, Ishaq: 78}`:"
   ]
  },
  {
   "cell_type": "code",
   "execution_count": 3,
   "id": "e12d7fff-7d54-419f-a078-2053146e866f",
   "metadata": {},
   "outputs": [
    {
     "name": "stdout",
     "output_type": "stream",
     "text": [
      "{'Faraz': 85, 'Raza': 90, 'Ishaq': 78, 'David': 92}\n",
      "{'Faraz': 85, 'Raza': 82, 'Ishaq': 78, 'David': 92}\n",
      "Faraz:85\n",
      "Raza:82\n",
      "Ishaq:78\n",
      "David:92\n"
     ]
    }
   ],
   "source": [
    "#Write a Python code snippet to add a new student `David` with a score of 92.\n",
    "student_scores = {'Faraz': 85, 'Raza': 90, 'Ishaq': 78} \n",
    "student_scores['David'] = 92\n",
    "print(student_scores)\n",
    "\n",
    "#Update Raza's score to 82.\n",
    "student_scores['Raza'] = 82\n",
    "print(student_scores)\n",
    "\n",
    "#Write a code snippet to print all student names and their scores in the format: `Name: Score`.\n",
    "for name, score in student_scores.items():\n",
    "    print(f'{name}:{score}')"
   ]
  },
  {
   "cell_type": "markdown",
   "id": "ce720c15-bc4b-4371-a098-989006c52a52",
   "metadata": {},
   "source": [
    "## Q4: Write a Python function called `calculate_mean` that takes a list of numbers as input and \n",
    "returns the mean (average) of the numbers."
   ]
  },
  {
   "cell_type": "code",
   "execution_count": 4,
   "id": "c1599507-b0b0-4c8c-aef3-10d7894a21c0",
   "metadata": {},
   "outputs": [
    {
     "name": "stdin",
     "output_type": "stream",
     "text": [
      "How many numbers you want to enter: 2\n",
      "Enter numbers: 3\n",
      "Enter numbers: 2\n"
     ]
    },
    {
     "name": "stdout",
     "output_type": "stream",
     "text": [
      "The mean of given numbers: 2.5\n"
     ]
    }
   ],
   "source": [
    "def calculate_mean(numbers):\n",
    "    if not numbers:\n",
    "        return 0\n",
    "    total_sum = sum(numbers)\n",
    "    mean = total_sum / len(numbers)\n",
    "    return mean\n",
    "\n",
    "def user():\n",
    "    n = int(input('How many numbers you want to enter:'))\n",
    "    numbers = []\n",
    "    for i in range(n):\n",
    "        num = float(input('Enter numbers:'))\n",
    "        numbers.append(num)\n",
    "    mean = calculate_mean(numbers)\n",
    "    print(f'The mean of given numbers: {mean}')\n",
    "user()"
   ]
  },
  {
   "cell_type": "markdown",
   "id": "98b76f98-064d-4cc6-8156-b7b01f00926b",
   "metadata": {},
   "source": [
    "## Q5: Write a Python function called `grade_students` that takes a dictionary of student names and \n",
    "their scores, and returns a new dictionary with student names and their corresponding grades (A \r\n",
    "B, C, D, F). Use the following grading scale:\r\n",
    "- A: 90-\n",
    "  100\r\n",
    "- B: 8\n",
    "  0-89\r\n",
    "- C: 70-79\r\n",
    "\r\n",
    "- D\n",
    "  : 60-69\r\n",
    "- F: Below 60"
   ]
  },
  {
   "cell_type": "code",
   "execution_count": 5,
   "id": "63cb7e3e-d9be-4bc5-b343-79368264cbe8",
   "metadata": {},
   "outputs": [
    {
     "name": "stdin",
     "output_type": "stream",
     "text": [
      "How many students names do you want to enter:  2\n",
      "Enter name of student:  umer\n",
      "Enter percentage for umer:  89\n",
      "Enter name of student:  wasay\n",
      "Enter percentage for wasay:  85\n"
     ]
    },
    {
     "name": "stdout",
     "output_type": "stream",
     "text": [
      "umer: B\n",
      "wasay: B\n"
     ]
    }
   ],
   "source": [
    "def grade(percentage):\n",
    "    if percentage >= 90:\n",
    "        return 'A'\n",
    "    elif percentage >= 80:\n",
    "        return 'B'\n",
    "    elif percentage >= 70:\n",
    "        return 'C'\n",
    "    elif percentage >= 60:\n",
    "        return 'D'\n",
    "    else:\n",
    "        return 'F'\n",
    "\n",
    "def result():\n",
    "    n = int(input('How many students names do you want to enter: '))\n",
    "    students_grade = {}\n",
    "\n",
    "    for i in range(n):\n",
    "        student_name = input('Enter name of student: ')\n",
    "        student_percentage = float(input(f'Enter percentage for {student_name}: '))\n",
    "        \n",
    "        grade_value = grade(student_percentage)\n",
    "        \n",
    "        students_grade[student_name] = grade_value\n",
    "\n",
    "    for student, grade_value in students_grade.items():\n",
    "        print(f'{student}: {grade_value}')\n",
    "\n",
    "\n",
    "result()"
   ]
  },
  {
   "cell_type": "markdown",
   "id": "88222ba8-5bcc-4b83-a073-f6cc00c7c91b",
   "metadata": {},
   "source": [
    "## Q6: Given a CSV file named `data.csv` with columns `Name`, `Age`, and `Salary`, write a Python \n",
    "code snippet using pandas to:"
   ]
  },
  {
   "cell_type": "code",
   "execution_count": 6,
   "id": "33f8d601-e4c0-4940-bdbf-b6c752006c5a",
   "metadata": {},
   "outputs": [],
   "source": [
    "import pandas as pd\n",
    "import numpy as np"
   ]
  },
  {
   "cell_type": "code",
   "execution_count": 7,
   "id": "3e2d6a7e-5179-4093-8748-744bf5bafb7c",
   "metadata": {},
   "outputs": [],
   "source": [
    "#Load the CSV file into a DataFrame.\n",
    "df = pd.read_csv('dataset.csv')"
   ]
  },
  {
   "cell_type": "code",
   "execution_count": 8,
   "id": "5c670059-c0f8-4407-a372-baff980111c8",
   "metadata": {},
   "outputs": [
    {
     "data": {
      "text/html": [
       "<div>\n",
       "<style scoped>\n",
       "    .dataframe tbody tr th:only-of-type {\n",
       "        vertical-align: middle;\n",
       "    }\n",
       "\n",
       "    .dataframe tbody tr th {\n",
       "        vertical-align: top;\n",
       "    }\n",
       "\n",
       "    .dataframe thead th {\n",
       "        text-align: right;\n",
       "    }\n",
       "</style>\n",
       "<table border=\"1\" class=\"dataframe\">\n",
       "  <thead>\n",
       "    <tr style=\"text-align: right;\">\n",
       "      <th></th>\n",
       "      <th>Name</th>\n",
       "      <th>Age</th>\n",
       "      <th>Salary</th>\n",
       "    </tr>\n",
       "  </thead>\n",
       "  <tbody>\n",
       "    <tr>\n",
       "      <th>0</th>\n",
       "      <td>Alice</td>\n",
       "      <td>28</td>\n",
       "      <td>70000</td>\n",
       "    </tr>\n",
       "    <tr>\n",
       "      <th>1</th>\n",
       "      <td>Bob</td>\n",
       "      <td>34</td>\n",
       "      <td>80000</td>\n",
       "    </tr>\n",
       "    <tr>\n",
       "      <th>2</th>\n",
       "      <td>Charlie</td>\n",
       "      <td>29</td>\n",
       "      <td>65000</td>\n",
       "    </tr>\n",
       "    <tr>\n",
       "      <th>3</th>\n",
       "      <td>David</td>\n",
       "      <td>40</td>\n",
       "      <td>120000</td>\n",
       "    </tr>\n",
       "    <tr>\n",
       "      <th>4</th>\n",
       "      <td>Eva</td>\n",
       "      <td>22</td>\n",
       "      <td>50000</td>\n",
       "    </tr>\n",
       "  </tbody>\n",
       "</table>\n",
       "</div>"
      ],
      "text/plain": [
       "      Name  Age  Salary\n",
       "0    Alice   28   70000\n",
       "1      Bob   34   80000\n",
       "2  Charlie   29   65000\n",
       "3    David   40  120000\n",
       "4      Eva   22   50000"
      ]
     },
     "execution_count": 8,
     "metadata": {},
     "output_type": "execute_result"
    }
   ],
   "source": [
    "#Display the first 5 rows of the DataFrame.\n",
    "df.head()"
   ]
  },
  {
   "cell_type": "code",
   "execution_count": 9,
   "id": "c119bcae-987b-43c4-993b-6758949e46db",
   "metadata": {},
   "outputs": [
    {
     "data": {
      "text/html": [
       "<div>\n",
       "<style scoped>\n",
       "    .dataframe tbody tr th:only-of-type {\n",
       "        vertical-align: middle;\n",
       "    }\n",
       "\n",
       "    .dataframe tbody tr th {\n",
       "        vertical-align: top;\n",
       "    }\n",
       "\n",
       "    .dataframe thead th {\n",
       "        text-align: right;\n",
       "    }\n",
       "</style>\n",
       "<table border=\"1\" class=\"dataframe\">\n",
       "  <thead>\n",
       "    <tr style=\"text-align: right;\">\n",
       "      <th></th>\n",
       "      <th>Name</th>\n",
       "      <th>Age</th>\n",
       "      <th>Salary</th>\n",
       "    </tr>\n",
       "  </thead>\n",
       "  <tbody>\n",
       "    <tr>\n",
       "      <th>5</th>\n",
       "      <td>Frank</td>\n",
       "      <td>36</td>\n",
       "      <td>95000</td>\n",
       "    </tr>\n",
       "    <tr>\n",
       "      <th>6</th>\n",
       "      <td>Grace</td>\n",
       "      <td>30</td>\n",
       "      <td>72000</td>\n",
       "    </tr>\n",
       "    <tr>\n",
       "      <th>7</th>\n",
       "      <td>Hannah</td>\n",
       "      <td>25</td>\n",
       "      <td>60000</td>\n",
       "    </tr>\n",
       "    <tr>\n",
       "      <th>8</th>\n",
       "      <td>Ian</td>\n",
       "      <td>45</td>\n",
       "      <td>130000</td>\n",
       "    </tr>\n",
       "    <tr>\n",
       "      <th>9</th>\n",
       "      <td>Jack</td>\n",
       "      <td>38</td>\n",
       "      <td>110000</td>\n",
       "    </tr>\n",
       "  </tbody>\n",
       "</table>\n",
       "</div>"
      ],
      "text/plain": [
       "     Name  Age  Salary\n",
       "5   Frank   36   95000\n",
       "6   Grace   30   72000\n",
       "7  Hannah   25   60000\n",
       "8     Ian   45  130000\n",
       "9    Jack   38  110000"
      ]
     },
     "execution_count": 9,
     "metadata": {},
     "output_type": "execute_result"
    }
   ],
   "source": [
    "#Display the last 5 rows of the DataFrame.\n",
    "df.tail()"
   ]
  },
  {
   "cell_type": "code",
   "execution_count": 10,
   "id": "177cec6b-6c91-4d58-b9bc-1154f7834d0f",
   "metadata": {},
   "outputs": [
    {
     "name": "stdout",
     "output_type": "stream",
     "text": [
      "Name      0\n",
      "Age       0\n",
      "Salary    0\n",
      "dtype: int64\n",
      "Mean salary: 85200.0\n"
     ]
    }
   ],
   "source": [
    "#Print the mean salary and see if any missing values present visualize the missing values if there.\n",
    "print(df.isnull().sum())\n",
    "print('Mean salary:', df['Salary'].mean())"
   ]
  },
  {
   "cell_type": "markdown",
   "id": "ed9c54e9-671b-46bd-a4ae-7b62a9f54adf",
   "metadata": {},
   "source": [
    "## Q7: Calculate and print summary statistics for the `Age` column (mean, median, standard \n",
    "deviation)."
   ]
  },
  {
   "cell_type": "code",
   "execution_count": 11,
   "id": "72f6899f-7dba-4339-8f98-d2f1a2ca7765",
   "metadata": {},
   "outputs": [
    {
     "name": "stdout",
     "output_type": "stream",
     "text": [
      "32.7\n",
      "32.0\n",
      "7.165503781622367\n",
      "count    10.000000\n",
      "mean     32.700000\n",
      "std       7.165504\n",
      "min      22.000000\n",
      "25%      28.250000\n",
      "50%      32.000000\n",
      "75%      37.500000\n",
      "max      45.000000\n",
      "Name: Age, dtype: float64\n"
     ]
    }
   ],
   "source": [
    "print(df['Age'].mean())\n",
    "print(df['Age'].median())\n",
    "print(df['Age'].std())\n",
    "print(df['Age'].describe())"
   ]
  },
  {
   "cell_type": "markdown",
   "id": "db26c09e-8f6f-4996-a066-7c683220ced2",
   "metadata": {},
   "source": [
    "## Q8: Using the same DataFrame, write a Python code snippet to:  Filter and print the records of employees who are older than 30 years."
   ]
  },
  {
   "cell_type": "code",
   "execution_count": 12,
   "id": "3bc2ec4b-6f23-417d-9209-04cb5352dd65",
   "metadata": {},
   "outputs": [
    {
     "name": "stdout",
     "output_type": "stream",
     "text": [
      "    Name  Age  Salary\n",
      "1    Bob   34   80000\n",
      "3  David   40  120000\n",
      "5  Frank   36   95000\n",
      "8    Ian   45  130000\n",
      "9   Jack   38  110000\n"
     ]
    }
   ],
   "source": [
    "filtered_df = df[df['Age']>30]\n",
    "print(filtered_df)"
   ]
  },
  {
   "cell_type": "markdown",
   "id": "830bfc3a-d009-4f3c-8603-be21b8398da5",
   "metadata": {},
   "source": [
    "## Q9: Using the same DataFrame, write a Python code snippet to:  Group the data by `Age` and calculate the mean salary for each age group  Print the result."
   ]
  },
  {
   "cell_type": "code",
   "execution_count": 13,
   "id": "90d4060e-ae89-4dc6-b42d-760ce175d792",
   "metadata": {},
   "outputs": [
    {
     "name": "stdout",
     "output_type": "stream",
     "text": [
      "Age\n",
      "22     50000.0\n",
      "25     60000.0\n",
      "28     70000.0\n",
      "29     65000.0\n",
      "30     72000.0\n",
      "34     80000.0\n",
      "36     95000.0\n",
      "38    110000.0\n",
      "40    120000.0\n",
      "45    130000.0\n",
      "Name: Salary, dtype: float64\n"
     ]
    }
   ],
   "source": [
    "group_age = df.groupby('Age')['Salary'].mean()\n",
    "print(group_age)"
   ]
  },
  {
   "cell_type": "markdown",
   "id": "32e66074-cb98-46d5-84c3-3278d56e4786",
   "metadata": {},
   "source": [
    "## Q10: Write a Python function called `load_and_describe_csv` that:\r",
    "-1. Takes the filename of a CSV file as input\n",
    ".-2. Loads the CSV file into a pandas DataFram\n",
    "e-3.\n",
    " Returns the DataFrame and its summary statistics."
   ]
  },
  {
   "cell_type": "code",
   "execution_count": 19,
   "id": "a4eb257d-5c9c-4827-8217-9d8ea38e651c",
   "metadata": {},
   "outputs": [
    {
     "name": "stdout",
     "output_type": "stream",
     "text": [
      "DataFrame:\n",
      "      Name  Age  Salary\n",
      "0    Alice   28   70000\n",
      "1      Bob   34   80000\n",
      "2  Charlie   29   65000\n",
      "3    David   40  120000\n",
      "4      Eva   22   50000\n",
      "\n",
      "Summary Statistics:\n",
      "             Age         Salary\n",
      "count  10.000000      10.000000\n",
      "mean   32.700000   85200.000000\n",
      "std     7.165504   27169.427263\n",
      "min    22.000000   50000.000000\n",
      "25%    28.250000   66250.000000\n",
      "50%    32.000000   76000.000000\n",
      "75%    37.500000  106250.000000\n",
      "max    45.000000  130000.000000\n"
     ]
    }
   ],
   "source": [
    "import pandas as pd\n",
    "def load_and_describe(file_name):\n",
    "    df = pd.read_csv(file_name)\n",
    "    summary_stats = df.describe()\n",
    "    return df, summary_stats\n",
    "\n",
    "file_name = 'dataset.csv'\n",
    "df, stats = load_and_describe(file_name)\n",
    "\n",
    "print(\"DataFrame:\")\n",
    "print(df.head())\n",
    "print(\"\\nSummary Statistics:\")\n",
    "print(stats) "
   ]
  },
  {
   "cell_type": "markdown",
   "id": "28e4b35d-dffd-4aa0-8397-2fbea0bb7794",
   "metadata": {},
   "source": [
    "## Q11: Bar graph and Pie chart"
   ]
  },
  {
   "cell_type": "code",
   "execution_count": null,
   "id": "cef90e09-d5f7-4f80-92cf-fdbddec2ce08",
   "metadata": {},
   "outputs": [],
   "source": [
    "from matplotlib import pyplot as plt"
   ]
  },
  {
   "cell_type": "code",
   "execution_count": null,
   "id": "af5334ec-0a1d-4a3d-9ac7-a2381d4a03ee",
   "metadata": {},
   "outputs": [],
   "source": [
    "products = ['Product A', 'Product B', 'Product C', 'Product D']\n",
    "sales = [350, 420, 300, 500]\n",
    "\n",
    "plt.title('Sales of Products')\n",
    "plt.xlabel('Products')\n",
    "plt.ylabel('Sales')\n",
    "plt.bar(products, sales, color='skyblue')\n",
    "\n",
    "plt.show()"
   ]
  },
  {
   "cell_type": "code",
   "execution_count": null,
   "id": "b78369c7-4b28-4844-8eb2-323e6ab85ebb",
   "metadata": {},
   "outputs": [],
   "source": [
    "plt.pie(sales, labels=products, autopct='%1.1f%%', colors=['gold', 'lightgreen', 'lightcoral', 'lightskyblue'],\n",
    "        wedgeprops={'edgecolor': 'black'})\n",
    "plt.title('Percentage of Sales by Product')\n",
    "explode = (0,0,0,0.1)\n",
    "\n",
    "\n",
    "plt.show() "
   ]
  },
  {
   "cell_type": "code",
   "execution_count": null,
   "id": "aa95bf23-417d-4705-9552-5a4a2aa84839",
   "metadata": {},
   "outputs": [],
   "source": []
  }
 ],
 "metadata": {
  "kernelspec": {
   "display_name": "Python 3 (ipykernel)",
   "language": "python",
   "name": "python3"
  },
  "language_info": {
   "codemirror_mode": {
    "name": "ipython",
    "version": 3
   },
   "file_extension": ".py",
   "mimetype": "text/x-python",
   "name": "python",
   "nbconvert_exporter": "python",
   "pygments_lexer": "ipython3",
   "version": "3.11.7"
  }
 },
 "nbformat": 4,
 "nbformat_minor": 5
}
