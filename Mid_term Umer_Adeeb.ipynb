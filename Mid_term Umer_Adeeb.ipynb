{
 "cells": [
  {
   "cell_type": "code",
   "execution_count": 1,
   "id": "8af2014b",
   "metadata": {},
   "outputs": [],
   "source": [
    "# Full Name:  Muhammad Umer Adeeb\n",
    "# Contact No: 03412114514\n",
    "# Program Name: PGD Data Science and AI"
   ]
  },
  {
   "cell_type": "markdown",
   "id": "dddb1d49",
   "metadata": {},
   "source": [
    "# Part 1: Attempt any 8 Question"
   ]
  },
  {
   "cell_type": "markdown",
   "id": "c75ab677",
   "metadata": {},
   "source": [
    "Question 1: \n",
    "Define two variables, `num1` and `num2`, with values 40 and 52 respectively.Write a Python expression to calculate the sum, difference, product, and quotient of these two variables."
   ]
  },
  {
   "cell_type": "code",
   "execution_count": 9,
   "id": "ca164cbe-1c84-4e5a-803c-23e77f8d0fe6",
   "metadata": {},
   "outputs": [
    {
     "name": "stdout",
     "output_type": "stream",
     "text": [
      "The sum of above two numbers is 92\n",
      "The difference between two numbers is -12\n",
      "The product of two numbers is 2080\n",
      "The quotient of two numbers is 0.7692307692307693\n"
     ]
    }
   ],
   "source": [
    "#Answer\n",
    "num1 = 40\n",
    "num2 = 52\n",
    "\n",
    "sum = num1+num2\n",
    "difference = num1-num2\n",
    "product = num1*num2\n",
    "quotient = num1/num2\n",
    "\n",
    "print('The sum of above two numbers is',sum)\n",
    "print('The difference between two numbers is',difference) \n",
    "print('The product of two numbers is',product)\n",
    "print('The quotient of two numbers is',quotient)"
   ]
  },
  {
   "cell_type": "markdown",
   "id": "8b493e32",
   "metadata": {},
   "source": [
    "Question 2: \n",
    "Write a Python script that checks if a number entered in a variable `num` by a user is positive, negative, or zero,or check if a user enter any invalid character and prints an appropriate message for each case."
   ]
  },
  {
   "cell_type": "code",
   "execution_count": 135,
   "id": "b433157d-c168-4e9f-9c9d-1b17c1aa17fc",
   "metadata": {},
   "outputs": [
    {
     "name": "stdin",
     "output_type": "stream",
     "text": [
      "Enter number: j\n"
     ]
    },
    {
     "name": "stdout",
     "output_type": "stream",
     "text": [
      "Invalid input! Please enter a valid integer.\n"
     ]
    }
   ],
   "source": [
    "#answer\n",
    "\n",
    "given_nr = input('Enter number:')\n",
    "\n",
    "if given_nr.lstrip('-').isdigit():\n",
    "    number = int(given_nr)\n",
    "\n",
    "    if number > 0:\n",
    "        print(number, 'is positive')\n",
    "    elif number == 0:\n",
    "        print('You entered', number)\n",
    "    else:\n",
    "        print(number, 'is negative')\n",
    "else:\n",
    "    print(\"Invalid input! Please enter a valid integer.\")\n"
   ]
  },
  {
   "cell_type": "markdown",
   "id": "17e2e808",
   "metadata": {},
   "source": [
    "Question 3:Write a Python script using a for loop to print all the even numbers between 1 and 20 (inclusive)."
   ]
  },
  {
   "cell_type": "code",
   "execution_count": 15,
   "id": "93123b37-922e-40d3-b28d-0575d8031e69",
   "metadata": {},
   "outputs": [
    {
     "name": "stdout",
     "output_type": "stream",
     "text": [
      "2\n",
      "4\n",
      "6\n",
      "8\n",
      "10\n",
      "12\n",
      "14\n",
      "16\n",
      "18\n",
      "20\n"
     ]
    }
   ],
   "source": [
    "#Answer\n",
    "for i in range(1,21):\n",
    "    if i%2 == 0:\n",
    "        print(i)\n",
    "    \n",
    "    "
   ]
  },
  {
   "cell_type": "markdown",
   "id": "5c6d13ad",
   "metadata": {},
   "source": [
    "Question 4:Create two string variables `first_name` and `last_name`. Write a Python script to concatenate these two strings with a space in between and print the full name"
   ]
  },
  {
   "cell_type": "code",
   "execution_count": 19,
   "id": "f8aa844d-6707-44d1-a8bd-0c76e0b9ab40",
   "metadata": {},
   "outputs": [
    {
     "name": "stdout",
     "output_type": "stream",
     "text": [
      "Full naame is Umer Adeeb\n"
     ]
    }
   ],
   "source": [
    "#Answer\n",
    "first_name = 'Umer'\n",
    "last_name = 'Adeeb'\n",
    "concatenate = first_name + ' ' + last_name \n",
    "print('Full naame is',concatenate)"
   ]
  },
  {
   "cell_type": "markdown",
   "id": "4014ba3f",
   "metadata": {},
   "source": [
    "Question 5: Write a Python script to calculate the area of a rectangle. The length and width of the rectangle should be stored in variables `length` and `width`."
   ]
  },
  {
   "cell_type": "code",
   "execution_count": 20,
   "id": "d7f72656-e94d-4b2d-b111-4b83380705cd",
   "metadata": {},
   "outputs": [
    {
     "name": "stdin",
     "output_type": "stream",
     "text": [
      "Enter length: 100\n",
      "Enter width: 25\n"
     ]
    },
    {
     "name": "stdout",
     "output_type": "stream",
     "text": [
      "The area of rectangle is 2500.0\n"
     ]
    }
   ],
   "source": [
    "#Answer\n",
    "length = float(input('Enter length:'))\n",
    "width = float(input('Enter width:'))\n",
    "area = length*width\n",
    "\n",
    "print('The area of rectangle is',area)"
   ]
  },
  {
   "cell_type": "markdown",
   "id": "571048cb",
   "metadata": {},
   "source": [
    "Question 6:Write a program to check if a string enter by a user is a palindrome or not."
   ]
  },
  {
   "cell_type": "code",
   "execution_count": 24,
   "id": "85378e0b-1231-46ae-a470-b3449f6df771",
   "metadata": {},
   "outputs": [
    {
     "name": "stdin",
     "output_type": "stream",
     "text": [
      "Enter a string: radar\n"
     ]
    },
    {
     "name": "stdout",
     "output_type": "stream",
     "text": [
      "radar\n",
      "radar is palindrome\n"
     ]
    }
   ],
   "source": [
    "#Answer\n",
    "str = input('Enter a string:')\n",
    "reverse = str[::-1]\n",
    "print(reverse)\n",
    "\n",
    "if str == reverse:\n",
    "    print(str,'is palindrome')\n",
    "else:\n",
    "    print(str,'is not palindrome')"
   ]
  },
  {
   "cell_type": "markdown",
   "id": "9248bc20",
   "metadata": {},
   "source": [
    "Question 7: Write a program to check if a number enter by user is prime. "
   ]
  },
  {
   "cell_type": "code",
   "execution_count": 118,
   "id": "c3450f2f-c8ac-488c-a23c-27b3fb82236d",
   "metadata": {},
   "outputs": [
    {
     "name": "stdin",
     "output_type": "stream",
     "text": [
      "Enter number: 45\n"
     ]
    },
    {
     "name": "stdout",
     "output_type": "stream",
     "text": [
      "45 is not a Prime number\n"
     ]
    }
   ],
   "source": [
    "#answer\n",
    "number = int(input('Enter number:'))\n",
    "\n",
    "prime_number = True\n",
    "if number >1:\n",
    "    for i in range(2, number):\n",
    "        if number % i == 0:\n",
    "            prime_number = False\n",
    "            break\n",
    "            \n",
    "    else:\n",
    "        prime_number=True\n",
    "else:\n",
    "    print('You have entered an invalid number')\n",
    "\n",
    "if prime_number:\n",
    "    print(number,'is a Prime number')\n",
    "else:\n",
    "    print(number,'is not a Prime number')"
   ]
  },
  {
   "cell_type": "markdown",
   "id": "e1e5801e",
   "metadata": {},
   "source": [
    "Question 8: Write a Python script that uses a for loop to iterate through numbers from 1 to 15. For each number, print \"Fizz\" if the number is divisible by 3, \"Buzz\" if it is divisible by 5, and \"FizzBuzz\" if it is divisible by both 3 and 5."
   ]
  },
  {
   "cell_type": "code",
   "execution_count": 115,
   "id": "0dd619da-e4f2-4645-88ba-983407ae5c2c",
   "metadata": {},
   "outputs": [
    {
     "name": "stdout",
     "output_type": "stream",
     "text": [
      "3 Fizz\n",
      "5 Buzz\n",
      "6 Fizz\n",
      "9 Fizz\n",
      "10 Buzz\n",
      "12 Fizz\n",
      "15 FizzBuzz\n"
     ]
    }
   ],
   "source": [
    "for i in range(1,16):\n",
    "    if i % 3 ==0 and  i %5==0:\n",
    "        print(i,'FizzBuzz')\n",
    "    elif i % 5 ==0:\n",
    "        print(i,'Buzz')\n",
    "    elif i % 3 == 0:\n",
    "        print(i,'Fizz')"
   ]
  },
  {
   "cell_type": "markdown",
   "id": "7601671a",
   "metadata": {},
   "source": [
    "Question 9 : Write a Python script that asks the user for their name and age, stores them in variables, and then prints a message saying \"Hello [name], you are [age] years old.\""
   ]
  },
  {
   "cell_type": "code",
   "execution_count": 28,
   "id": "351c5115-9825-442e-a1ea-429e043e6a84",
   "metadata": {},
   "outputs": [
    {
     "name": "stdin",
     "output_type": "stream",
     "text": [
      "Enter your name: Umer\n",
      "Enter your age: 29\n"
     ]
    },
    {
     "name": "stdout",
     "output_type": "stream",
     "text": [
      "Hello Umer you are 29 years old.\n"
     ]
    }
   ],
   "source": [
    "#Answer:\n",
    "name = input('Enter your name:')\n",
    "age = int(input('Enter your age:'))\n",
    "print(f'Hello {name} you are {age} years old.') "
   ]
  },
  {
   "cell_type": "markdown",
   "id": "41284e6f",
   "metadata": {},
   "source": [
    "# Part 2: Find error in a code and find the output "
   ]
  },
  {
   "cell_type": "code",
   "execution_count": 33,
   "id": "30970d1b",
   "metadata": {},
   "outputs": [
    {
     "data": {
      "text/plain": [
       "['Luis', 'DivyaMaria', 'Mimi', 'Arnold']"
      ]
     },
     "execution_count": 33,
     "metadata": {},
     "output_type": "execute_result"
    }
   ],
   "source": [
    "# student_names = ['Luis', 'Divya' 'Maria', 'Mimi')\n",
    "# student_names.append('Arnold)\n",
    "\n",
    "#Answer\n",
    "# There were two errors.\n",
    "#     1- Parentheses was used in the end of the list.\n",
    "#     2- Inverted comma was missing while appending element is list.\n",
    "\n",
    "student_names = ['Luis', 'Divya' 'Maria', 'Mimi']\n",
    "student_names.append('Arnold')\n",
    "student_names"
   ]
  },
  {
   "cell_type": "code",
   "execution_count": 50,
   "id": "f711c2d8",
   "metadata": {},
   "outputs": [
    {
     "name": "stdout",
     "output_type": "stream",
     "text": [
      "29\n"
     ]
    }
   ],
   "source": [
    "# find the sum of element in a list\n",
    "# nums = (3, 8, -4, 22, 0,)\n",
    "\n",
    "#for num in nums\n",
    "#num = num--1\n",
    "\n",
    "#Answer:\n",
    "# For sum += will be used.\n",
    "# Secondly 'sum' variable will be assigned to add elements present in tuple otherwise it will give error in for loop that int and tuple cannot itterate.\n",
    "\n",
    "# find the sum of element in a list\n",
    "nums = (3, 8, -4, 22, 0,)\n",
    "sum = 0\n",
    "for num in nums:\n",
    "    sum += num\n",
    "print(sum)\n",
    "    "
   ]
  },
  {
   "cell_type": "code",
   "execution_count": 56,
   "id": "85983334",
   "metadata": {},
   "outputs": [],
   "source": [
    "# ages = {\n",
    "# 'Ahmed': 21,\n",
    "# 'Faraz: 21\n",
    "# Sarah': 41\n",
    "# }\n",
    "\n",
    "# print('Faraz is {ages} years old.'.format(ages : 24))"
   ]
  },
  {
   "cell_type": "code",
   "execution_count": 70,
   "id": "c63d41d4-b8a1-4383-91e5-2f85deaa6290",
   "metadata": {},
   "outputs": [
    {
     "name": "stdout",
     "output_type": "stream",
     "text": [
      "Faraz is 21 years old.\n"
     ]
    }
   ],
   "source": [
    "#Answer:\n",
    "#inverted commas were missing and also coma which separate two elements of dictionary is missing after Faraz's age.\n",
    "#For printing Faraz age key value index is mi\n",
    "ages = {\n",
    "'Ahmed': 21,\n",
    "'Faraz': 21,\n",
    "'Sarah': 41\n",
    "}\n",
    "\n",
    "faraz = ages['Faraz']\n",
    "\n",
    "print('Faraz is {} years old.'.format(faraz))"
   ]
  },
  {
   "cell_type": "code",
   "execution_count": 5,
   "id": "9ce3605b",
   "metadata": {},
   "outputs": [],
   "source": [
    "# Define Mutable and immutable data types with example.\n",
    "# write a syntax of for loop"
   ]
  },
  {
   "cell_type": "code",
   "execution_count": 76,
   "id": "b79bacd2-80d7-4a00-ab42-07c5cb1effbf",
   "metadata": {},
   "outputs": [
    {
     "name": "stdout",
     "output_type": "stream",
     "text": [
      "[1, 6, 2, 3, 4, 5, 10]\n",
      "{'Name': 'Umer', 'Age': '29', 'city': 'Karachi'}\n"
     ]
    }
   ],
   "source": [
    "#Answer\n",
    "\n",
    "# List and dictionaries are mutable.\n",
    "# tuples are immutable\n",
    "\n",
    "list = [1,2,3,4,5]\n",
    "list.insert(1,6)\n",
    "list.append(10)\n",
    "print(list)\n",
    "\n",
    "dic = {'Name':'Umer', 'Age':'29'}\n",
    "dic['city'] = 'Karachi'\n",
    "print(dic)\n",
    "\n",
    "#for i in value:\n",
    "# here,\n",
    "# for is used to start a loop\n",
    "# i here act as an itterator\n",
    "# in in membership operator\n",
    "# value is the one which is itterable"
   ]
  },
  {
   "cell_type": "code",
   "execution_count": null,
   "id": "7fa0717d-91d0-49f6-82a7-03b0eecf29c8",
   "metadata": {},
   "outputs": [],
   "source": []
  }
 ],
 "metadata": {
  "kernelspec": {
   "display_name": "Python 3 (ipykernel)",
   "language": "python",
   "name": "python3"
  },
  "language_info": {
   "codemirror_mode": {
    "name": "ipython",
    "version": 3
   },
   "file_extension": ".py",
   "mimetype": "text/x-python",
   "name": "python",
   "nbconvert_exporter": "python",
   "pygments_lexer": "ipython3",
   "version": "3.11.7"
  }
 },
 "nbformat": 4,
 "nbformat_minor": 5
}
