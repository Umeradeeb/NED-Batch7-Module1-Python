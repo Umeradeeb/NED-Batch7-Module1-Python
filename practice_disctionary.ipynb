{
 "cells": [
  {
   "cell_type": "markdown",
   "id": "8d848a0f-4e11-43e7-ba0a-cdeb1758148c",
   "metadata": {},
   "source": [
    "Create an empty dictionary called dog. Add name, color, breed, legs, age to the dog dictionary. Create a student dictionary and add first_name, last_name, gender, age, marital status, skills, country, city and address as keys for the dictionary. Get the length of the student dictionary. Get the value of skills and check the data type, it should be a list. Modify the skills values by adding one or two skills. Get the dictionary keys as a list. Get the dictionary values as a list. Change the dictionary to a list of tuples using  method. Delete one of the items in the dictionary. Delete one of the dictionaries"
   ]
  },
  {
   "cell_type": "code",
   "execution_count": 1,
   "id": "36c997e6-9fdf-4742-a505-589e7ca8bd2d",
   "metadata": {},
   "outputs": [
    {
     "data": {
      "text/plain": [
       "{'Name': 'Tommy', 'Color': 'Black', 'Breed': 'Bully', 'Legs': 'Four'}"
      ]
     },
     "execution_count": 1,
     "metadata": {},
     "output_type": "execute_result"
    }
   ],
   "source": [
    "#Create an empty dictionary called dog. Add name, color, breed, legs, age to the dog dictionary\n",
    "dog = {}\n",
    "dog['Name'] = 'Tommy'\n",
    "dog['Color'] = 'Black'\n",
    "dog['Breed'] = 'Bully'\n",
    "dog['Legs'] = 'Four'\n",
    "dog"
   ]
  },
  {
   "cell_type": "code",
   "execution_count": 2,
   "id": "fa63f9fe-218c-47ed-8bb3-bbad87fe04ef",
   "metadata": {},
   "outputs": [
    {
     "name": "stdout",
     "output_type": "stream",
     "text": [
      "<class 'dict'>\n",
      "9\n",
      "{'First Name': 'Umer', 'Last Name': 'Adeeb', 'Gender': 'Male', 'Age': '29', 'Marital Status': 'Married', 'Skills': ['Python', 'Data Visualization', 'Business Intelligence'], 'Country': 'Pakistan', 'City': 'Karachi', 'Address': 'Scheme 33'}\n"
     ]
    }
   ],
   "source": [
    "#Create a student dictionary and add first_name, last_name, gender, age, marital status, skills, country, city and address as keys for the dictionary\n",
    "#Get the length of the student dictionary.\n",
    "student = {}\n",
    "student['First Name'] = 'Umer'\n",
    "student['Last Name'] = 'Adeeb'\n",
    "student['Gender'] = 'Male'\n",
    "student['Age'] = '29'\n",
    "student['Marital Status'] = 'Married'\n",
    "student['Skills'] = ['Python', 'Data Visualization', 'Business Intelligence']\n",
    "student['Country'] = 'Pakistan'\n",
    "student['City'] = 'Karachi'\n",
    "student['Address'] = 'Scheme 33'\n",
    "print(type(student))\n",
    "print(len(student))\n",
    "print(student)"
   ]
  },
  {
   "cell_type": "code",
   "execution_count": 3,
   "id": "fa3c53b2-9b86-4fb3-9044-b8369f9f66c2",
   "metadata": {},
   "outputs": [
    {
     "name": "stdout",
     "output_type": "stream",
     "text": [
      "['Python', 'Data Visualization', 'Business Intelligence']\n",
      "<class 'list'>\n"
     ]
    }
   ],
   "source": [
    "#Get the value of skills and check the data type it should be a list\n",
    "print(student['Skills'])\n",
    "print(type(student['Skills']))"
   ]
  },
  {
   "cell_type": "code",
   "execution_count": 4,
   "id": "75fc9aa8-617f-49df-8df5-0cd2393ca104",
   "metadata": {},
   "outputs": [
    {
     "name": "stdout",
     "output_type": "stream",
     "text": [
      "['Python', 'Data Visualization', 'Business Intelligence', 'Machine Learning', 'Deep Learning']\n",
      "<class 'list'>\n"
     ]
    }
   ],
   "source": [
    "#Modify the skills values by adding one or two skills.\n",
    "student['Skills'].append('Machine Learning')\n",
    "student['Skills'].append('Deep Learning')\n",
    "print(student['Skills'])\n",
    "print(type(student['Skills']))"
   ]
  },
  {
   "cell_type": "code",
   "execution_count": 5,
   "id": "0da8c35b-4652-46de-883a-2e23648fb2d6",
   "metadata": {},
   "outputs": [
    {
     "name": "stdout",
     "output_type": "stream",
     "text": [
      "['First Name', 'Last Name', 'Gender', 'Age', 'Marital Status', 'Skills', 'Country', 'City', 'Address']\n"
     ]
    }
   ],
   "source": [
    "#Get the dictionary keys as a list\n",
    "key= []\n",
    "for i in student.keys():\n",
    "    key.append(i)\n",
    "print(key)"
   ]
  },
  {
   "cell_type": "code",
   "execution_count": 6,
   "id": "f14193f9-0c4e-4fff-8172-0a1a77064e93",
   "metadata": {},
   "outputs": [
    {
     "name": "stdout",
     "output_type": "stream",
     "text": [
      "['Umer', 'Adeeb', 'Male', '29', 'Married', ['Python', 'Data Visualization', 'Business Intelligence', 'Machine Learning', 'Deep Learning'], 'Pakistan', 'Karachi', 'Scheme 33']\n"
     ]
    }
   ],
   "source": [
    "#Get the dictionary values as a list.\n",
    "values = []\n",
    "for i in student.values():\n",
    "    values.append(i)\n",
    "print(values)"
   ]
  },
  {
   "cell_type": "code",
   "execution_count": 7,
   "id": "ad6f6ef2-11c6-44f3-a65f-8fc77d67e177",
   "metadata": {},
   "outputs": [
    {
     "name": "stdout",
     "output_type": "stream",
     "text": [
      "<class 'list'>\n",
      "[('First Name', 'Umer'), ('Last Name', 'Adeeb'), ('Gender', 'Male'), ('Age', '29'), ('Marital Status', 'Married'), ('Skills', ['Python', 'Data Visualization', 'Business Intelligence', 'Machine Learning', 'Deep Learning']), ('Country', 'Pakistan'), ('City', 'Karachi'), ('Address', 'Scheme 33')]\n"
     ]
    }
   ],
   "source": [
    "#Change the dictionary to a list of tuples using method.\n",
    "tuple_list = [(key, value) for key, value in student.items()]\n",
    "\n",
    "print(type(tuple_list))\n",
    "print(tuple_list)"
   ]
  },
  {
   "cell_type": "code",
   "execution_count": 8,
   "id": "2d899af4-8f26-4567-8f3b-1f29bba2bdde",
   "metadata": {},
   "outputs": [],
   "source": [
    "#Delete one of the dictionaries\n",
    "dog.clear()"
   ]
  },
  {
   "cell_type": "code",
   "execution_count": 9,
   "id": "58290298-fb8b-4c55-8251-e02d0ce139a8",
   "metadata": {},
   "outputs": [
    {
     "data": {
      "text/plain": [
       "{}"
      ]
     },
     "execution_count": 9,
     "metadata": {},
     "output_type": "execute_result"
    }
   ],
   "source": [
    "dog"
   ]
  },
  {
   "cell_type": "code",
   "execution_count": null,
   "id": "bd3965b7-b731-4714-aae2-c2797fb1f1d3",
   "metadata": {},
   "outputs": [],
   "source": []
  }
 ],
 "metadata": {
  "kernelspec": {
   "display_name": "Python 3 (ipykernel)",
   "language": "python",
   "name": "python3"
  },
  "language_info": {
   "codemirror_mode": {
    "name": "ipython",
    "version": 3
   },
   "file_extension": ".py",
   "mimetype": "text/x-python",
   "name": "python",
   "nbconvert_exporter": "python",
   "pygments_lexer": "ipython3",
   "version": "3.11.7"
  }
 },
 "nbformat": 4,
 "nbformat_minor": 5
}
